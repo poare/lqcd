{
 "cells": [
  {
   "cell_type": "code",
   "execution_count": 1,
   "metadata": {},
   "outputs": [],
   "source": [
    "import numpy as np\n",
    "import matplotlib.pyplot as plt\n",
    "\n",
    "%load_ext autoreload\n",
    "%autoreload 2\n",
    "%matplotlib notebook"
   ]
  },
  {
   "cell_type": "code",
   "execution_count": 2,
   "metadata": {},
   "outputs": [],
   "source": [
    "# File with effective mass output.\n",
    "base = 'test_pion_mass_output/'\n",
    "file = base + 'cl3_16_48_b6p1_m0p2450_output1.txt'"
   ]
  },
  {
   "cell_type": "code",
   "execution_count": 3,
   "metadata": {},
   "outputs": [],
   "source": [
    "f = open(file, 'r')"
   ]
  },
  {
   "cell_type": "code",
   "execution_count": 4,
   "metadata": {},
   "outputs": [
    {
     "name": "stderr",
     "output_type": "stream",
     "text": [
      "/usr/local/lib/python3.7/site-packages/ipykernel_launcher.py:18: DeprecationWarning: elementwise comparison failed; this will raise an error in the future.\n"
     ]
    }
   ],
   "source": [
    "# New read in format: Each line after the first of form cfgId|a1+ib a2+ib ...\n",
    "f.readline()\n",
    "L3 = 48    #temporal extent of lattice\n",
    "C = []\n",
    "for line in f:\n",
    "    cur_line = np.zeros(L3, dtype=complex)\n",
    "    cfgIdx, rest = line.split('|')\n",
    "    cfgIdx = int(cfgIdx)\n",
    "    interps = rest.split(' ')    # now get real and complex\n",
    "    for n_t, x in enumerate(interps):\n",
    "        if not x.isspace():\n",
    "            real, imag = x.split('+i(')    #form should be x = a+i(b)\n",
    "            real = float(real)\n",
    "            imag = float(imag.replace(')', ''))\n",
    "            cur_line[n_t] = complex(real, imag)\n",
    "    #print(cur_line)\n",
    "    cur_line = [cur_line]\n",
    "    if C == []:\n",
    "        C = np.array(cur_line)\n",
    "    else:\n",
    "        C = np.append(C, cur_line, axis = 0)\n",
    "# ideally C should be a #configs x L3 array, so C[i, j] indexes configuration i with time extent j"
   ]
  },
  {
   "cell_type": "code",
   "execution_count": 5,
   "metadata": {},
   "outputs": [],
   "source": [
    "def bootstrap(C, n_boot = 500):\n",
    "    num_configs = C.shape[0]\n",
    "    n_t = C.shape[1]\n",
    "    samples = np.zeros((n_boot, n_t), dtype=complex)\n",
    "    for i in range(n_boot):\n",
    "        cfgIds = np.random.choice(num_configs, num_configs)    #Configuration ids to pick\n",
    "        samples[i, :] = np.mean(C[cfgIds, :], axis = 0)\n",
    "    return samples"
   ]
  },
  {
   "cell_type": "code",
   "execution_count": 6,
   "metadata": {},
   "outputs": [],
   "source": [
    "samples = bootstrap(C)\n",
    "Cavg = np.mean(np.abs(samples), axis = 0)\n",
    "σ = np.std(np.abs(samples), axis = 0)"
   ]
  },
  {
   "cell_type": "code",
   "execution_count": 7,
   "metadata": {},
   "outputs": [],
   "source": [
    "# Cavg = np.mean(np.abs(C), axis = 0)    #each of these should be a L3 size list\n",
    "# σ = np.std(np.abs(C), axis = 0)"
   ]
  },
  {
   "cell_type": "code",
   "execution_count": 8,
   "metadata": {},
   "outputs": [],
   "source": [
    "m = []\n",
    "σ_m = []\n",
    "for i in range(L3 - 1):\n",
    "    m.append(np.log(Cavg[i] / Cavg[i + 1]))\n",
    "    σ_m.append(np.sqrt((σ[i] / Cavg[i])**2 + (σ[i + 1] / Cavg[i + 1])**2))"
   ]
  },
  {
   "cell_type": "code",
   "execution_count": 9,
   "metadata": {},
   "outputs": [
    {
     "data": {
      "text/plain": [
       "(500, 48)"
      ]
     },
     "execution_count": 9,
     "metadata": {},
     "output_type": "execute_result"
    }
   ],
   "source": [
    "samples.shape"
   ]
  },
  {
   "cell_type": "code",
   "execution_count": 10,
   "metadata": {},
   "outputs": [
    {
     "data": {
      "text/plain": [
       "Text(0, 0.5, '$log(C(n_t))$')"
      ]
     },
     "execution_count": 10,
     "metadata": {},
     "output_type": "execute_result"
    },
    {
     "data": {
      "image/png": "[encoded data removed]",
      "text/plain": [
       "<Figure size 432x288 with 1 Axes>"
      ]
     },
     "metadata": {
      "needs_background": "light"
     },
     "output_type": "display_data"
    }
   ],
   "source": [
    "σ_logC = σ / Cavg    #σ_{log(C)} = σ_C / C\n",
    "plt.figure()\n",
    "# plt.scatter(n_t, np.log(np.abs(C)))\n",
    "plt.errorbar(range(1, n_t + 1), np.log(np.abs(Cavg)), yerr = np.log(σ_logC))\n",
    "plt.title('Correlation functions')\n",
    "plt.xlabel('$n_t$')\n",
    "plt.ylabel('$log(C(n_t))$')"
   ]
  },
  {
   "cell_type": "code",
   "execution_count": 11,
   "metadata": {},
   "outputs": [
    {
     "data": {
      "text/plain": [
       "Text(0, 0.5, '$m_{eff}$')"
      ]
     },
     "execution_count": 11,
     "metadata": {},
     "output_type": "execute_result"
    },
    {
     "data": {
      "image/png": "[encoded data removed]",
      "text/plain": [
       "<Figure size 432x288 with 1 Axes>"
      ]
     },
     "metadata": {
      "needs_background": "light"
     },
     "output_type": "display_data"
    }
   ],
   "source": [
    "plt.figure()\n",
    "plt.errorbar(range(1, n_t), m, yerr = σ_m)\n",
    "plt.title('Effective mass')\n",
    "plt.xlabel('$n_t$')\n",
    "plt.ylabel('$m_{eff}$')"
   ]
  },
  {
   "cell_type": "code",
   "execution_count": 12,
   "metadata": {},
   "outputs": [
    {
     "data": {
      "text/plain": [
       "[0.04870795200223694,\n",
       " 0.05896882922233574,\n",
       " 0.04106248059458114,\n",
       " 0.031206274656227172,\n",
       " 0.026429621156781886,\n",
       " 0.024496649528071103,\n",
       " 0.025055203870901148,\n",
       " 0.02757360113900835,\n",
       " 0.030566139095612045,\n",
       " 0.03214771076012539,\n",
       " 0.03284622177443231,\n",
       " 0.0337980404133216,\n",
       " 0.03408257135006614,\n",
       " 0.033698209345214,\n",
       " 0.033737528614945195,\n",
       " 0.03407234353837326,\n",
       " 0.03453188092795346,\n",
       " 0.0344930867720744,\n",
       " 0.03334752267983878,\n",
       " 0.03237757670419111,\n",
       " 0.0316456833805445,\n",
       " 0.031032916655891963,\n",
       " 0.03003260566195019,\n",
       " 0.025515738604306507,\n",
       " 0.025713274975520645,\n",
       " 0.030271631681788858,\n",
       " 0.03121691697622103,\n",
       " 0.031667533464932306,\n",
       " 0.032800291292206525,\n",
       " 0.03350906465938588,\n",
       " 0.03366312719158466,\n",
       " 0.03364502224644443,\n",
       " 0.03309242649499032,\n",
       " 0.03251295471213148,\n",
       " 0.03246002770401951,\n",
       " 0.03192581996792845,\n",
       " 0.03016310755448664,\n",
       " 0.02908524967726496,\n",
       " 0.027441181791939814,\n",
       " 0.025035037240612616,\n",
       " 0.0236811611548823,\n",
       " 0.023591150618760905,\n",
       " 0.02424199695391894,\n",
       " 0.025791551497960922,\n",
       " 0.031892911532297716,\n",
       " 0.0430118690143933,\n",
       " 0.060633296203649725]"
      ]
     },
     "execution_count": 12,
     "metadata": {},
     "output_type": "execute_result"
    }
   ],
   "source": [
    "σ_m"
   ]
  },
  {
   "cell_type": "code",
   "execution_count": null,
   "metadata": {},
   "outputs": [],
   "source": []
  }
 ],
 "metadata": {
  "kernelspec": {
   "display_name": "Python 3",
   "language": "python",
   "name": "python3"
  },
  "language_info": {
   "codemirror_mode": {
    "name": "ipython",
    "version": 3
   },
   "file_extension": ".py",
   "mimetype": "text/x-python",
   "name": "python",
   "nbconvert_exporter": "python",
   "pygments_lexer": "ipython3",
   "version": "3.7.4"
  },
  "latex_envs": {
   "LaTeX_envs_menu_present": true,
   "autocomplete": true,
   "bibliofile": "biblio.bib",
   "cite_by": "apalike",
   "current_citInitial": 1,
   "eqLabelWithNumbers": true,
   "eqNumInitial": 1,
   "hotkeys": {
    "equation": "Ctrl-E",
    "itemize": "Ctrl-I"
   },
   "labels_anchors": false,
   "latex_user_defs": false,
   "report_style_numbering": false,
   "user_envs_cfg": false
  }
 },
 "nbformat": 4,
 "nbformat_minor": 2
}
