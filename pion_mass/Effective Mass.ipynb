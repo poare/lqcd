{
 "cells": [
  {
   "cell_type": "code",
   "execution_count": 1,
   "metadata": {},
   "outputs": [],
   "source": [
    "import numpy as np\n",
    "import matplotlib.pyplot as plt\n",
    "\n",
    "%load_ext autoreload\n",
    "%autoreload 2\n",
    "%matplotlib notebook"
   ]
  },
  {
   "cell_type": "code",
   "execution_count": 2,
   "metadata": {},
   "outputs": [],
   "source": [
    "# File with effective mass output.\n",
    "base = 'test_pion_mass_output/'\n",
    "file = base + 'cl3_16_48_b6p1_m0p2450_output1.txt'"
   ]
  },
  {
   "cell_type": "code",
   "execution_count": 3,
   "metadata": {},
   "outputs": [],
   "source": [
    "f = open(file, 'r')"
   ]
  },
  {
   "cell_type": "code",
   "execution_count": 4,
   "metadata": {},
   "outputs": [
    {
     "name": "stderr",
     "output_type": "stream",
     "text": [
      "/usr/local/lib/python3.7/site-packages/ipykernel_launcher.py:18: DeprecationWarning: elementwise comparison failed; this will raise an error in the future.\n"
     ]
    }
   ],
   "source": [
    "# New read in format: Each line after the first of form cfgId|a1+ib a2+ib ...\n",
    "f.readline()\n",
    "L3 = 48    #temporal extent of lattice\n",
    "C = []\n",
    "for line in f:\n",
    "    cur_line = np.zeros(L3, dtype=complex)\n",
    "    cfgIdx, rest = line.split('|')\n",
    "    cfgIdx = int(cfgIdx)\n",
    "    interps = rest.split(' ')    # now get real and complex\n",
    "    for n_t, x in enumerate(interps):\n",
    "        if not x.isspace():\n",
    "            real, imag = x.split('+i(')    #form should be x = a+i(b)\n",
    "            real = float(real)\n",
    "            imag = float(imag.replace(')', ''))\n",
    "            cur_line[n_t] = complex(real, imag)\n",
    "    #print(cur_line)\n",
    "    cur_line = [cur_line]\n",
    "    if C == []:\n",
    "        C = np.array(cur_line)\n",
    "    else:\n",
    "        C = np.append(C, cur_line, axis = 0)\n",
    "# ideally C should be a #configs x L3 array, so C[i, j] indexes configuration i with time extent j"
   ]
  },
  {
   "cell_type": "code",
   "execution_count": 5,
   "metadata": {},
   "outputs": [
    {
     "data": {
      "text/plain": [
       "(-5.5404130355731215e-12-2.1554802506324115e-30j)"
      ]
     },
     "execution_count": 5,
     "metadata": {},
     "output_type": "execute_result"
    }
   ],
   "source": [
    "np.mean(C[:, 10])"
   ]
  },
  {
   "cell_type": "code",
   "execution_count": 6,
   "metadata": {},
   "outputs": [],
   "source": [
    "def bootstrap(C, n_boot = 500):\n",
    "    num_configs = C.shape[0]\n",
    "    n_t = C.shape[1]\n",
    "    samples = np.zeros((n_boot, n_t), dtype=complex)\n",
    "    for i in range(n_boot):\n",
    "        cfgIds = np.random.choice(num_configs, num_configs)    #Configuration ids to pick\n",
    "        samples[i, :] = np.mean(C[cfgIds, :], axis = 0)\n",
    "    return samples"
   ]
  },
  {
   "cell_type": "code",
   "execution_count": 7,
   "metadata": {},
   "outputs": [],
   "source": [
    "samples = bootstrap(C)\n",
    "Cavg = np.mean(np.abs(samples), axis = 0)\n",
    "σ = np.std(np.abs(samples), axis = 0)"
   ]
  },
  {
   "cell_type": "code",
   "execution_count": 8,
   "metadata": {},
   "outputs": [],
   "source": [
    "# Cavg = np.mean(np.abs(C), axis = 0)    #each of these should be a L3 size list\n",
    "# σ = np.std(np.abs(C), axis = 0)"
   ]
  },
  {
   "cell_type": "code",
   "execution_count": 9,
   "metadata": {},
   "outputs": [],
   "source": [
    "m = []\n",
    "σ_m = []\n",
    "for i in range(L3 - 1):\n",
    "    m.append(np.log(Cavg[i] / Cavg[i + 1]))\n",
    "    σ_m.append(np.sqrt((σ[i] / Cavg[i])**2 + (σ[i + 1] / Cavg[i + 1])**2))"
   ]
  },
  {
   "cell_type": "code",
   "execution_count": 10,
   "metadata": {},
   "outputs": [
    {
     "data": {
      "text/plain": [
       "array([2.17117780e-04, 1.22787962e-04, 8.16858696e-06, 6.04672393e-07,\n",
       "       5.12603639e-08, 5.03760887e-09, 5.37677066e-10, 6.55345326e-11,\n",
       "       8.27790615e-12, 1.04122199e-12, 1.19413446e-13, 1.37590396e-14,\n",
       "       1.57414561e-15, 1.66701252e-16, 1.66525458e-17, 1.61372243e-18,\n",
       "       1.44588337e-19, 1.22034175e-20, 9.82878863e-22, 6.99436336e-23,\n",
       "       5.13965283e-24, 3.37839250e-25, 2.17458063e-26, 1.31526170e-27,\n",
       "       1.13747519e-28, 1.20702363e-27, 2.04020026e-26, 3.07526499e-25,\n",
       "       4.74640500e-24, 6.84171285e-23, 9.03026232e-22, 1.16245493e-20,\n",
       "       1.39260756e-19, 1.54253534e-18, 1.59881545e-17, 1.65664722e-16,\n",
       "       1.51103283e-15, 1.32350373e-14, 1.13752930e-13, 9.26479904e-13,\n",
       "       7.65334729e-12, 6.30510554e-11, 5.24066855e-10, 5.03427747e-09,\n",
       "       5.01652326e-08, 6.04409013e-07, 8.74848095e-06, 1.18106270e-04])"
      ]
     },
     "execution_count": 10,
     "metadata": {},
     "output_type": "execute_result"
    }
   ],
   "source": [
    "σ"
   ]
  },
  {
   "cell_type": "code",
   "execution_count": 11,
   "metadata": {},
   "outputs": [
    {
     "data": {
      "text/plain": [
       "Text(0, 0.5, 'C(n_t)')"
      ]
     },
     "execution_count": 11,
     "metadata": {},
     "output_type": "execute_result"
    },
    {
     "data": {
      "image/png": "[encoded data removed]",
      "text/plain": [
       "<Figure size 432x288 with 1 Axes>"
      ]
     },
     "metadata": {
      "needs_background": "light"
     },
     "output_type": "display_data"
    }
   ],
   "source": [
    "σ_logC = σ / Cavg    #σ_{log(C)} = σ_C / C\n",
    "plt.figure()\n",
    "# plt.scatter(n_t, np.log(np.abs(C)))\n",
    "# plt.errorbar(range(1, n_t + 1), np.log(np.abs(Cavg)), yerr = np.log(σ_logC))\n",
    "# plt.semilogy(range(1, n_t + 1), np.abs(Cavg))\n",
    "plt.errorbar(range(1, n_t + 1), np.abs(Cavg), yerr = σ)\n",
    "plt.title('Correlation functions')\n",
    "plt.xlabel('$n_t$')\n",
    "# plt.ylabel('$log(C(n_t))$')\n",
    "plt.ylabel('C(n_t)')"
   ]
  },
  {
   "cell_type": "code",
   "execution_count": 12,
   "metadata": {},
   "outputs": [
    {
     "data": {
      "text/plain": [
       "Text(0, 0.5, '$m_{eff}$')"
      ]
     },
     "execution_count": 12,
     "metadata": {},
     "output_type": "execute_result"
    },
    {
     "data": {
      "image/png": "[encoded data removed]",
      "text/plain": [
       "<Figure size 432x288 with 1 Axes>"
      ]
     },
     "metadata": {
      "needs_background": "light"
     },
     "output_type": "display_data"
    }
   ],
   "source": [
    "plt.figure()\n",
    "plt.errorbar(range(1, n_t), m, yerr = σ_m)\n",
    "plt.title('Effective mass')\n",
    "plt.xlabel('$n_t$')\n",
    "plt.ylabel('$m_{eff}$')"
   ]
  },
  {
   "cell_type": "code",
   "execution_count": null,
   "metadata": {},
   "outputs": [],
   "source": []
  }
 ],
 "metadata": {
  "kernelspec": {
   "display_name": "Python 3",
   "language": "python",
   "name": "python3"
  },
  "language_info": {
   "codemirror_mode": {
    "name": "ipython",
    "version": 3
   },
   "file_extension": ".py",
   "mimetype": "text/x-python",
   "name": "python",
   "nbconvert_exporter": "python",
   "pygments_lexer": "ipython3",
   "version": "3.7.4"
  },
  "latex_envs": {
   "LaTeX_envs_menu_present": true,
   "autocomplete": true,
   "bibliofile": "biblio.bib",
   "cite_by": "apalike",
   "current_citInitial": 1,
   "eqLabelWithNumbers": true,
   "eqNumInitial": 1,
   "hotkeys": {
    "equation": "Ctrl-E",
    "itemize": "Ctrl-I"
   },
   "labels_anchors": false,
   "latex_user_defs": false,
   "report_style_numbering": false,
   "user_envs_cfg": false
  }
 },
 "nbformat": 4,
 "nbformat_minor": 2
}
