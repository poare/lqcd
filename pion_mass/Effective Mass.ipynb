{
 "cells": [
  {
   "cell_type": "code",
   "execution_count": 1,
   "metadata": {},
   "outputs": [],
   "source": [
    "%load_ext autoreload\n",
    "%autoreload 2\n",
    "%matplotlib notebook\n",
    "\n",
    "import numpy as np\n",
    "import matplotlib.pyplot as plt\n",
    "from scipy.optimize import root"
   ]
  },
  {
   "cell_type": "markdown",
   "metadata": {},
   "source": [
    "## Read in data and bootstrap"
   ]
  },
  {
   "cell_type": "code",
   "execution_count": 2,
   "metadata": {},
   "outputs": [],
   "source": [
    "# File with effective mass output.\n",
    "base = 'test_pion_mass_output/'\n",
    "file = base + 'cl3_16_48_b6p1_m0p2450_output1.txt'"
   ]
  },
  {
   "cell_type": "code",
   "execution_count": 3,
   "metadata": {},
   "outputs": [],
   "source": [
    "f = open(file, 'r')"
   ]
  },
  {
   "cell_type": "code",
   "execution_count": 4,
   "metadata": {},
   "outputs": [
    {
     "name": "stderr",
     "output_type": "stream",
     "text": [
      "/usr/local/lib/python3.7/site-packages/ipykernel_launcher.py:18: DeprecationWarning: elementwise comparison failed; this will raise an error in the future.\n"
     ]
    }
   ],
   "source": [
    "# New read in format: Each line after the first of form cfgId|a1+ib a2+ib ...\n",
    "f.readline()\n",
    "L3 = 48    #temporal extent of lattice\n",
    "C = []\n",
    "for line in f:\n",
    "    cur_line = np.zeros(L3, dtype=complex)\n",
    "    cfgIdx, rest = line.split('|')\n",
    "    cfgIdx = int(cfgIdx)\n",
    "    interps = rest.split(' ')    # now get real and complex\n",
    "    for n_t, x in enumerate(interps):\n",
    "        if not x.isspace():\n",
    "            real, imag = x.split('+i(')    #form should be x = a+i(b)\n",
    "            real = float(real)\n",
    "            imag = float(imag.replace(')', ''))\n",
    "            cur_line[n_t] = complex(real, imag)\n",
    "    #print(cur_line)\n",
    "    cur_line = [cur_line]\n",
    "    if C == []:\n",
    "        C = np.array(cur_line)\n",
    "    else:\n",
    "        C = np.append(C, cur_line, axis = 0)"
   ]
  },
  {
   "cell_type": "code",
   "execution_count": 5,
   "metadata": {},
   "outputs": [],
   "source": [
    "def bootstrap(C, n_boot = 500):\n",
    "    num_configs = C.shape[0]\n",
    "    n_t = C.shape[1]\n",
    "    samples = np.zeros((n_boot, num_configs, n_t), dtype = complex)\n",
    "    for i in range(n_boot):\n",
    "        cfgIds = np.random.choice(num_configs, num_configs)    #Configuration ids to pick\n",
    "        samples[i, :, :] = C[cfgIds, :]\n",
    "    return samples"
   ]
  },
  {
   "cell_type": "code",
   "execution_count": 6,
   "metadata": {},
   "outputs": [
    {
     "name": "stdout",
     "output_type": "stream",
     "text": [
      "(500, 253, 48)\n"
     ]
    }
   ],
   "source": [
    "num_configs = C.shape[0]\n",
    "n_t = C.shape[1]\n",
    "samples = bootstrap(C)\n",
    "print(samples.shape)"
   ]
  },
  {
   "cell_type": "markdown",
   "metadata": {},
   "source": [
    "## Compute correlation function and effective mass"
   ]
  },
  {
   "cell_type": "code",
   "execution_count": 7,
   "metadata": {},
   "outputs": [],
   "source": [
    "# Compute ensemble average of each correlation function\n",
    "ensemble_avg = np.mean(samples, axis = 1)\n",
    "μ_C = np.abs(np.mean(ensemble_avg, axis = 0))\n",
    "σ_C = np.abs(np.std(ensemble_avg, axis = 0))"
   ]
  },
  {
   "cell_type": "code",
   "execution_count": 8,
   "metadata": {},
   "outputs": [],
   "source": [
    "# Compute effective mass\n",
    "ratios = np.abs(ensemble_avg / np.roll(ensemble_avg, shift = -1, axis = 1))[:, :-1]\n",
    "m_eff_ensemble = np.log(ratios)\n",
    "μ_m_eff = np.mean(m_eff_ensemble, axis = 0)\n",
    "σ_m_eff = np.std(m_eff_ensemble, axis = 0, ddof = 1)"
   ]
  },
  {
   "cell_type": "code",
   "execution_count": null,
   "metadata": {},
   "outputs": [],
   "source": [
    "# Compute cosh-corrected effective mass\n",
    "N = 48\n",
    "cosh_m_eff_ensemble = np.zeros(ratios.shape)\n",
    "for ens_idx in range(ratios.shape[0]):\n",
    "    for t in range(ratios.shape[1]):\n",
    "        m = root(lambda m : ratios[ens_idx, t] - np.cosh(m * (t - N / 2)) / np.cosh(m * (t + 1 - N / 2)), \\\n",
    "                     m_eff_ensemble[ens_idx, t])\n",
    "        cosh_m_eff_ensemble[ens_idx, t] = m.x\n",
    "μ_cosh = np.mean(cosh_m_eff_ensemble, axis = 0)\n",
    "σ_cosh = np.std(cosh_m_eff_ensemble, axis = 0, ddof = 1)"
   ]
  },
  {
   "cell_type": "code",
   "execution_count": null,
   "metadata": {},
   "outputs": [],
   "source": [
    "plt.figure()\n",
    "plt.errorbar(range(1, n_t + 1), μ_C, yerr = σ_C)\n",
    "plt.yscale('log')\n",
    "plt.title('Correlation functions')\n",
    "plt.xlabel('$n_t$')\n",
    "plt.ylabel('$log(C(n_t))$')"
   ]
  },
  {
   "cell_type": "code",
   "execution_count": null,
   "metadata": {},
   "outputs": [],
   "source": [
    "plt.figure()\n",
    "plt.errorbar(range(1, n_t), μ_m_eff, yerr = σ_m_eff)\n",
    "plt.title('Effective mass')\n",
    "plt.ylim((-3, 3))\n",
    "plt.xlabel('$n_t$')\n",
    "plt.ylabel('$m_{eff}$')"
   ]
  },
  {
   "cell_type": "code",
   "execution_count": null,
   "metadata": {},
   "outputs": [],
   "source": [
    "plt.figure()\n",
    "# plt.plot(range(1, n_t), cosh_m_eff, 'r', label = 'cosh-corrected')\n",
    "plt.plot(range(1, n_t), μ_cosh, 'r', label = 'cosh-corrected')\n",
    "plt.plot(range(1, n_t), μ_m_eff, 'b', label = 'exponential')\n",
    "\n",
    "plt.title('$m_{eff}$ vs. cosh-corrected $m_{eff}$')\n",
    "plt.ylim((-3, 3))\n",
    "plt.xlabel('$n_t$')\n",
    "plt.ylabel('$m_{eff}$')\n",
    "plt.legend()\n",
    "\n",
    "plt.show()"
   ]
  },
  {
   "cell_type": "markdown",
   "metadata": {},
   "source": [
    "## Determine error scaling"
   ]
  },
  {
   "cell_type": "code",
   "execution_count": null,
   "metadata": {},
   "outputs": [],
   "source": [
    "base_time = 15\n",
    "cfg_list = range(10, num_configs, 10)\n",
    "err = np.zeros(len(cfg_list))\n",
    "for i, n in enumerate(cfg_list):    # sample n configurations from C\n",
    "    config_ids = np.random.choice(num_configs, n, replace = False)\n",
    "    C_sub = C[config_ids, :]    #now get error on the subsampled C\n",
    "    subensemble = bootstrap(C_sub)\n",
    "    subensemble_avg = np.mean(subensemble, axis = 1)\n",
    "    σ = np.abs(np.std(subensemble_avg, axis = 0))\n",
    "    err[i] = σ[base_time]"
   ]
  },
  {
   "cell_type": "code",
   "execution_count": null,
   "metadata": {},
   "outputs": [],
   "source": [
    "err"
   ]
  },
  {
   "cell_type": "code",
   "execution_count": null,
   "metadata": {},
   "outputs": [],
   "source": [
    "plt.figure()\n",
    "plt.scatter(cfg_list, err)\n",
    "plt.title('Error scaling')\n",
    "plt.xlabel('Number of configurations sampled')\n",
    "plt.ylabel('Error at time $n_t$ = ' + str(base_time))\n",
    "plt.ylim((1e-18, 1e-17))\n",
    "plt.show()"
   ]
  },
  {
   "cell_type": "code",
   "execution_count": null,
   "metadata": {},
   "outputs": [],
   "source": []
  }
 ],
 "metadata": {
  "kernelspec": {
   "display_name": "Python 3",
   "language": "python",
   "name": "python3"
  },
  "language_info": {
   "codemirror_mode": {
    "name": "ipython",
    "version": 3
   },
   "file_extension": ".py",
   "mimetype": "text/x-python",
   "name": "python",
   "nbconvert_exporter": "python",
   "pygments_lexer": "ipython3",
   "version": "3.7.4"
  },
  "latex_envs": {
   "LaTeX_envs_menu_present": true,
   "autocomplete": true,
   "bibliofile": "biblio.bib",
   "cite_by": "apalike",
   "current_citInitial": 1,
   "eqLabelWithNumbers": true,
   "eqNumInitial": 1,
   "hotkeys": {
    "equation": "Ctrl-E",
    "itemize": "Ctrl-I"
   },
   "labels_anchors": false,
   "latex_user_defs": false,
   "report_style_numbering": false,
   "user_envs_cfg": false
  }
 },
 "nbformat": 4,
 "nbformat_minor": 2
}
