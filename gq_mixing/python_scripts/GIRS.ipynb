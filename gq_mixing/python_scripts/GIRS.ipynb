{
 "cells": [
  {
   "cell_type": "code",
   "execution_count": 1,
   "id": "978c8234",
   "metadata": {},
   "outputs": [],
   "source": [
    "%load_ext autoreload\n",
    "%autoreload 2\n",
    "# %matplotlib notebook\n",
    "\n",
    "import numpy as np\n",
    "import pandas as pd\n",
    "import matplotlib.pyplot as plt\n",
    "import matplotlib.cm as cm\n",
    "import matplotlib.patches as mpatches\n",
    "from scipy.optimize import root\n",
    "import h5py\n",
    "import os\n",
    "import itertools\n",
    "import gvar as gv\n",
    "\n",
    "n_boot = 100\n",
    "from utils import *\n",
    "\n",
    "import sys\n",
    "sys.path.append('/Users/theoares/lqcd/utilities')\n",
    "from pytools import *\n",
    "from formattools import *\n",
    "from plottools import *\n",
    "style = styles['notebook']"
   ]
  },
  {
   "cell_type": "code",
   "execution_count": 3,
   "id": "a0538b64",
   "metadata": {},
   "outputs": [],
   "source": [
    "f = h5py.File('/Users/theoares/Dropbox (MIT)/research/gq_mixing/meas/girs/cl3_16_48_b6p1_m0p2450_167125/cfg1600.h5', 'r')"
   ]
  },
  {
   "cell_type": "code",
   "execution_count": 8,
   "id": "ad9d80e9",
   "metadata": {},
   "outputs": [],
   "source": [
    "T = 48\n",
    "G01 = np.zeros((T), dtype = np.complex64)\n",
    "G12 = np.zeros((T), dtype = np.complex64)\n",
    "G23 = np.zeros((T), dtype = np.complex64)\n",
    "for t in range(T):\n",
    "    G01[t] = f['G01/t' + str(t)][()]"
   ]
  },
  {
   "cell_type": "code",
   "execution_count": 12,
   "id": "53baf45c",
   "metadata": {},
   "outputs": [
    {
     "data": {
      "text/plain": [
       "0j"
      ]
     },
     "execution_count": 12,
     "metadata": {},
     "output_type": "execute_result"
    }
   ],
   "source": [
    "f['G01/t3'][()]"
   ]
  },
  {
   "cell_type": "code",
   "execution_count": null,
   "id": "e1aae56f",
   "metadata": {},
   "outputs": [],
   "source": []
  }
 ],
 "metadata": {
  "kernelspec": {
   "display_name": "Python 3 (ipykernel)",
   "language": "python",
   "name": "python3"
  },
  "language_info": {
   "codemirror_mode": {
    "name": "ipython",
    "version": 3
   },
   "file_extension": ".py",
   "mimetype": "text/x-python",
   "name": "python",
   "nbconvert_exporter": "python",
   "pygments_lexer": "ipython3",
   "version": "3.10.2"
  },
  "latex_envs": {
   "LaTeX_envs_menu_present": true,
   "autocomplete": true,
   "bibliofile": "biblio.bib",
   "cite_by": "apalike",
   "current_citInitial": 1,
   "eqLabelWithNumbers": true,
   "eqNumInitial": 1,
   "hotkeys": {
    "equation": "Ctrl-E",
    "itemize": "Ctrl-I"
   },
   "labels_anchors": false,
   "latex_user_defs": false,
   "report_style_numbering": false,
   "user_envs_cfg": false
  }
 },
 "nbformat": 4,
 "nbformat_minor": 5
}
