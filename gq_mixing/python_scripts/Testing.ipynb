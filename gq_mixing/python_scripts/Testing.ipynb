{
 "cells": [
  {
   "cell_type": "code",
   "execution_count": 1,
   "metadata": {},
   "outputs": [],
   "source": [
    "%load_ext autoreload\n",
    "%autoreload 2\n",
    "%matplotlib notebook\n",
    "\n",
    "# use CMU Serif\n",
    "import matplotlib as mpl\n",
    "import matplotlib.font_manager as font_manager\n",
    "mpl.rcParams['font.family']='serif'\n",
    "cmfont = font_manager.FontProperties(fname=mpl.get_data_path() + '/fonts/ttf/cmr10.ttf')\n",
    "# cmfont = font_manager.FontProperties('/Users/theoares/Library/Fonts/cmunrm.otf')\n",
    "mpl.rcParams['font.serif']=cmfont.get_name()\n",
    "mpl.rcParams['mathtext.fontset']='cm'\n",
    "mpl.rcParams['axes.unicode_minus']=False\n",
    "\n",
    "from mpl_toolkits.axes_grid1.inset_locator import zoomed_inset_axes\n",
    "from mpl_toolkits.axes_grid1.inset_locator import inset_axes\n",
    "from mpl_toolkits.axes_grid1.inset_locator import mark_inset\n",
    "from matplotlib.transforms import Bbox\n",
    "\n",
    "import numpy as np\n",
    "import matplotlib.pyplot as plt\n",
    "from scipy.optimize import root\n",
    "import h5py\n",
    "import os\n",
    "import itertools\n",
    "\n",
    "n_boot = 200\n",
    "from utils import *"
   ]
  },
  {
   "cell_type": "markdown",
   "metadata": {},
   "source": [
    "## Confirm npr_momfrac output is the same as what we have here"
   ]
  },
  {
   "cell_type": "code",
   "execution_count": 7,
   "metadata": {},
   "outputs": [
    {
     "ename": "TypeError",
     "evalue": "Accessing a group is done with bytes or str,  not <class 'tuple'>",
     "output_type": "error",
     "traceback": [
      "\u001b[0;31m---------------------------------------------------------------------------\u001b[0m",
      "\u001b[0;31mTypeError\u001b[0m                                 Traceback (most recent call last)",
      "Input \u001b[0;32mIn [7]\u001b[0m, in \u001b[0;36m<module>\u001b[0;34m\u001b[0m\n\u001b[1;32m      1\u001b[0m mu \u001b[38;5;241m=\u001b[39m \u001b[38;5;241m0\u001b[39m\n\u001b[0;32m----> 2\u001b[0m \u001b[43mf_npr\u001b[49m\u001b[43m[\u001b[49m\u001b[38;5;124;43m'\u001b[39;49m\u001b[38;5;124;43mO\u001b[39;49m\u001b[38;5;124;43m'\u001b[39;49m\u001b[43m \u001b[49m\u001b[38;5;241;43m+\u001b[39;49m\u001b[43m \u001b[49m\u001b[38;5;28;43mstr\u001b[39;49m\u001b[43m(\u001b[49m\u001b[43mmu\u001b[49m\u001b[43m \u001b[49m\u001b[38;5;241;43m+\u001b[39;49m\u001b[43m \u001b[49m\u001b[38;5;241;43m1\u001b[39;49m\u001b[43m)\u001b[49m\u001b[43m \u001b[49m\u001b[38;5;241;43m+\u001b[39;49m\u001b[43m \u001b[49m\u001b[38;5;28;43mstr\u001b[39;49m\u001b[43m(\u001b[49m\u001b[43mmu\u001b[49m\u001b[43m \u001b[49m\u001b[38;5;241;43m+\u001b[39;49m\u001b[43m \u001b[49m\u001b[38;5;241;43m1\u001b[39;49m\u001b[43m)\u001b[49m\u001b[43m]\u001b[49m\u001b[43m[\u001b[49m\u001b[43m(\u001b[49m\u001b[43m)\u001b[49m\u001b[43m]\u001b[49m\n",
      "File \u001b[0;32mh5py/_objects.pyx:54\u001b[0m, in \u001b[0;36mh5py._objects.with_phil.wrapper\u001b[0;34m()\u001b[0m\n",
      "File \u001b[0;32mh5py/_objects.pyx:55\u001b[0m, in \u001b[0;36mh5py._objects.with_phil.wrapper\u001b[0;34m()\u001b[0m\n",
      "File \u001b[0;32m/Library/Frameworks/Python.framework/Versions/3.10/lib/python3.10/site-packages/h5py/_hl/group.py:307\u001b[0m, in \u001b[0;36mGroup.__getitem__\u001b[0;34m(self, name)\u001b[0m\n\u001b[1;32m    305\u001b[0m     oid \u001b[38;5;241m=\u001b[39m h5o\u001b[38;5;241m.\u001b[39mopen(\u001b[38;5;28mself\u001b[39m\u001b[38;5;241m.\u001b[39mid, \u001b[38;5;28mself\u001b[39m\u001b[38;5;241m.\u001b[39m_e(name), lapl\u001b[38;5;241m=\u001b[39m\u001b[38;5;28mself\u001b[39m\u001b[38;5;241m.\u001b[39m_lapl)\n\u001b[1;32m    306\u001b[0m \u001b[38;5;28;01melse\u001b[39;00m:\n\u001b[0;32m--> 307\u001b[0m     \u001b[38;5;28;01mraise\u001b[39;00m \u001b[38;5;167;01mTypeError\u001b[39;00m(\u001b[38;5;124m\"\u001b[39m\u001b[38;5;124mAccessing a group is done with bytes or str, \u001b[39m\u001b[38;5;124m\"\u001b[39m\n\u001b[1;32m    308\u001b[0m                     \u001b[38;5;124m\"\u001b[39m\u001b[38;5;124m not \u001b[39m\u001b[38;5;132;01m{}\u001b[39;00m\u001b[38;5;124m\"\u001b[39m\u001b[38;5;241m.\u001b[39mformat(\u001b[38;5;28mtype\u001b[39m(name)))\n\u001b[1;32m    310\u001b[0m otype \u001b[38;5;241m=\u001b[39m h5i\u001b[38;5;241m.\u001b[39mget_type(oid)\n\u001b[1;32m    311\u001b[0m \u001b[38;5;28;01mif\u001b[39;00m otype \u001b[38;5;241m==\u001b[39m h5i\u001b[38;5;241m.\u001b[39mGROUP:\n",
      "\u001b[0;31mTypeError\u001b[0m: Accessing a group is done with bytes or str,  not <class 'tuple'>"
     ]
    }
   ],
   "source": [
    "mu = 0\n",
    "f_npr['O' + str(mu + 1) + str(mu + 1)][()]"
   ]
  },
  {
   "cell_type": "code",
   "execution_count": 10,
   "metadata": {},
   "outputs": [
    {
     "data": {
      "text/plain": [
       "<KeysViewHDF5 ['p1111', 'p3000']>"
      ]
     },
     "execution_count": 10,
     "metadata": {},
     "output_type": "execute_result"
    }
   ],
   "source": [
    "f_npr['O11'].keys()"
   ]
  },
  {
   "cell_type": "code",
   "execution_count": 27,
   "metadata": {},
   "outputs": [],
   "source": [
    "k_list = np.array([[1, 1, 1, 1], [3, 0, 0, 0]])\n",
    "k_list_str = [klist_to_string(k, 'p') for k in k_list]\n",
    "L = Lattice(12, 24)\n",
    "npr_path = '/Users/theoares/Dropbox (MIT)/research/gq_mixing/meas/tests/npr_momfrac_test/cfg1010_npr_momfrac.h5'\n",
    "gq_path = '/Users/theoares/Dropbox (MIT)/research/gq_mixing/meas/tests/npr_momfrac_test/cfg1010_gq_mixing.h5'\n",
    "Gmu_npr = np.zeros((4, 4, 2, 4, 4, 3, 3), dtype = np.complex64)\n",
    "Ga_gq = np.zeros((3, 2, 4, 4, 3, 3), dtype = np.complex64)\n",
    "f_npr = h5py.File(npr_path, 'r')\n",
    "for mu in range(4):\n",
    "    for ii, kstr in enumerate(k_list_str):\n",
    "        Gmu_npr[mu, mu, ii] = f_npr['O' + str(mu + 1) + str(mu + 1) + '/' + kstr][()]\n",
    "f_npr.close()\n",
    "f_gq = h5py.File(gq_path, 'r')\n",
    "for a in range(3):\n",
    "    for ii, kstr in enumerate(k_list_str):\n",
    "        Ga_gq[a, ii] = f_gq['Gqq/3' + str(a + 1) + '/' + kstr][()]\n",
    "f_gq.close()"
   ]
  },
  {
   "cell_type": "code",
   "execution_count": 37,
   "metadata": {},
   "outputs": [
    {
     "name": "stdout",
     "output_type": "stream",
     "text": [
      "8.4293696e-08\n"
     ]
    }
   ],
   "source": [
    "Ga_npr = form_2d_sym_irreps(Gmu_npr)[0]\n",
    "print(np.max(np.abs(Ga_npr - Ga_gq)))"
   ]
  },
  {
   "cell_type": "markdown",
   "metadata": {},
   "source": [
    "The results from running npr_momfrac.qlua and gq_mixing.qlua are consistent within inversion precision."
   ]
  },
  {
   "cell_type": "markdown",
   "metadata": {},
   "source": [
    "## Play with the Gqq, Gqg correlators"
   ]
  },
  {
   "cell_type": "code",
   "execution_count": null,
   "metadata": {},
   "outputs": [],
   "source": [
    "l = 48\n",
    "t = 96\n",
    "L = Lattice(l, t)\n",
    "V = (l ** 3) * t"
   ]
  },
  {
   "cell_type": "code",
   "execution_count": null,
   "metadata": {},
   "outputs": [],
   "source": [
    "# read in qlua output\n",
    "jobid = 90712\n",
    "data_dir = '/Users/theoares/Dropbox (MIT)/research/gq_mixing/meas/cl21_48_96_b6p3_m0p2416_m0p2050_' + str(jobid)\n",
    "unsorted_cfgs = []\n",
    "unsorted_cfgids = []\n",
    "for (dirpath, dirnames, file) in os.walk(data_dir):\n",
    "    unsorted_cfgs.extend(file)\n",
    "    for fi in file:\n",
    "        unsorted_cfgids.append(int(fi[3 : 7]))    # slicing only good for cfgs in the 1000's\n",
    "for idx, cfg in enumerate(unsorted_cfgs):\n",
    "    unsorted_cfgs[idx] = data_dir + '/' + unsorted_cfgs[idx]\n",
    "n_cfgs = len(unsorted_cfgs)\n",
    "print('Reading ' + str(n_cfgs) + ' configs.')\n",
    "print(unsorted_cfgids)"
   ]
  },
  {
   "cell_type": "code",
   "execution_count": null,
   "metadata": {},
   "outputs": [],
   "source": [
    "# get glue pieces\n",
    "glue_dir = '/Users/theoares/Dropbox (MIT)/research/gq_mixing/glue_ops/cfgs_1100_1500/'\n",
    "path_glue_ids = glue_dir + 'ops_for_patrick.txt'\n",
    "path_glue_emt = glue_dir + 'ops_for_patrick.npy'\n",
    "glue_emt_all = np.load(path_glue_emt)\n",
    "glue_ids = []\n",
    "with open(path_glue_ids, 'r') as f:\n",
    "    for line in f:\n",
    "        glue_ids.append(int(line.split('cfg_')[1][:-1]))"
   ]
  },
  {
   "cell_type": "code",
   "execution_count": null,
   "metadata": {},
   "outputs": [],
   "source": [
    "# sort all cfgs\n",
    "cfgids = sorted(unsorted_cfgids)\n",
    "cfgs = [x for _, x in sorted(zip(unsorted_cfgids, unsorted_cfgs), key = lambda pair: pair[0])]\n",
    "glue_emt = np.array([glue_emt_all[ii] for ii in range(len(glue_ids)) if glue_ids[ii] in cfgids])"
   ]
  },
  {
   "cell_type": "code",
   "execution_count": null,
   "metadata": {},
   "outputs": [],
   "source": [
    "# read in quark / glue stuff and bootstrap\n",
    "k = np.array([3, 0, 0, 0])\n",
    "props, Gqg_qlua, Gqq3, Gqq6 = readfiles(cfgs, k)\n",
    "props_b = bootstrap(props)\n",
    "glue_emt_b = bootstrap(glue_emt)\n",
    "Gqq3_b = np.array([bootstrap(Gqq3[a]) for a in range(3)])\n",
    "Gqq6_b = np.array([bootstrap(Gqq6[a]) for a in range(6)])\n",
    "Gqg = np.einsum('zmn,zaibj->mnzaibj', glue_emt, props)\n",
    "Gqg3, Gqg6 = form_2d_sym_irreps(Gqg)\n",
    "Gqg3_b = np.array([bootstrap(Gqg3[a]) for a in range(3)])\n",
    "Gqg6_b = np.array([bootstrap(Gqg6[a]) for a in range(6)])"
   ]
  },
  {
   "cell_type": "code",
   "execution_count": null,
   "metadata": {},
   "outputs": [],
   "source": [
    "Gqq3_mu = np.mean(Gqq3_b, axis = 1)\n",
    "Gqq3_sigma = np.std(Gqq3_b, axis = 1, ddof = 1)\n",
    "Gqq6_mu = np.mean(Gqq6_b, axis = 1)\n",
    "Gqq6_sigma = np.std(Gqq6_b, axis = 1, ddof = 1)\n",
    "Gqg3_mu = np.mean(Gqg3_b, axis = 1)\n",
    "Gqg3_sigma = np.std(Gqg3_b, axis = 1, ddof = 1)\n",
    "Gqg6_mu = np.mean(Gqg6_b, axis = 1)\n",
    "Gqg6_sigma = np.std(Gqg6_b, axis = 1, ddof = 1)"
   ]
  },
  {
   "cell_type": "markdown",
   "metadata": {},
   "source": [
    "## See what the stats look like"
   ]
  },
  {
   "cell_type": "code",
   "execution_count": null,
   "metadata": {},
   "outputs": [],
   "source": [
    "# try running on 4 nodes instead of 5-- not sure why the second job (89346) has bad data"
   ]
  },
  {
   "cell_type": "code",
   "execution_count": null,
   "metadata": {},
   "outputs": [],
   "source": [
    "l = 48\n",
    "t = 96\n",
    "# L = Lattice(l, t)"
   ]
  },
  {
   "cell_type": "code",
   "execution_count": null,
   "metadata": {},
   "outputs": [],
   "source": [
    "# path = '/Users/theoares/Dropbox (MIT)/research/gq_mixing/analysis_output/Z_89127.h5'\n",
    "path = '/Users/theoares/Dropbox (MIT)/research/gq_mixing/analysis_output/Z_90712.h5'\n",
    "f = h5py.File(path, 'r')\n",
    "k_list = f['momenta'][()]\n",
    "mom_list = [L.to_linear_momentum(k + bvec, datatype = np.float64) for k in k_list]\n",
    "apsq_list = [square(p) for p in mom_list]\n",
    "Zq = f['Zq'][()]\n",
    "glue_emt = f['glue_emt'][()]\n",
    "props = f['props'][()]\n",
    "Gamma_qg3 = f['Gamma_qg3'][()]\n",
    "Gamma_qg6 = f['Gamma_qg6'][()]\n",
    "Gamma_qq3 = f['Gamma_qq3'][()]\n",
    "Gamma_qq6 = f['Gamma_qq6'][()]\n",
    "f.close()"
   ]
  },
  {
   "cell_type": "code",
   "execution_count": null,
   "metadata": {},
   "outputs": [],
   "source": [
    "colors = ['b', 'b', 'b', 'b', 'r', 'r', 'r']"
   ]
  },
  {
   "cell_type": "code",
   "execution_count": null,
   "metadata": {},
   "outputs": [],
   "source": [
    "Zq_mu = np.mean(Zq, axis = 1)\n",
    "Zq_std = np.std(Zq, axis = 1, ddof = 1)\n",
    "plt.figure()\n",
    "plt.errorbar(apsq_list[:4], Zq_mu[:4], Zq_std[:4], c = 'r', fmt = '.', label = 'h(p) = 0.25')\n",
    "plt.errorbar(apsq_list[4:], Zq_mu[4:], Zq_std[4:], c = 'b', fmt = '.', label = 'h(p) = 1.0')\n",
    "\n",
    "plt.xlabel('$(ap)^2$')\n",
    "plt.ylabel('$Z_q$')\n",
    "plt.title('Quark renormalization on 32 configurations')\n",
    "plt.legend()\n",
    "plt.show()"
   ]
  },
  {
   "cell_type": "code",
   "execution_count": null,
   "metadata": {},
   "outputs": [],
   "source": [
    "propsTr = np.einsum('pzaiai->pz', props)\n",
    "propsTr_mu = np.mean(propsTr, axis = 1)\n",
    "propsTr_std = np.std(propsTr, axis = 1, ddof = 1)\n",
    "\n",
    "plt.figure()\n",
    "plt.errorbar(apsq_list[:4], propsTr_mu[:4], propsTr_std[:4], c = 'r', fmt = '.', label = 'h(p) = 0.25')\n",
    "plt.errorbar(apsq_list[4:], propsTr_mu[4:], propsTr_std[4:], c = 'b', fmt = '.', label = 'h(p) = 1.0')\n",
    "plt.xlabel('$(ap)^2$')\n",
    "plt.ylabel('$S$')\n",
    "plt.title('Tr_D[Tr_C[S]] on 32 configurations.')\n",
    "plt.show()"
   ]
  },
  {
   "cell_type": "code",
   "execution_count": null,
   "metadata": {},
   "outputs": [],
   "source": [
    "props.shape"
   ]
  },
  {
   "cell_type": "code",
   "execution_count": null,
   "metadata": {},
   "outputs": [],
   "source": [
    "props_inv = np.array([invert_props(props[p]) for p in range(len(apsq_list))])\n",
    "propsInvTr = np.einsum('pzaiai->pz', props_inv)\n",
    "propsInvTr_mu = np.mean(propsInvTr, axis = 1)\n",
    "propsInvTr_std = np.std(propsInvTr, axis = 1, ddof = 1)\n",
    "\n",
    "# TODO look at off diagonal, if S(p) ~ 0 then it might blow up\n",
    "\n",
    "plt.figure()\n",
    "plt.errorbar(apsq_list[:4], propsInvTr_mu[:4], propsInvTr_std[:4], c = 'r', fmt = '.', label = 'h(p) = 0.25')\n",
    "plt.errorbar(apsq_list[4:], propsInvTr_mu[4:], propsInvTr_std[4:], c = 'b', fmt = '.', label = 'h(p) = 1.0')\n",
    "plt.xlabel('$(ap)^2$')\n",
    "plt.ylabel('$S^{-1}$')\n",
    "plt.title('Tr_D[Tr_C[S^{-1}]] on 32 configurations.')\n",
    "plt.show()"
   ]
  },
  {
   "cell_type": "code",
   "execution_count": null,
   "metadata": {},
   "outputs": [],
   "source": []
  },
  {
   "cell_type": "code",
   "execution_count": null,
   "metadata": {},
   "outputs": [],
   "source": [
    "glue_emt_mu = np.mean(glue_emt, axis = 0)\n",
    "glue_emt_std = np.std(glue_emt, axis = 0, ddof = 1)\n",
    "print('glue emt = ' + str(glue_emt_mu) + ' \\pm ' + str(glue_emt_std))"
   ]
  },
  {
   "cell_type": "code",
   "execution_count": null,
   "metadata": {},
   "outputs": [],
   "source": [
    "Gamma_qq3Tr = np.einsum('pyzaiai->ypz', Gamma_qq3)\n",
    "Gamma_qq3Tr_mu = np.mean(Gamma_qq3Tr, axis = 2)\n",
    "Gamma_qq3Tr_std = np.std(Gamma_qq3Tr, axis = 2, ddof = 1)\n",
    "\n",
    "for a in range(3):\n",
    "    plt.figure()\n",
    "    plt.errorbar(apsq_list[:4], Gamma_qq3Tr_mu[a, :4], Gamma_qq3Tr_std[a, :4], c = 'r', fmt = '.', label = 'h(p) = 0.25')\n",
    "    plt.errorbar(apsq_list[4:], Gamma_qq3Tr_mu[a, 4:], Gamma_qq3Tr_std[a, 4:], c = 'b', fmt = '.', label = 'h(p) = 1.0')\n",
    "\n",
    "    plt.xlabel('$(ap)^2$')\n",
    "    plt.ylabel('$ΓQQ$')\n",
    "    plt.title('Tr_D[Tr_C[ΓQQ]] on 32 configurations, tau_1^3 irrep index ' + str(a))\n",
    "    plt.legend()\n",
    "    plt.show()"
   ]
  },
  {
   "cell_type": "code",
   "execution_count": null,
   "metadata": {},
   "outputs": [],
   "source": [
    "glue_emt_b.shape"
   ]
  },
  {
   "cell_type": "code",
   "execution_count": null,
   "metadata": {},
   "outputs": [],
   "source": [
    "glue_emt_mu.shape"
   ]
  },
  {
   "cell_type": "code",
   "execution_count": null,
   "metadata": {},
   "outputs": [],
   "source": [
    "props_inv_mu.shape"
   ]
  },
  {
   "cell_type": "code",
   "execution_count": null,
   "metadata": {},
   "outputs": [],
   "source": [
    "props_inv_mu = np.mean(props_inv, axis = 1)\n",
    "normalization_mn = np.einsum('paibj,mn->mnpaibj', props_inv_mu, glue_emt_mu)\n",
    "norm3, norm6 = form_2d_sym_irreps(normalization_mn)"
   ]
  },
  {
   "cell_type": "code",
   "execution_count": null,
   "metadata": {},
   "outputs": [],
   "source": [
    "GamQG = np.einsum('pzaibj,zmn->mnpzaibj', props_inv, glue_emt_b)\n",
    "GamQG_3, GamQG_6 = form_2d_sym_irreps(GamQG)\n",
    "n_boot = props_inv.shape[1]\n",
    "for b in range(n_boot):\n",
    "    GamQG_3[:, :, b, :, :, :, :] = GamQG_3[:, :, b, :, :, :, :] - norm3[:, :, :, :, :, :]\n",
    "    GamQG_6[:, :, b, :, :, :, :] = GamQG_6[:, :, b, :, :, :, :] - norm6[:, :, :, :, :, :]\n",
    "# GamQG_3 = np.einsum('ypzaibj,ypaibj->ypzaibj', GamQG_3, 1 / norm3)\n",
    "# GamQG_6 = np.einsum('ypzaibj,ypaibj->ypzaibj', GamQG_6, 1 / norm6)\n",
    "GamQG_3Tr = np.einsum('ypzaiai->ypz', GamQG_3)\n",
    "GamQG_3Tr_mu = np.mean(GamQG_3Tr, axis = 2)\n",
    "GamQG_3Tr_std = np.std(GamQG_3Tr, axis = 2, ddof = 1)\n",
    "# GamQG_3_mu = np.mean(GamQG_3, axis = 2)\n",
    "# GamQG_3_std = np.std(GamQG_3, axis = 2, ddof = 1)"
   ]
  },
  {
   "cell_type": "code",
   "execution_count": null,
   "metadata": {},
   "outputs": [],
   "source": [
    "plt.figure()\n",
    "plt.errorbar(apsq_list[:4], GamQG_3Tr_mu[0, :4], GamQG_3Tr_std[0, :4], c = 'r', fmt = '.', label = 'h(p) = 0.25')\n",
    "plt.errorbar(apsq_list[4:], GamQG_3Tr_mu[0, 4:], GamQG_3Tr_std[0, 4:], c = 'b', fmt = '.', label = 'h(p) = 1.0')\n",
    "plt.title('Tr[S^{-1} O_g] - <S^{-1}> <O_g>')\n",
    "plt.show()"
   ]
  },
  {
   "cell_type": "code",
   "execution_count": null,
   "metadata": {},
   "outputs": [],
   "source": [
    "Gamma_qg3Tr = np.einsum('pyzaiai->ypz', Gamma_qg3)\n",
    "Gamma_qg3Tr_mu = np.mean(Gamma_qg3Tr, axis = 2)\n",
    "Gamma_qg3Tr_std = np.std(Gamma_qg3Tr, axis = 2, ddof = 1)\n",
    "\n",
    "for a in range(3):\n",
    "    plt.figure()\n",
    "    plt.errorbar(apsq_list[:4], Gamma_qg3Tr_mu[a, :4], Gamma_qg3Tr_std[a, :4], c = 'r', fmt = '.', label = 'h(p) = 0.25')\n",
    "    plt.errorbar(apsq_list[4:], Gamma_qg3Tr_mu[a, 4:], Gamma_qg3Tr_std[a, 4:], c = 'b', fmt = '.', label = 'h(p) = 1.0')\n",
    "\n",
    "    plt.xlabel('$(ap)^2$')\n",
    "    plt.ylabel('$ΓQG$')\n",
    "    plt.title('Tr_D[Tr_C[ΓQG]] on 32 configurations, tau_1^3 irrep index ' + str(a))\n",
    "    plt.legend()\n",
    "    plt.show()"
   ]
  },
  {
   "cell_type": "code",
   "execution_count": null,
   "metadata": {},
   "outputs": [],
   "source": [
    "# Gamma_qq3_red = np.abs(np.einsum('...aiaj->...ij', Gamma_qq3))\n",
    "# Gamma_qq_red_mu = np.mean(Gamma_qq3_red, axis = 2)\n",
    "# Gamma_qq_red_std = np.std(Gamma_qq3_red, axis = 2, ddof = 1)"
   ]
  },
  {
   "cell_type": "code",
   "execution_count": null,
   "metadata": {},
   "outputs": [],
   "source": [
    "# plt.figure()\n",
    "# plt.errorbar(apsq_list, Gamma_qq_red_mu[:, 0, 0, 0], Gamma_qq_red_std[:, 0, 0, 0], c = 'b', fmt = '.', label = '11')\n",
    "# plt.errorbar(apsq_list, Gamma_qq_red_mu[:, 0, 0, 1], Gamma_qq_red_std[:, 0, 0, 1], c = 'r', fmt = '.', label = '12')\n",
    "# plt.errorbar(apsq_list, Gamma_qq_red_mu[:, 0, 0, 2], Gamma_qq_red_std[:, 0, 0, 2], c = 'g', fmt = '.', label = '13')\n",
    "# plt.errorbar(apsq_list, Gamma_qq_red_mu[:, 0, 0, 3], Gamma_qq_red_std[:, 0, 0, 3], c = 'k', fmt = '.', label = '14')\n",
    "\n",
    "# plt.xlabel('$(ap)^2$')\n",
    "# plt.ylabel('$Γ1_{1i}$')\n",
    "# plt.title('Components of vertex function for $\\mathcal{O}_{33} - \\mathcal{O}_{44}$ on 15 configurations')\n",
    "# plt.legend()\n",
    "# plt.show()"
   ]
  },
  {
   "cell_type": "markdown",
   "metadata": {},
   "source": [
    "## Playing with some actual data"
   ]
  },
  {
   "cell_type": "code",
   "execution_count": null,
   "metadata": {},
   "outputs": [],
   "source": [
    "# cfgs which had gf problems: 1020, 1100, 1190\n",
    "# cfgs which had issues writing measurement to file: 1110, 1140, 1180"
   ]
  },
  {
   "cell_type": "code",
   "execution_count": null,
   "metadata": {},
   "outputs": [],
   "source": [
    "# for cfg_idx in range(1120, 1500, 10):\n",
    "#     f2path = '/Users/theoares/Dropbox (MIT)/research/gq_mixing/meas/cl21_48_96_b6p3_m0p2416_m0p2050_90712/cfg' + str(cfg_idx) + '.h5'\n",
    "#     try:\n",
    "#         f2 = h5py.File(f2path, 'r')\n",
    "#         print('good file at ' + str(cfg_idx))\n",
    "#         print(np.einsum('iiaa->', f2['Gqq/31/p3000'][()]))\n",
    "#         f2.close()\n",
    "#     except:\n",
    "#         print('broken file at ' + str(cfg_idx))"
   ]
  },
  {
   "cell_type": "code",
   "execution_count": null,
   "metadata": {},
   "outputs": [],
   "source": [
    "# for cfg_idx in range(1120, 1500, 10):\n",
    "#     f2path = '/Users/theoares/Dropbox (MIT)/research/gq_mixing/meas/cl21_48_96_b6p3_m0p2416_m0p2050_90712/cfg' + str(cfg_idx) + '.h5'\n",
    "#     try:\n",
    "#         f2 = h5py.File(f2path, 'r')\n",
    "#         print('good file at ' + str(cfg_idx))\n",
    "#         print(f2['Gqq'])\n",
    "#         f2.close()\n",
    "#     except:\n",
    "#         print('broken file at ' + str(cfg_idx))"
   ]
  },
  {
   "cell_type": "code",
   "execution_count": null,
   "metadata": {},
   "outputs": [],
   "source": [
    "# # f2path = '/Users/theoares/Dropbox (MIT)/research/gq_mixing/meas/cl21_48_96_b6p3_m0p2416_m0p2050_89157/cfg1110.h5'\n",
    "# # f2path = '/Users/theoares/Dropbox (MIT)/research/gq_mixing/meas/cl21_48_96_b6p3_m0p2416_m0p2050_90712/cfg1240.h5'\n",
    "# f2path = '/Users/theoares/Dropbox (MIT)/research/gq_mixing/meas/cfg1140.h5'\n",
    "# f2 = h5py.File(f2path, 'r')\n",
    "# print(f2['Gqq/31/p6000'][()])\n",
    "# f2.close()"
   ]
  },
  {
   "cell_type": "code",
   "execution_count": null,
   "metadata": {},
   "outputs": [],
   "source": [
    "# # some of the files are corrupted, which you can check in the slurm output (although they still wrote to the file). \n",
    "# # however, some of them are working fine. Going to try to run on the bad files with more nodes and see what happens\n",
    "# # for the corrupted files, see what the correlator orders of magnitude are-- currently one Gqq for 1140 (one of the \n",
    "# # ones which errored) is having some major issues\n",
    "# fpath = '/Users/theoares/Dropbox (MIT)/research/gq_mixing/meas/cl21_48_96_b6p3_m0p2416_m0p2050_89127/cfg1050.h5'\n",
    "# f = h5py.File(fpath, 'r')\n",
    "# print(f['Gqq/31/p6000'][()])"
   ]
  },
  {
   "cell_type": "code",
   "execution_count": null,
   "metadata": {},
   "outputs": [],
   "source": [
    "# f['prop/p2222'][()]"
   ]
  }
 ],
 "metadata": {
  "kernelspec": {
   "display_name": "Python 3 (ipykernel)",
   "language": "python",
   "name": "python3"
  },
  "language_info": {
   "codemirror_mode": {
    "name": "ipython",
    "version": 3
   },
   "file_extension": ".py",
   "mimetype": "text/x-python",
   "name": "python",
   "nbconvert_exporter": "python",
   "pygments_lexer": "ipython3",
   "version": "3.10.2"
  },
  "latex_envs": {
   "LaTeX_envs_menu_present": true,
   "autocomplete": true,
   "bibliofile": "biblio.bib",
   "cite_by": "apalike",
   "current_citInitial": 1,
   "eqLabelWithNumbers": true,
   "eqNumInitial": 1,
   "hotkeys": {
    "equation": "Ctrl-E",
    "itemize": "Ctrl-I"
   },
   "labels_anchors": false,
   "latex_user_defs": false,
   "report_style_numbering": false,
   "user_envs_cfg": false
  }
 },
 "nbformat": 4,
 "nbformat_minor": 2
}
