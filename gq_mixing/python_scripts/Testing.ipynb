{
 "cells": [
  {
   "cell_type": "code",
   "execution_count": 1,
   "metadata": {},
   "outputs": [
    {
     "name": "stderr",
     "output_type": "stream",
     "text": [
      "/Library/Frameworks/Python.framework/Versions/3.6/lib/python3.6/site-packages/matplotlib/font_manager.py:1241: UserWarning: findfont: Font family ['/Users/theoares/Library/Fonts/cmunrm.otf'] not found. Falling back to DejaVu Sans.\n",
      "  (prop.get_family(), self.defaultFamily[fontext]))\n"
     ]
    }
   ],
   "source": [
    "%load_ext autoreload\n",
    "%autoreload 2\n",
    "%matplotlib notebook\n",
    "\n",
    "# use CMU Serif\n",
    "import matplotlib as mpl\n",
    "import matplotlib.font_manager as font_manager\n",
    "mpl.rcParams['font.family']='serif'\n",
    "# cmfont = font_manager.FontProperties(fname=mpl.get_data_path() + '/fonts/ttf/cmr10.ttf')\n",
    "cmfont = font_manager.FontProperties('/Users/theoares/Library/Fonts/cmunrm.otf')\n",
    "mpl.rcParams['font.serif']=cmfont.get_name()\n",
    "mpl.rcParams['mathtext.fontset']='cm'\n",
    "mpl.rcParams['axes.unicode_minus']=False\n",
    "\n",
    "from mpl_toolkits.axes_grid1.inset_locator import zoomed_inset_axes\n",
    "from mpl_toolkits.axes_grid1.inset_locator import inset_axes\n",
    "from mpl_toolkits.axes_grid1.inset_locator import mark_inset\n",
    "from matplotlib.transforms import Bbox\n",
    "\n",
    "import numpy as np\n",
    "import matplotlib.pyplot as plt\n",
    "from scipy.optimize import root\n",
    "import h5py\n",
    "import os\n",
    "import itertools\n",
    "\n",
    "n_boot = 50\n",
    "from utils import *"
   ]
  },
  {
   "cell_type": "markdown",
   "metadata": {},
   "source": [
    "## Play with the Gqq, Gqg correlators"
   ]
  },
  {
   "cell_type": "code",
   "execution_count": 2,
   "metadata": {},
   "outputs": [],
   "source": [
    "l = 48\n",
    "t = 96\n",
    "L = Lattice(l, t)"
   ]
  },
  {
   "cell_type": "code",
   "execution_count": 3,
   "metadata": {},
   "outputs": [
    {
     "name": "stdout",
     "output_type": "stream",
     "text": [
      "Reading 32 configs.\n",
      "[1480, 1490, 1390, 1380, 1170, 1160, 1280, 1140, 1290, 1300, 1240, 1180, 1310, 1270, 1330, 1320, 1260, 1220, 1360, 1370, 1230, 1350, 1210, 1200, 1340, 1470, 1460, 1500, 1450, 1400, 1420, 1430]\n"
     ]
    }
   ],
   "source": [
    "# read in qlua output\n",
    "jobid = 90712\n",
    "data_dir = '/Users/theoares/Dropbox (MIT)/research/gq_mixing/meas/cl21_48_96_b6p3_m0p2416_m0p2050_' + str(jobid)\n",
    "unsorted_cfgs = []\n",
    "unsorted_cfgids = []\n",
    "for (dirpath, dirnames, file) in os.walk(data_dir):\n",
    "    unsorted_cfgs.extend(file)\n",
    "    for fi in file:\n",
    "        unsorted_cfgids.append(int(fi[3 : 7]))    # slicing only good for cfgs in the 1000's\n",
    "for idx, cfg in enumerate(unsorted_cfgs):\n",
    "    unsorted_cfgs[idx] = data_dir + '/' + unsorted_cfgs[idx]\n",
    "n_cfgs = len(unsorted_cfgs)\n",
    "print('Reading ' + str(n_cfgs) + ' configs.')\n",
    "print(unsorted_cfgids)"
   ]
  },
  {
   "cell_type": "code",
   "execution_count": 4,
   "metadata": {},
   "outputs": [],
   "source": [
    "# get glue pieces\n",
    "glue_dir = '/Users/theoares/Dropbox (MIT)/research/gq_mixing/glue_ops/cfgs_1100_1500/'\n",
    "path_glue_ids = glue_dir + 'ops_for_patrick.txt'\n",
    "path_glue_emt = glue_dir + 'ops_for_patrick.npy'\n",
    "glue_emt_all = np.load(path_glue_emt)\n",
    "glue_ids = []\n",
    "with open(path_glue_ids, 'r') as f:\n",
    "    for line in f:\n",
    "        glue_ids.append(int(line[line.find('cfg_') + len('cfg_') : -1]))"
   ]
  },
  {
   "cell_type": "code",
   "execution_count": 5,
   "metadata": {},
   "outputs": [],
   "source": [
    "# sort all cfgs\n",
    "cfgids = sorted(unsorted_cfgids)\n",
    "cfgs = [x for _, x in sorted(zip(unsorted_cfgids, unsorted_cfgs), key = lambda pair: pair[0])]\n",
    "glue_emt = np.array([glue_emt_all[ii] for ii in range(len(glue_ids)) if glue_ids[ii] in cfgids])"
   ]
  },
  {
   "cell_type": "code",
   "execution_count": 33,
   "metadata": {},
   "outputs": [
    {
     "data": {
      "text/plain": [
       "(32, 4, 4)"
      ]
     },
     "execution_count": 33,
     "metadata": {},
     "output_type": "execute_result"
    }
   ],
   "source": [
    "glue_emt.shape"
   ]
  },
  {
   "cell_type": "code",
   "execution_count": 34,
   "metadata": {},
   "outputs": [],
   "source": [
    "# read in quark / glue stuff and bootstrap\n",
    "k = np.array([3, 0, 0, 0])\n",
    "props, Gqg_qlua, Gqq3, Gqq6 = readfiles(cfgs, k)\n",
    "props_b = bootstrap(props)\n",
    "glue_emt_b = bootstrap(glue_emt)\n",
    "Gqq3_b = np.array([bootstrap(Gqq3[a]) for a in range(3)])\n",
    "Gqq6_b = np.array([bootstrap(Gqq6[a]) for a in range(6)])\n",
    "Gqg = np.einsum('zmn,zaibj->mnzaibj', glue_emt, props)\n",
    "Gqg3, Gqg6 = form_2d_sym_irreps(Gqg)\n",
    "Gqg3_b = np.array([bootstrap(Gqg3[a]) for a in range(3)])\n",
    "Gqg6_b = np.array([bootstrap(Gqg6[a]) for a in range(6)])"
   ]
  },
  {
   "cell_type": "code",
   "execution_count": 35,
   "metadata": {},
   "outputs": [
    {
     "data": {
      "text/plain": [
       "array([[-6.3871681e+05+0.j,  9.6702148e+01+0.j, -1.9694864e+00+0.j,\n",
       "         1.1603106e+02+0.j],\n",
       "       [ 9.6702148e+01+0.j, -6.3890925e+05+0.j,  1.6075146e+02+0.j,\n",
       "         1.0425608e+02+0.j],\n",
       "       [-1.9694864e+00+0.j,  1.6075146e+02+0.j, -6.3917538e+05+0.j,\n",
       "         6.9358940e+01+0.j],\n",
       "       [ 1.1603106e+02+0.j,  1.0425608e+02+0.j,  6.9358940e+01+0.j,\n",
       "        -6.3893681e+05+0.j]], dtype=complex64)"
      ]
     },
     "execution_count": 35,
     "metadata": {},
     "output_type": "execute_result"
    }
   ],
   "source": [
    "np.mean(glue_emt_b, axis = 0)"
   ]
  },
  {
   "cell_type": "code",
   "execution_count": 36,
   "metadata": {},
   "outputs": [
    {
     "data": {
      "text/plain": [
       "array([[453.12097 ,  94.33288 ,  90.05134 , 112.573074],\n",
       "       [ 94.33288 , 432.63602 , 140.45341 , 101.8259  ],\n",
       "       [ 90.05134 , 140.45341 , 400.75943 , 150.34732 ],\n",
       "       [112.573074, 101.8259  , 150.34732 , 473.7684  ]], dtype=float32)"
      ]
     },
     "execution_count": 36,
     "metadata": {},
     "output_type": "execute_result"
    }
   ],
   "source": [
    "np.std(glue_emt_b, axis = 0, ddof = 1)"
   ]
  },
  {
   "cell_type": "code",
   "execution_count": 38,
   "metadata": {},
   "outputs": [
    {
     "data": {
      "text/plain": [
       "(50, 3, 4, 3, 4)"
      ]
     },
     "execution_count": 38,
     "metadata": {},
     "output_type": "execute_result"
    }
   ],
   "source": [
    "props_b.shape"
   ]
  },
  {
   "cell_type": "code",
   "execution_count": 39,
   "metadata": {
    "scrolled": true
   },
   "outputs": [],
   "source": [
    "props_D = np.einsum('zaiaj->zij', props_b) / 3."
   ]
  },
  {
   "cell_type": "code",
   "execution_count": 40,
   "metadata": {},
   "outputs": [
    {
     "data": {
      "text/plain": [
       "array([[ 0.6001193 +0.01388297j,  0.11062092-0.03946992j,\n",
       "        -0.0354077 +0.26665348j, -2.266762  +0.06819782j],\n",
       "       [-0.17416838+0.0016999j ,  0.4760185 -0.07568324j,\n",
       "        -2.2908564 -0.07031874j,  0.00302245+0.14962615j],\n",
       "       [-0.04041865+0.10283693j,  2.123166  +0.10173002j,\n",
       "         0.6768617 -0.03703861j, -0.10520068-0.02382746j],\n",
       "       [ 2.3535724 +0.19488555j,  0.10865663+0.24889278j,\n",
       "         0.05968416+0.0539181j ,  0.57171124-0.12851085j]],\n",
       "      dtype=complex64)"
      ]
     },
     "execution_count": 40,
     "metadata": {},
     "output_type": "execute_result"
    }
   ],
   "source": [
    "np.mean(props_D, axis = 0)"
   ]
  },
  {
   "cell_type": "code",
   "execution_count": 41,
   "metadata": {},
   "outputs": [
    {
     "data": {
      "text/plain": [
       "array([[0.11369263, 0.12933907, 0.17663124, 0.19157533],\n",
       "       [0.18419436, 0.12328433, 0.22127399, 0.2108518 ],\n",
       "       [0.18269148, 0.16041623, 0.09999421, 0.10924498],\n",
       "       [0.15745665, 0.21943788, 0.12539428, 0.13177463]], dtype=float32)"
      ]
     },
     "execution_count": 41,
     "metadata": {},
     "output_type": "execute_result"
    }
   ],
   "source": [
    "np.std(props_D, axis = 0, ddof = 1)"
   ]
  },
  {
   "cell_type": "code",
   "execution_count": 27,
   "metadata": {},
   "outputs": [],
   "source": [
    "Gqq3_mu = np.mean(Gqq3_b, axis = 1)\n",
    "Gqq3_sigma = np.std(Gqq3_b, axis = 1, ddof = 1)\n",
    "Gqq6_mu = np.mean(Gqq6_b, axis = 1)\n",
    "Gqq6_sigma = np.std(Gqq6_b, axis = 1, ddof = 1)\n",
    "Gqg3_mu = np.mean(Gqg3_b, axis = 1)\n",
    "Gqg3_sigma = np.std(Gqg3_b, axis = 1, ddof = 1)\n",
    "Gqg6_mu = np.mean(Gqg6_b, axis = 1)\n",
    "Gqg6_sigma = np.std(Gqg6_b, axis = 1, ddof = 1)"
   ]
  },
  {
   "cell_type": "code",
   "execution_count": 25,
   "metadata": {},
   "outputs": [
    {
     "data": {
      "text/plain": [
       "(3, 3, 4, 3, 4)"
      ]
     },
     "execution_count": 25,
     "metadata": {},
     "output_type": "execute_result"
    }
   ],
   "source": [
    "Gqq3_mu.shape"
   ]
  },
  {
   "cell_type": "code",
   "execution_count": 30,
   "metadata": {},
   "outputs": [
    {
     "data": {
      "text/plain": [
       "array([[[-109.898346 +21.570654j,  104.25478 +112.323j   ,\n",
       "          138.91371  -35.23636j ,  474.62875   -7.816137j],\n",
       "        [  36.080444-143.74368j , -176.81961  +97.73282j ,\n",
       "          377.87463  +13.434141j,   24.189758-205.0589j  ],\n",
       "        [  35.387196 -65.01332j , -195.83664  -38.614273j,\n",
       "         -205.76334  +17.668821j,   38.030087 -14.852308j],\n",
       "        [ -70.20056  +74.20444j , -215.43706 +134.58197j ,\n",
       "          -83.766785 -94.156204j, -124.03762 +111.497986j]],\n",
       "\n",
       "       [[ 106.86258 +205.8435j  ,   50.94621  -42.34877j ,\n",
       "          -72.38201 -170.26756j , -563.7741    -8.01104j ],\n",
       "        [-209.931   -176.44467j ,   10.376883 -72.62372j ,\n",
       "         -335.57526  +46.346245j, -107.07656  +42.352383j],\n",
       "        [-234.16856   +7.114698j,  186.23203  -90.2619j  ,\n",
       "          -77.06147  +12.300548j,  -18.166006 -17.538542j],\n",
       "        [ 365.66638  +76.08201j , -151.63387  +32.26178j ,\n",
       "           21.6291   +63.981842j,   55.959152-225.31468j ]],\n",
       "\n",
       "       [[ 291.95392  -11.886917j,  175.02808  +21.26908j ,\n",
       "          -39.605885 -32.27487j , -667.688   -179.35791j ],\n",
       "        [-182.16809  +38.770676j,   45.575645 +73.8262j  ,\n",
       "         -703.74695 -328.073j   ,   94.730194 -64.69217j ],\n",
       "        [-336.1224  +180.52399j ,  676.8812  -124.63591j ,\n",
       "          165.20927  +36.750122j,  -43.12638  +47.627605j],\n",
       "        [ 483.26083  -90.080315j,   63.01359 +107.86998j ,\n",
       "           63.113937 +71.06633j ,  202.00896  -87.28955j ]]],\n",
       "      dtype=complex64)"
      ]
     },
     "execution_count": 30,
     "metadata": {},
     "output_type": "execute_result"
    }
   ],
   "source": [
    "np.einsum('zaiaj->zij', Gqg3_mu) / 3"
   ]
  },
  {
   "cell_type": "code",
   "execution_count": 31,
   "metadata": {},
   "outputs": [
    {
     "data": {
      "text/plain": [
       "array([[[196.84344, 166.82385, 328.72766, 429.60147],\n",
       "        [195.12384, 201.78094, 400.27417, 332.77615],\n",
       "        [244.34778, 416.14343, 203.12885, 144.53957],\n",
       "        [371.71762, 334.68808, 200.89616, 252.53978]],\n",
       "\n",
       "       [[263.38254, 211.27281, 314.9628 , 418.91818],\n",
       "        [291.4181 , 190.01436, 385.0027 , 255.26024],\n",
       "        [297.96924, 460.98807, 215.04732, 163.82426],\n",
       "        [401.56265, 327.37378, 147.30672, 192.15459]],\n",
       "\n",
       "       [[278.89505, 261.34207, 318.9751 , 475.91678],\n",
       "        [312.72464, 279.17642, 442.20877, 325.13876],\n",
       "        [334.59485, 492.26535, 207.98125, 178.1148 ],\n",
       "        [491.6443 , 335.16074, 176.06221, 214.61772]]], dtype=float32)"
      ]
     },
     "execution_count": 31,
     "metadata": {},
     "output_type": "execute_result"
    }
   ],
   "source": [
    "np.einsum('zaiaj->zij', Gqg3_sigma) / 3"
   ]
  },
  {
   "cell_type": "markdown",
   "metadata": {},
   "source": [
    "## See what the stats look like"
   ]
  },
  {
   "cell_type": "code",
   "execution_count": null,
   "metadata": {},
   "outputs": [],
   "source": [
    "# try running on 4 nodes instead of 5-- not sure why the second job (89346) has bad data"
   ]
  },
  {
   "cell_type": "code",
   "execution_count": null,
   "metadata": {},
   "outputs": [],
   "source": [
    "l = 48\n",
    "t = 96\n",
    "# L = Lattice(l, t)"
   ]
  },
  {
   "cell_type": "code",
   "execution_count": null,
   "metadata": {},
   "outputs": [],
   "source": [
    "# path = '/Users/theoares/Dropbox (MIT)/research/gq_mixing/analysis_output/Z_89127.h5'\n",
    "# f = h5py.File(path, 'r')\n",
    "# k_list = f['momenta'][()]\n",
    "# mom_list = [L.to_linear_momentum(k + bvec, datatype = np.float64) for k in k_list]\n",
    "# apsq_list = [square(p) for p in mom_list]\n",
    "# Zq = f['Zq'][()]\n",
    "# Gamma_qg = f['Gamma_qg'][()]\n",
    "# Gamma_qq3 = f['Gamma_qq3'][()]\n",
    "# Gamma_qq6 = f['Gamma_qq6'][()]\n",
    "# f.close()"
   ]
  },
  {
   "cell_type": "code",
   "execution_count": null,
   "metadata": {},
   "outputs": [],
   "source": [
    "# colors = ['b', 'b', 'b', 'b', 'r', 'r', 'r']"
   ]
  },
  {
   "cell_type": "code",
   "execution_count": null,
   "metadata": {},
   "outputs": [],
   "source": [
    "# Zq_mu = np.mean(Zq, axis = 1)\n",
    "# Zq_std = np.std(Zq, axis = 1, ddof = 1)\n",
    "# plt.figure()\n",
    "# plt.errorbar(apsq_list[:4], Zq_mu[:4], Zq_std[:4], c = 'r', fmt = '.', label = 'h(p) = 0.25')\n",
    "# plt.errorbar(apsq_list[4:], Zq_mu[4:], Zq_std[4:], c = 'b', fmt = '.', label = 'h(p) = 1.0')\n",
    "\n",
    "# plt.xlabel('$(ap)^2$')\n",
    "# plt.ylabel('$Z_q$')\n",
    "# plt.title('Quark renormalization on 44 configurations')\n",
    "# plt.legend()\n",
    "# plt.show()"
   ]
  },
  {
   "cell_type": "code",
   "execution_count": null,
   "metadata": {},
   "outputs": [],
   "source": [
    "# Gamma_qq3_red = np.abs(np.einsum('...aiaj->...ij', Gamma_qq3))\n",
    "# Gamma_qq_red_mu = np.mean(Gamma_qq3_red, axis = 2)\n",
    "# Gamma_qq_red_std = np.std(Gamma_qq3_red, axis = 2, ddof = 1)"
   ]
  },
  {
   "cell_type": "code",
   "execution_count": null,
   "metadata": {},
   "outputs": [],
   "source": [
    "# plt.figure()\n",
    "# plt.errorbar(apsq_list, Gamma_qq_red_mu[:, 0, 0, 0], Gamma_qq_red_std[:, 0, 0, 0], c = 'b', fmt = '.', label = '11')\n",
    "# plt.errorbar(apsq_list, Gamma_qq_red_mu[:, 0, 0, 1], Gamma_qq_red_std[:, 0, 0, 1], c = 'r', fmt = '.', label = '12')\n",
    "# plt.errorbar(apsq_list, Gamma_qq_red_mu[:, 0, 0, 2], Gamma_qq_red_std[:, 0, 0, 2], c = 'g', fmt = '.', label = '13')\n",
    "# plt.errorbar(apsq_list, Gamma_qq_red_mu[:, 0, 0, 3], Gamma_qq_red_std[:, 0, 0, 3], c = 'k', fmt = '.', label = '14')\n",
    "\n",
    "# plt.xlabel('$(ap)^2$')\n",
    "# plt.ylabel('$Γ1_{1i}$')\n",
    "# plt.title('Components of vertex function for $\\mathcal{O}_{33} - \\mathcal{O}_{44}$ on 15 configurations')\n",
    "# plt.legend()\n",
    "# plt.show()"
   ]
  },
  {
   "cell_type": "markdown",
   "metadata": {},
   "source": [
    "## Playing with some actual data"
   ]
  },
  {
   "cell_type": "code",
   "execution_count": null,
   "metadata": {},
   "outputs": [],
   "source": [
    "# cfgs which had gf problems: 1020, 1100, 1190\n",
    "# cfgs which had issues writing measurement to file: 1110, 1140, 1180"
   ]
  },
  {
   "cell_type": "code",
   "execution_count": null,
   "metadata": {},
   "outputs": [],
   "source": [
    "# for cfg_idx in range(1120, 1500, 10):\n",
    "#     f2path = '/Users/theoares/Dropbox (MIT)/research/gq_mixing/meas/cl21_48_96_b6p3_m0p2416_m0p2050_90712/cfg' + str(cfg_idx) + '.h5'\n",
    "#     try:\n",
    "#         f2 = h5py.File(f2path, 'r')\n",
    "#         print('good file at ' + str(cfg_idx))\n",
    "#         print(np.einsum('iiaa->', f2['Gqq/31/p3000'][()]))\n",
    "#         f2.close()\n",
    "#     except:\n",
    "#         print('broken file at ' + str(cfg_idx))"
   ]
  },
  {
   "cell_type": "code",
   "execution_count": null,
   "metadata": {},
   "outputs": [],
   "source": [
    "# for cfg_idx in range(1120, 1500, 10):\n",
    "#     f2path = '/Users/theoares/Dropbox (MIT)/research/gq_mixing/meas/cl21_48_96_b6p3_m0p2416_m0p2050_90712/cfg' + str(cfg_idx) + '.h5'\n",
    "#     try:\n",
    "#         f2 = h5py.File(f2path, 'r')\n",
    "#         print('good file at ' + str(cfg_idx))\n",
    "#         print(f2['Gqq'])\n",
    "#         f2.close()\n",
    "#     except:\n",
    "#         print('broken file at ' + str(cfg_idx))"
   ]
  },
  {
   "cell_type": "code",
   "execution_count": null,
   "metadata": {},
   "outputs": [],
   "source": [
    "# # f2path = '/Users/theoares/Dropbox (MIT)/research/gq_mixing/meas/cl21_48_96_b6p3_m0p2416_m0p2050_89157/cfg1110.h5'\n",
    "# # f2path = '/Users/theoares/Dropbox (MIT)/research/gq_mixing/meas/cl21_48_96_b6p3_m0p2416_m0p2050_90712/cfg1240.h5'\n",
    "# f2path = '/Users/theoares/Dropbox (MIT)/research/gq_mixing/meas/cfg1140.h5'\n",
    "# f2 = h5py.File(f2path, 'r')\n",
    "# print(f2['Gqq/31/p6000'][()])\n",
    "# f2.close()"
   ]
  },
  {
   "cell_type": "code",
   "execution_count": null,
   "metadata": {},
   "outputs": [],
   "source": [
    "# # some of the files are corrupted, which you can check in the slurm output (although they still wrote to the file). \n",
    "# # however, some of them are working fine. Going to try to run on the bad files with more nodes and see what happens\n",
    "# # for the corrupted files, see what the correlator orders of magnitude are-- currently one Gqq for 1140 (one of the \n",
    "# # ones which errored) is having some major issues\n",
    "# fpath = '/Users/theoares/Dropbox (MIT)/research/gq_mixing/meas/cl21_48_96_b6p3_m0p2416_m0p2050_89127/cfg1050.h5'\n",
    "# f = h5py.File(fpath, 'r')\n",
    "# print(f['Gqq/31/p6000'][()])"
   ]
  },
  {
   "cell_type": "code",
   "execution_count": null,
   "metadata": {},
   "outputs": [],
   "source": [
    "# f['prop/p2222'][()]"
   ]
  }
 ],
 "metadata": {
  "kernelspec": {
   "display_name": "Python 3",
   "language": "python",
   "name": "python3"
  },
  "language_info": {
   "codemirror_mode": {
    "name": "ipython",
    "version": 3
   },
   "file_extension": ".py",
   "mimetype": "text/x-python",
   "name": "python",
   "nbconvert_exporter": "python",
   "pygments_lexer": "ipython3",
   "version": "3.6.6"
  },
  "latex_envs": {
   "LaTeX_envs_menu_present": true,
   "autocomplete": true,
   "bibliofile": "biblio.bib",
   "cite_by": "apalike",
   "current_citInitial": 1,
   "eqLabelWithNumbers": true,
   "eqNumInitial": 1,
   "hotkeys": {
    "equation": "Ctrl-E",
    "itemize": "Ctrl-I"
   },
   "labels_anchors": false,
   "latex_user_defs": false,
   "report_style_numbering": false,
   "user_envs_cfg": false
  }
 },
 "nbformat": 4,
 "nbformat_minor": 2
}
