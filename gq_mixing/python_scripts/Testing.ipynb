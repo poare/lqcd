{
 "cells": [
  {
   "cell_type": "code",
   "execution_count": null,
   "metadata": {},
   "outputs": [],
   "source": [
    "%load_ext autoreload\n",
    "%autoreload 2\n",
    "%matplotlib notebook\n",
    "\n",
    "# use CMU Serif\n",
    "import matplotlib as mpl\n",
    "import matplotlib.font_manager as font_manager\n",
    "mpl.rcParams['font.family']='serif'\n",
    "# cmfont = font_manager.FontProperties(fname=mpl.get_data_path() + '/fonts/ttf/cmr10.ttf')\n",
    "cmfont = font_manager.FontProperties('/Users/theoares/Library/Fonts/cmunrm.otf')\n",
    "mpl.rcParams['font.serif']=cmfont.get_name()\n",
    "mpl.rcParams['mathtext.fontset']='cm'\n",
    "mpl.rcParams['axes.unicode_minus']=False\n",
    "\n",
    "from mpl_toolkits.axes_grid1.inset_locator import zoomed_inset_axes\n",
    "from mpl_toolkits.axes_grid1.inset_locator import inset_axes\n",
    "from mpl_toolkits.axes_grid1.inset_locator import mark_inset\n",
    "from matplotlib.transforms import Bbox\n",
    "\n",
    "import numpy as np\n",
    "import matplotlib.pyplot as plt\n",
    "from scipy.optimize import root\n",
    "import h5py\n",
    "import os\n",
    "import itertools\n",
    "# from utils import *"
   ]
  },
  {
   "cell_type": "markdown",
   "metadata": {},
   "source": [
    "## Playing with some actual data"
   ]
  },
  {
   "cell_type": "code",
   "execution_count": null,
   "metadata": {},
   "outputs": [],
   "source": [
    "# cfgs which had gf problems: 1020, 1100, 1190\n",
    "# cfgs which had issues writing measurement to file: 1110, 1140, 1180"
   ]
  },
  {
   "cell_type": "code",
   "execution_count": null,
   "metadata": {},
   "outputs": [],
   "source": [
    "f2path = '/Users/theoares/Dropbox (MIT)/research/gq_mixing/meas/cl21_48_96_b6p3_m0p2416_m0p2050_89157/cfg1110.h5'\n",
    "f2 = h5py.File(f2path, 'r')\n",
    "print(f2['Gqq/31/p6000'][()])"
   ]
  },
  {
   "cell_type": "code",
   "execution_count": null,
   "metadata": {},
   "outputs": [],
   "source": [
    "# some of the files are corrupted, which you can check in the slurm output (although they still wrote to the file). \n",
    "# however, some of them are working fine. Going to try to run on the bad files with more nodes and see what happens\n",
    "# for the corrupted files, see what the correlator orders of magnitude are-- currently one Gqq for 1140 (one of the \n",
    "# ones which errored) is having some major issues\n",
    "fpath = '/Users/theoares/Dropbox (MIT)/research/gq_mixing/meas/cl21_48_96_b6p3_m0p2416_m0p2050_89127/cfg1050.h5'\n",
    "f = h5py.File(fpath, 'r')\n",
    "print(f['Gqq/31/p6000'][()])"
   ]
  },
  {
   "cell_type": "code",
   "execution_count": null,
   "metadata": {},
   "outputs": [],
   "source": [
    "f['prop/p2222'][()]"
   ]
  },
  {
   "cell_type": "markdown",
   "metadata": {},
   "source": [
    "## Test that sequential matrix elements (computed at the same seed) are equal for the quark EMT between npr_momfrac and gq_mixing"
   ]
  },
  {
   "cell_type": "code",
   "execution_count": null,
   "metadata": {},
   "outputs": [],
   "source": [
    "npr_path = '/Users/theoares/Dropbox (MIT)/research/gq_mixing/meas/tests/cl3_16_48_b6p1_m0p2450_89069/cfg1000.h5'\n",
    "# gq_path = '/Users/theoares/Dropbox (MIT)/research/gq_mixing/meas/tests/cl21_48_96_b6p3_m0p2416_m0p2050_89114/cfg1000.h5'\n",
    "gq_path = '/Users/theoares/Dropbox (MIT)/research/gq_mixing/meas/tests/cl21_48_96_b6p3_m0p2416_m0p2050_89122/cfg1000.h5'\n",
    "fnpr = h5py.File(npr_path, 'r')\n",
    "fgq = h5py.File(gq_path, 'r')\n",
    "vol = (16 ** 3) * 48"
   ]
  },
  {
   "cell_type": "code",
   "execution_count": null,
   "metadata": {},
   "outputs": [],
   "source": [
    "fnpr['prop/p4444'][()]"
   ]
  },
  {
   "cell_type": "code",
   "execution_count": null,
   "metadata": {},
   "outputs": [],
   "source": [
    "np.max((fnpr['O11/p2222'][()] - fnpr['O22/p2222'][()]) / np.sqrt(2) - fgq['Gqq/32/p2222'][()])"
   ]
  },
  {
   "cell_type": "code",
   "execution_count": null,
   "metadata": {},
   "outputs": [],
   "source": [
    "fnpr['O33/p2222'][()]"
   ]
  },
  {
   "cell_type": "code",
   "execution_count": null,
   "metadata": {},
   "outputs": [],
   "source": [
    "fgq['Gqq/31/p2222'][()]"
   ]
  },
  {
   "cell_type": "code",
   "execution_count": null,
   "metadata": {},
   "outputs": [],
   "source": [
    "fgq['Gqq/31/p2222'][()]"
   ]
  },
  {
   "cell_type": "code",
   "execution_count": null,
   "metadata": {},
   "outputs": [],
   "source": [
    "fgq['prop/p4444'][()]"
   ]
  },
  {
   "cell_type": "code",
   "execution_count": null,
   "metadata": {},
   "outputs": [],
   "source": [
    "fnpr.close()"
   ]
  },
  {
   "cell_type": "code",
   "execution_count": null,
   "metadata": {},
   "outputs": [],
   "source": [
    "fgq.close()"
   ]
  },
  {
   "cell_type": "code",
   "execution_count": null,
   "metadata": {},
   "outputs": [],
   "source": [
    "ex_path = '/Users/theoares/Dropbox (MIT)/research/gq_mixing/meas/examples/1920.h5'\n",
    "f = h5py.File(ex_path, 'r')"
   ]
  },
  {
   "cell_type": "code",
   "execution_count": null,
   "metadata": {},
   "outputs": [],
   "source": [
    "three_pt = f['QuarkGFF/NucleonUminusDUpUp/pf10m1/tf8/1920/x15y11z29t16'][()]"
   ]
  },
  {
   "cell_type": "code",
   "execution_count": null,
   "metadata": {},
   "outputs": [],
   "source": [
    "three_pt.shape"
   ]
  },
  {
   "cell_type": "code",
   "execution_count": null,
   "metadata": {},
   "outputs": [],
   "source": [
    "three_pt[]"
   ]
  }
 ],
 "metadata": {
  "kernelspec": {
   "display_name": "Python 3",
   "language": "python",
   "name": "python3"
  },
  "language_info": {
   "codemirror_mode": {
    "name": "ipython",
    "version": 3
   },
   "file_extension": ".py",
   "mimetype": "text/x-python",
   "name": "python",
   "nbconvert_exporter": "python",
   "pygments_lexer": "ipython3",
   "version": "3.7.1"
  },
  "latex_envs": {
   "LaTeX_envs_menu_present": true,
   "autocomplete": true,
   "bibliofile": "biblio.bib",
   "cite_by": "apalike",
   "current_citInitial": 1,
   "eqLabelWithNumbers": true,
   "eqNumInitial": 1,
   "hotkeys": {
    "equation": "Ctrl-E",
    "itemize": "Ctrl-I"
   },
   "labels_anchors": false,
   "latex_user_defs": false,
   "report_style_numbering": false,
   "user_envs_cfg": false
  }
 },
 "nbformat": 4,
 "nbformat_minor": 2
}
