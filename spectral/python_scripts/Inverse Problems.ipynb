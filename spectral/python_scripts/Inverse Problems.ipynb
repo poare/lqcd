{
 "cells": [
  {
   "cell_type": "code",
   "execution_count": 24,
   "id": "f65da049",
   "metadata": {},
   "outputs": [
    {
     "name": "stdout",
     "output_type": "stream",
     "text": [
      "The autoreload extension is already loaded. To reload it, use:\n",
      "  %reload_ext autoreload\n"
     ]
    }
   ],
   "source": [
    "%load_ext autoreload\n",
    "%autoreload 2\n",
    "\n",
    "from utils import *\n",
    "import sys\n",
    "sys.path.append('/Users/theoares/lqcd/utilities')\n",
    "import plottools as pt\n",
    "\n",
    "sys.path.append('/Users/theoares/inverse_problems/inverse_problems/')\n",
    "import nevanlinna as nv\n",
    "from fileio import *"
   ]
  },
  {
   "cell_type": "code",
   "execution_count": 14,
   "id": "17744fdb",
   "metadata": {},
   "outputs": [
    {
     "data": {
      "text/plain": [
       "mpc('0.0+2.0j',(128,128))"
      ]
     },
     "execution_count": 14,
     "metadata": {},
     "output_type": "execute_result"
    }
   ],
   "source": [
    "2*gmp.mpc(0, 1)"
   ]
  },
  {
   "cell_type": "code",
   "execution_count": 13,
   "id": "6ab57b9a",
   "metadata": {},
   "outputs": [
    {
     "ename": "TypeError",
     "evalue": "invalid type for imaginary component in mpc()",
     "output_type": "error",
     "traceback": [
      "\u001b[0;31m---------------------------------------------------------------------------\u001b[0m",
      "\u001b[0;31mTypeError\u001b[0m                                 Traceback (most recent call last)",
      "Input \u001b[0;32mIn [13]\u001b[0m, in \u001b[0;36m<module>\u001b[0;34m\u001b[0m\n\u001b[1;32m      1\u001b[0m rng \u001b[38;5;241m=\u001b[39m np\u001b[38;5;241m.\u001b[39marange(\u001b[38;5;241m5\u001b[39m)\n\u001b[0;32m----> 2\u001b[0m [gmp\u001b[38;5;241m.\u001b[39mmpc(\u001b[38;5;241m0\u001b[39m, n) \u001b[38;5;28;01mfor\u001b[39;00m n \u001b[38;5;129;01min\u001b[39;00m rng]\n",
      "Input \u001b[0;32mIn [13]\u001b[0m, in \u001b[0;36m<listcomp>\u001b[0;34m(.0)\u001b[0m\n\u001b[1;32m      1\u001b[0m rng \u001b[38;5;241m=\u001b[39m np\u001b[38;5;241m.\u001b[39marange(\u001b[38;5;241m5\u001b[39m)\n\u001b[0;32m----> 2\u001b[0m [\u001b[43mgmp\u001b[49m\u001b[38;5;241;43m.\u001b[39;49m\u001b[43mmpc\u001b[49m\u001b[43m(\u001b[49m\u001b[38;5;241;43m0\u001b[39;49m\u001b[43m,\u001b[49m\u001b[43m \u001b[49m\u001b[43mn\u001b[49m\u001b[43m)\u001b[49m \u001b[38;5;28;01mfor\u001b[39;00m n \u001b[38;5;129;01min\u001b[39;00m rng]\n",
      "\u001b[0;31mTypeError\u001b[0m: invalid type for imaginary component in mpc()"
     ]
    }
   ],
   "source": [
    "rng = np.arange(5)\n",
    "[gmp.mpc(0, 2*n) for n in rng]"
   ]
  },
  {
   "cell_type": "code",
   "execution_count": 17,
   "id": "a721242d",
   "metadata": {},
   "outputs": [],
   "source": [
    "# TODO make sure there aren't any rounding errors here in how we construct the frequencies\n",
    "def matsubara(beta, boson = False):\n",
    "    rng = np.arange(beta)\n",
    "    if boson:\n",
    "        return np.array([2*gmp.const_pi()*I*n/beta for n in rng])\n",
    "    return np.array([(2*n + 1)*gmp.const_pi()*I/beta for n in rng])"
   ]
  },
  {
   "cell_type": "code",
   "execution_count": 20,
   "id": "39bcc572",
   "metadata": {},
   "outputs": [
    {
     "data": {
      "text/plain": [
       "mpfr('3.141592653589793238462643383279502884195',128)"
      ]
     },
     "execution_count": 20,
     "metadata": {},
     "output_type": "execute_result"
    }
   ],
   "source": [
    "gmp.const_pi()"
   ]
  },
  {
   "cell_type": "code",
   "execution_count": 7,
   "id": "e87fe210",
   "metadata": {},
   "outputs": [
    {
     "data": {
      "text/plain": [
       "array([0, 1, 2, 3, 4])"
      ]
     },
     "execution_count": 7,
     "metadata": {},
     "output_type": "execute_result"
    }
   ],
   "source": [
    "np.arange(5)"
   ]
  },
  {
   "cell_type": "code",
   "execution_count": 8,
   "id": "f77adaf6",
   "metadata": {},
   "outputs": [
    {
     "data": {
      "text/plain": [
       "array([mpc('0.0+0.0j',(128,128)), mpc('0.0+1.0j',(128,128)),\n",
       "       mpc('0.0+2.0j',(128,128)), mpc('0.0+3.0j',(128,128)),\n",
       "       mpc('0.0+4.0j',(128,128))], dtype=object)"
      ]
     },
     "execution_count": 8,
     "metadata": {},
     "output_type": "execute_result"
    }
   ],
   "source": [
    "np.array([gmp.mpc(0+z*(1j)) for z in np.arange(5)])"
   ]
  },
  {
   "cell_type": "code",
   "execution_count": 2,
   "id": "fe97ca4d",
   "metadata": {},
   "outputs": [],
   "source": [
    "beta = 48\n",
    "freqs = np.array([gmp.mpc(0+n*(1j)) for n in range(32)])\n",
    "\n",
    "beta = 48\n",
    "m = 0.05\n",
    "\n",
    "freq_b = matsubara(beta, boson=True)"
   ]
  },
  {
   "cell_type": "code",
   "execution_count": null,
   "id": "c289cb53",
   "metadata": {},
   "outputs": [],
   "source": [
    "freqs = np.array([0+1j, 0+2j, 0+3j, 0+4j, 0+5j], dtype = np.complex64)\n",
    "NG = np.array([0.2+0.4j, 0.1 + 0.92j, -0.43 + 0.03j, -0.8+0.23j, 0.2+0.1j], dtype = np.complex64)"
   ]
  }
 ],
 "metadata": {
  "kernelspec": {
   "display_name": "Python 3 (ipykernel)",
   "language": "python",
   "name": "python3"
  },
  "language_info": {
   "codemirror_mode": {
    "name": "ipython",
    "version": 3
   },
   "file_extension": ".py",
   "mimetype": "text/x-python",
   "name": "python",
   "nbconvert_exporter": "python",
   "pygments_lexer": "ipython3",
   "version": "3.10.2"
  },
  "latex_envs": {
   "LaTeX_envs_menu_present": true,
   "autocomplete": true,
   "bibliofile": "biblio.bib",
   "cite_by": "apalike",
   "current_citInitial": 1,
   "eqLabelWithNumbers": true,
   "eqNumInitial": 1,
   "hotkeys": {
    "equation": "Ctrl-E",
    "itemize": "Ctrl-I"
   },
   "labels_anchors": false,
   "latex_user_defs": false,
   "report_style_numbering": false,
   "user_envs_cfg": false
  }
 },
 "nbformat": 4,
 "nbformat_minor": 5
}
