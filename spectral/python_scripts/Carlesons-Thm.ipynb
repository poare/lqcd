{
 "cells": [
  {
   "cell_type": "code",
   "execution_count": 1,
   "id": "6de12a76",
   "metadata": {},
   "outputs": [],
   "source": [
    "import os\n",
    "import sys\n",
    "from time import time\n",
    "import numpy as np\n",
    "import h5py \n",
    "import seaborn as sns\n",
    "import scipy.interpolate as interpolate\n",
    "\n",
    "PREC = 256\n",
    "import gmpy2 as gmp\n",
    "gmp.get_context().precision = PREC\n",
    "\n",
    "from importlib import reload\n",
    "\n",
    "sys.path.append('/Users/theoares/lqcd/utilities')\n",
    "import plottools as pt\n",
    "from formattools import *\n",
    "pt.set_font()\n",
    "default_style = styles['notebook']\n",
    "\n",
    "import numpy as np\n",
    "\n",
    "sys.path.append('/Users/theoares/lqcd_analysis/lqcd_analysis')\n",
    "# from lqcd_analysis import visualize as plt\n",
    "import visualize as plt\n",
    "# import matplotlib.pyplt as plt\n",
    "\n",
    "sys.path.append('/Users/theoares/lqcd/spectral/recon_tools')\n",
    "# from inverse_problems import jax_spline\n",
    "import jax_spline\n",
    "\n",
    "sys.path.append('/Users/theoares/inverse_problems/inverse_problems')\n",
    "from inverse_problems import nevanlinna as nv"
   ]
  },
  {
   "cell_type": "code",
   "execution_count": null,
   "id": "df259bbc",
   "metadata": {},
   "outputs": [],
   "source": []
  }
 ],
 "metadata": {
  "kernelspec": {
   "display_name": "Python 3 (ipykernel)",
   "language": "python",
   "name": "python3"
  },
  "language_info": {
   "codemirror_mode": {
    "name": "ipython",
    "version": 3
   },
   "file_extension": ".py",
   "mimetype": "text/x-python",
   "name": "python",
   "nbconvert_exporter": "python",
   "pygments_lexer": "ipython3",
   "version": "3.10.2"
  },
  "latex_envs": {
   "LaTeX_envs_menu_present": true,
   "autocomplete": true,
   "bibliofile": "biblio.bib",
   "cite_by": "apalike",
   "current_citInitial": 1,
   "eqLabelWithNumbers": true,
   "eqNumInitial": 1,
   "hotkeys": {
    "equation": "Ctrl-E",
    "itemize": "Ctrl-I"
   },
   "labels_anchors": false,
   "latex_user_defs": false,
   "report_style_numbering": false,
   "user_envs_cfg": false
  }
 },
 "nbformat": 4,
 "nbformat_minor": 5
}
