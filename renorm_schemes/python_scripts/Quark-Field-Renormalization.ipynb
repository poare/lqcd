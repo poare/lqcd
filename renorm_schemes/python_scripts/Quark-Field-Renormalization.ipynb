{
 "cells": [
  {
   "cell_type": "markdown",
   "id": "c5418659",
   "metadata": {},
   "source": [
    "# Quark field renormalization"
   ]
  },
  {
   "cell_type": "markdown",
   "id": "013f0b1d",
   "metadata": {},
   "source": [
    "My usual workflow for writing code is to store utility functions in a ```.py``` script in the same folder, then import these functions into a Jupyter notebook. I've left some scaffolding code in ```utils.py``` that you should try to implement-- let me know if anything isn't clear or if you have any questions!"
   ]
  },
  {
   "cell_type": "code",
   "execution_count": null,
   "id": "35b3bcb1",
   "metadata": {},
   "outputs": [
    {
     "ename": "",
     "evalue": "",
     "output_type": "error",
     "traceback": [
      "\u001b[1;31mRunning cells with 'Python 3.10.7 64-bit' requires ipykernel package.\n",
      "\u001b[1;31mRun the following command to install 'ipykernel' into the Python environment. \n",
      "\u001b[1;31mCommand: '/usr/local/bin/python3 -m pip install ipykernel -U --user --force-reinstall'"
     ]
    }
   ],
   "source": [
    "%load_ext autoreload\n",
    "%autoreload 2\n",
    "\n",
    "import matplotlib.pyplot as plt\n",
    "# from utils import *\n",
    "import sys\n",
    "sys.path.append('/Users/theoares/lqcd/utilities')\n",
    "from pytools import *\n",
    "from formattools import *\n",
    "import plottools as pt"
   ]
  },
  {
   "cell_type": "markdown",
   "id": "30f7b567",
   "metadata": {},
   "source": [
    "## Read input data"
   ]
  },
  {
   "cell_type": "markdown",
   "id": "cde7dfc7",
   "metadata": {},
   "source": [
    "Reads input data from an hdf5 file using the ```h5py``` module. Here ```cfgs``` will store the paths to all the configurations. You can read a file with ```f = h5py.File(file_name, 'r')```, where ```'r'``` is the flag to read the file. If you want to write an hdf5 file, use the ```'w'``` flag.\n",
    "\n",
    "The name of the folder specifies the lattice parameters. ```cl``` means the clover action is used (ch 9 of Gattringer & Lang), 3 means there are three degenerate quark flavors (up, down, and strange), ```24_24``` is the lattice geometry of $24^3\\times 24$ sites, ```b6p1``` means the gauge coupling is $\\beta = 6.1$, and ```m0p2450``` means the three quarks have a degenerate mass of $am = -0.2450$. \n",
    "\n",
    "Here's the documentation for ```h5py``` if you're interested!\n",
    "\n",
    "https://docs.h5py.org/en/stable/"
   ]
  },
  {
   "cell_type": "code",
   "execution_count": 2,
   "id": "460857fb",
   "metadata": {},
   "outputs": [
    {
     "name": "stdout",
     "output_type": "stream",
     "text": [
      "Number of configurations: \n",
      "12\n"
     ]
    }
   ],
   "source": [
    "# change in_dir to wherever on your computer the data is stored\n",
    "in_dir = '/Users/theoares/Dropbox (MIT)/research/npr_momfrac/meas/cl3_24_24_b6p1_m0p2450_25291'\n",
    "L, T = 24, 24        # lattice dimensions\n",
    "LL = np.array([L, L, L, T])\n",
    "\n",
    "cfgs = []\n",
    "for (dirpath, dirnames, file) in os.walk(in_dir):\n",
    "    cfgs.extend(file)\n",
    "for idx, cfg in enumerate(cfgs):\n",
    "    cfgs[idx] = in_dir + '/' + cfgs[idx]\n",
    "n_cfgs = len(cfgs)\n",
    "print('Number of configurations: \\n' + str(n_cfgs))"
   ]
  },
  {
   "cell_type": "markdown",
   "id": "13920529",
   "metadata": {},
   "source": [
    "You can think of h5py files as containing datasets, where you can access each dataset like a dictionary with the correct key. For example, here's what one of the files in ```cfgs``` contains. We'll focus on the ```'prop'``` group, which contains propagators. The propagators are computed at a given momentum $p$,\n",
    "$$\n",
    "    S(p) = \\sum_{x} e^{ip\\cdot (x - y)} \\langle q(x) \\overline q(y) \\rangle\n",
    "$$\n",
    "where $p^\\mu$ is the 4-momentum specified in the key's tag. For example, the tag 'props/p2142' means this propagator is computed at momentum $k = (1, 1, 1, 1)$. Renormalization coefficients are computed at a given momentum $\\mathcal Z(p)$, and later we can talk about why we want to know $\\mathcal Z(p)$ at a large amount of momenta. \n",
    "\n",
    "Let's use the momentum mode $k = (1, 1, 1, 1)$ for this calculation. Later we'll generalize whatever code we have to more momenta! Note that $k$ is a wavevector and indexes a momentum mode, and the actual value of the momentum is:\n",
    "$$\n",
    "    p_\\mu = \\frac{2\\pi k_\\mu}{L_\\mu}\n",
    "$$\n",
    "where $L_\\mu = (L, L, L, T)$ is the number of sites in each direction on the lattice. We'll also use the lattice momentum $\\tilde p_\\mu$, defined as\n",
    "$$\n",
    "    \\tilde{p}_\\mu = \\frac{2}{a} \\sin(\\frac{ap}{2})\n",
    "$$\n",
    "which is what you get for the momentum when you quantize it in finite volume. For small $ap$, the linear and lattice momentums are nearly identical because of $\\sin x\\sim x$. \n",
    "\n",
    "The propagator is a matrix in spinor space, and a matrix in color space, since each quark field has a spinor and a color index. It's therefore stored as a $(4, 4, 3, 3)$-dimensional tensor, and here we can see what it actually looks like numerically. We'll actually reshape it into a $(3, 4, 3, 4)$-dimensional tensor using the ```np.einsum``` function, as tensor-wise operations in the ```np.linalg``` library assume a square shape. The ```np.einsum``` function is your best friend for tensor manipulations, it essentially lets you do index notation on numpy arrays. Here's the documentation, I'd encourage you to check it out and play with a few examples: https://numpy.org/doc/stable/reference/generated/numpy.einsum.html"
   ]
  },
  {
   "cell_type": "code",
   "execution_count": 3,
   "id": "624c7c60",
   "metadata": {},
   "outputs": [
    {
     "name": "stdout",
     "output_type": "stream",
     "text": [
      "(12, 3, 4, 3, 4)\n"
     ]
    }
   ],
   "source": [
    "k = np.array([1, 1, 1, 1], dtype = np.float64)\n",
    "p = 2*np.pi*k / LL\n",
    "props = np.zeros((n_cfgs, 3, 4, 3, 4), dtype = np.complex64)\n",
    "for ii, cfg in enumerate(cfgs):\n",
    "    f = h5py.File(cfg, 'r')                             # read files\n",
    "    prop_tmp = f['prop/p1111'][()]                      # [()] opens the dataset\n",
    "    props[ii] = np.einsum('ijab->aibj', prop_tmp)        # store and reshape tensor\n",
    "    f.close()                                           # close file\n",
    "print(props.shape)"
   ]
  },
  {
   "cell_type": "markdown",
   "id": "1c20122b",
   "metadata": {},
   "source": [
    "### Bootstrap input data"
   ]
  },
  {
   "cell_type": "markdown",
   "id": "4043de7e",
   "metadata": {},
   "source": [
    "The propagator object $\\{S_i(p)_{\\alpha\\beta}^{ab}\\}_{i = 1}^{n_\\mathrm{cfgs}}$ is stored as a $(n_\\mathrm{cfgs}, 3, 4, 3, 4)$ dimensional tensor, where $i$ runs over configurations, $a, b$ are color indices, and $\\alpha, \\beta$ are spinor indices. To estimate the population distribution, we have to bootstrap the input data. The procedure of boostrapping takes the input data, computed on each Monte Carlo configuration, and returns a new distribution $\\{S_b(p)_{\\alpha\\beta}^{ab}\\}_{b = 1}^{n_\\mathrm{boot}}$, where $n_\\mathrm{boot}$ is usually picked to be close to $n_\\mathrm{cfgs}$. We'll use $n_\\mathrm{boot} = 20$.\n",
    "\n",
    "To generate a bootstrap sample $S_b(p)$, pick $n_\\mathrm{cfgs}$ samples $S_i(p)$ at random **with replacement**, $\\{S_{i_1}(p), ..., S_{i_{n_\\mathrm{cfgs}}}(p))\\}$, where some of the $i_j$'s may be equal. You can do this with the ```np.random.choice``` function (https://numpy.org/doc/stable/reference/random/generated/numpy.random.choice.html). Once this is done, the bootstrap sample is generated by averaging over these propagators\n",
    "$$\n",
    "    S_b(p) = \\sum_{j = 1}^{n_\\mathrm{cfgs}} S_{i_j}(p)\n",
    "$$\n",
    "Repeat this procedure $n_\\mathrm{boot}$ times to get the bootstrap distribution."
   ]
  },
  {
   "cell_type": "code",
   "execution_count": 4,
   "id": "40ddf76c",
   "metadata": {},
   "outputs": [
    {
     "ename": "NotImplementedError",
     "evalue": "bootstrap needs to be implemented",
     "output_type": "error",
     "traceback": [
      "\u001b[0;31m---------------------------------------------------------------------------\u001b[0m",
      "\u001b[0;31mNotImplementedError\u001b[0m                       Traceback (most recent call last)",
      "Input \u001b[0;32mIn [4]\u001b[0m, in \u001b[0;36m<module>\u001b[0;34m\u001b[0m\n\u001b[1;32m      1\u001b[0m n_boot \u001b[38;5;241m=\u001b[39m \u001b[38;5;241m20\u001b[39m\n\u001b[0;32m----> 2\u001b[0m prop_boot \u001b[38;5;241m=\u001b[39m \u001b[43mbootstrap\u001b[49m\u001b[43m(\u001b[49m\u001b[43mprops\u001b[49m\u001b[43m,\u001b[49m\u001b[43m \u001b[49m\u001b[43mn_boot\u001b[49m\u001b[43m)\u001b[49m\n",
      "File \u001b[0;32m~/lqcd/renorm_schemes/python_scripts/utils.py:43\u001b[0m, in \u001b[0;36mbootstrap\u001b[0;34m(S, n_boot)\u001b[0m\n\u001b[1;32m     25\u001b[0m \u001b[38;5;124;03m\"\"\"\u001b[39;00m\n\u001b[1;32m     26\u001b[0m \u001b[38;5;124;03mBootstraps an input tensor. Generates each bootstrap sample by averaging \u001b[39;00m\n\u001b[1;32m     27\u001b[0m \u001b[38;5;124;03mover ncfgs data points, where ncfgs is the number of configurations in \u001b[39;00m\n\u001b[0;32m   (...)\u001b[0m\n\u001b[1;32m     40\u001b[0m \u001b[38;5;124;03m    Bootstrapped tensor.\u001b[39;00m\n\u001b[1;32m     41\u001b[0m \u001b[38;5;124;03m\"\"\"\u001b[39;00m\n\u001b[1;32m     42\u001b[0m S_boot \u001b[38;5;241m=\u001b[39m np\u001b[38;5;241m.\u001b[39mzeros((n_boot, \u001b[38;5;241m3\u001b[39m, \u001b[38;5;241m4\u001b[39m, \u001b[38;5;241m3\u001b[39m, \u001b[38;5;241m4\u001b[39m), dtype \u001b[38;5;241m=\u001b[39m np\u001b[38;5;241m.\u001b[39mcomplex64)\n\u001b[0;32m---> 43\u001b[0m \u001b[38;5;28;01mraise\u001b[39;00m \u001b[38;5;167;01mNotImplementedError\u001b[39;00m(\u001b[38;5;124m'\u001b[39m\u001b[38;5;124mbootstrap needs to be implemented\u001b[39m\u001b[38;5;124m'\u001b[39m)\n\u001b[1;32m     44\u001b[0m \u001b[38;5;28;01mreturn\u001b[39;00m S_boot\n",
      "\u001b[0;31mNotImplementedError\u001b[0m: bootstrap needs to be implemented"
     ]
    }
   ],
   "source": [
    "n_boot = 20\n",
    "prop_boot = bootstrap(props, n_boot)            # bootstrap() needs to be implemented in utils.py!"
   ]
  },
  {
   "cell_type": "markdown",
   "id": "f7092726",
   "metadata": {},
   "source": [
    "### Compute $\\mathcal Z(q)$"
   ]
  },
  {
   "cell_type": "markdown",
   "id": "fe67dbef",
   "metadata": {},
   "source": [
    "Once the propagators are bootstrapped, we need to compute the quark-field renormalization. This is done with the following definition:\n",
    "$$\n",
    "    \\mathcal Z_q(p^2) = \\frac{i}{12\\tilde{p}^2} \\mathrm{Tr} \\left[ S^{-1}(p) \\tilde p_\\mu \\gamma^\\mu]) \\right]\n",
    "$$\n",
    "The trace here is over spinor and color indices, and the easiest way to implement both the trace and the tensor multiplication is to use ```np.einsum```. I've given a basis for the $\\gamma^\\mu$ matrices that you can use in ```utils.py```, they're just the ```gamma``` variable."
   ]
  },
  {
   "cell_type": "code",
   "execution_count": null,
   "id": "2300934b",
   "metadata": {},
   "outputs": [],
   "source": [
    "Zq = quark_renorm(prop_boot, p, n_boot)"
   ]
  },
  {
   "cell_type": "code",
   "execution_count": null,
   "id": "1cc98113",
   "metadata": {},
   "outputs": [],
   "source": []
  }
 ],
 "metadata": {
  "kernelspec": {
   "display_name": "Python 3.10.7 64-bit",
   "language": "python",
   "name": "python3"
  },
  "language_info": {
   "codemirror_mode": {
    "name": "ipython",
    "version": 3
   },
   "file_extension": ".py",
   "mimetype": "text/x-python",
   "name": "python",
   "nbconvert_exporter": "python",
   "pygments_lexer": "ipython3",
   "version": "3.10.7"
  },
  "latex_envs": {
   "LaTeX_envs_menu_present": true,
   "autocomplete": true,
   "bibliofile": "biblio.bib",
   "cite_by": "apalike",
   "current_citInitial": 1,
   "eqLabelWithNumbers": true,
   "eqNumInitial": 1,
   "hotkeys": {
    "equation": "Ctrl-E",
    "itemize": "Ctrl-I"
   },
   "labels_anchors": false,
   "latex_user_defs": false,
   "report_style_numbering": false,
   "user_envs_cfg": false
  },
  "vscode": {
   "interpreter": {
    "hash": "aee8b7b246df8f9039afb4144a1f6fd8d2ca17a180786b69acc140d282b71a49"
   }
  }
 },
 "nbformat": 4,
 "nbformat_minor": 5
}
