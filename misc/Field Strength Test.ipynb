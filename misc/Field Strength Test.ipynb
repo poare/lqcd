{
 "cells": [
  {
   "cell_type": "code",
   "execution_count": 1,
   "metadata": {},
   "outputs": [],
   "source": [
    "import os\n",
    "import h5py\n",
    "import numpy as np"
   ]
  },
  {
   "cell_type": "code",
   "execution_count": 26,
   "metadata": {},
   "outputs": [],
   "source": [
    "infilename = \"/Users/theoares/lqcd/misc/field_strength27870.h5\"\n",
    "f = h5py.File(infilename,'r')"
   ]
  },
  {
   "cell_type": "code",
   "execution_count": 31,
   "metadata": {},
   "outputs": [],
   "source": [
    "# mu, nu, a, Lt\n",
    "F = np.zeros((4, 4, 8, 8), dtype = np.complex64)\n",
    "for mu in range(4):\n",
    "    for nu in range(4):\n",
    "        for a in range(8):\n",
    "            F[mu, nu, a, :] = f['bcs_zero/F' + str(mu + 1) + str(nu + 1) + str(a + 1)][()]"
   ]
  },
  {
   "cell_type": "code",
   "execution_count": 32,
   "metadata": {},
   "outputs": [
    {
     "name": "stdout",
     "output_type": "stream",
     "text": [
      "[ 0.20746115-2.4806546e-16j  0.3244073 -1.0928758e-16j\n",
      " -0.3466633 -2.5326963e-16j  0.19028941+5.7245875e-17j\n",
      "  0.3093995 +1.0581813e-16j  0.01869601+1.3010426e-16j\n",
      "  0.32968697+6.2450045e-17j -0.38421154+1.0408341e-17j]\n"
     ]
    }
   ],
   "source": [
    "print(F[0, 1, 0][()])"
   ]
  },
  {
   "cell_type": "code",
   "execution_count": 33,
   "metadata": {},
   "outputs": [
    {
     "name": "stdout",
     "output_type": "stream",
     "text": [
      "[ 0.05428137+1.7347235e-18j -0.02357325+5.8546917e-18j\n",
      " -0.01900823-4.9873300e-17j  0.05823561+1.3986208e-17j\n",
      " -0.08843262+3.9031278e-18j -0.04658529+1.1969592e-16j\n",
      " -0.09856685+1.3444107e-17j  0.00198559-1.5612511e-17j]\n"
     ]
    }
   ],
   "source": [
    "print(F[0, 1, 1][()])"
   ]
  },
  {
   "cell_type": "code",
   "execution_count": 24,
   "metadata": {},
   "outputs": [
    {
     "name": "stdout",
     "output_type": "stream",
     "text": [
      "[ 0.9580323 -1.1917550e-15j -0.05878993-1.7466497e-16j\n",
      " -0.32168648+1.7763568e-15j -0.77727973-4.5102810e-16j\n",
      " -0.0272567 +3.1853860e-16j -0.3875313 +1.0590487e-15j\n",
      "  0.01807414-2.4936650e-18j -0.82647544-1.1537776e-15j]\n"
     ]
    }
   ],
   "source": [
    "print(F[0, 2])"
   ]
  },
  {
   "cell_type": "code",
   "execution_count": 25,
   "metadata": {},
   "outputs": [
    {
     "name": "stdout",
     "output_type": "stream",
     "text": [
      "[ 1.7378715 -1.3010426e-16j -0.31010967-1.5840194e-16j\n",
      "  0.0377286 +2.2204460e-16j -0.8779856 +2.6714742e-16j\n",
      "  0.19297162-9.7144515e-17j -0.56912553+5.9501015e-16j\n",
      "  0.26631522+1.6696713e-16j -2.1859891 +3.8459253e-16j]\n"
     ]
    }
   ],
   "source": [
    "print(F[0, 3])"
   ]
  },
  {
   "cell_type": "code",
   "execution_count": 18,
   "metadata": {},
   "outputs": [
    {
     "name": "stdout",
     "output_type": "stream",
     "text": [
      "[ 1.0413634 +0.35569528j  0.01489648+0.08525921j  0.5235303 -0.22815634j\n",
      "  0.4380261 +0.41436082j -0.0882194 +0.03872206j  0.07398945+0.04622375j\n",
      " -0.04306882-0.01538265j  0.6064502 +0.03617504j]\n"
     ]
    }
   ],
   "source": [
    "print(Fbose[0, 1])"
   ]
  },
  {
   "cell_type": "code",
   "execution_count": 19,
   "metadata": {},
   "outputs": [
    {
     "name": "stdout",
     "output_type": "stream",
     "text": [
      "[ 0.53882223-0.30873734j -0.15186223+0.07311208j -1.2509604 -0.67910796j\n",
      "  1.1950264 +0.6147949j  -0.15371136+0.10891346j  0.6029068 -0.6399755j\n",
      " -0.1517348 +0.11205167j -0.28415525-0.30125812j]\n"
     ]
    }
   ],
   "source": [
    "print(Fferm[0, 1])"
   ]
  },
  {
   "cell_type": "code",
   "execution_count": null,
   "metadata": {},
   "outputs": [],
   "source": []
  }
 ],
 "metadata": {
  "kernelspec": {
   "display_name": "Python 3",
   "language": "python",
   "name": "python3"
  },
  "language_info": {
   "codemirror_mode": {
    "name": "ipython",
    "version": 3
   },
   "file_extension": ".py",
   "mimetype": "text/x-python",
   "name": "python",
   "nbconvert_exporter": "python",
   "pygments_lexer": "ipython3",
   "version": "3.7.1"
  },
  "latex_envs": {
   "LaTeX_envs_menu_present": true,
   "autocomplete": true,
   "bibliofile": "biblio.bib",
   "cite_by": "apalike",
   "current_citInitial": 1,
   "eqLabelWithNumbers": true,
   "eqNumInitial": 1,
   "hotkeys": {
    "equation": "Ctrl-E",
    "itemize": "Ctrl-I"
   },
   "labels_anchors": false,
   "latex_user_defs": false,
   "report_style_numbering": false,
   "user_envs_cfg": false
  }
 },
 "nbformat": 4,
 "nbformat_minor": 2
}
