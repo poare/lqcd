{
 "cells": [
  {
   "cell_type": "code",
   "execution_count": 5,
   "metadata": {},
   "outputs": [
    {
     "name": "stdout",
     "output_type": "stream",
     "text": [
      "The autoreload extension is already loaded. To reload it, use:\n",
      "  %reload_ext autoreload\n"
     ]
    }
   ],
   "source": [
    "%load_ext autoreload\n",
    "%autoreload 2\n",
    "%matplotlib notebook\n",
    "\n",
    "import numpy as np\n",
    "import matplotlib.pyplot as plt\n",
    "from scipy.optimize import root\n",
    "import h5py\n",
    "import os\n",
    "import itertools\n",
    "from scipy.special import kn\n",
    "from utils import *"
   ]
  },
  {
   "cell_type": "code",
   "execution_count": 2,
   "metadata": {},
   "outputs": [],
   "source": [
    "n_cfgs = 5\n",
    "n_ops = 5\n",
    "mat_elems = np.zeros((n_cfgs, n_ops), dtype = np.float64)\n",
    "mat_elems_σ = np.zeros((n_cfgs, n_ops), dtype = np.float64)\n",
    "configs = ['24I/ml_0p01', '24I/ml_0p005', '32I/ml0p008', '32I/ml0p006', '32I/ml0p004']\n",
    "labels = ['O1', 'O2', 'O3', 'O1p', 'O2p']\n",
    "for cfg_idx, config in enumerate(configs):\n",
    "    path = '/Users/theoares/Dropbox (MIT)/research/0nubb/short_distance/fits/' + config + '/fit_params.h5'\n",
    "    f = h5py.File(path, 'r')\n",
    "    for op_idx in range(n_ops):\n",
    "        mat_elems[cfg_idx, op_idx] = f[labels[op_idx] + '/mean'][()]\n",
    "        mat_elems_σ[cfg_idx, op_idx] = f[labels[op_idx] + '/std'][()]\n",
    "    f.close()"
   ]
  },
  {
   "cell_type": "code",
   "execution_count": 4,
   "metadata": {},
   "outputs": [
    {
     "name": "stdout",
     "output_type": "stream",
     "text": [
      "[[-0.04656432 -0.08022133  0.00277413 -0.14389072  0.01957488]\n",
      " [-0.03917458 -0.06696432  0.00139919 -0.12275337  0.01639945]\n",
      " [-0.01476021 -0.02322309  0.00066709 -0.04590876  0.00577513]\n",
      " [-0.01307662 -0.02061964  0.00045255 -0.04093731  0.00514034]\n",
      " [-0.01174265 -0.01839895  0.00027605 -0.0370198   0.00459215]]\n",
      "[[2.84985786e-04 6.46432297e-04 1.34095153e-05 8.99060425e-04\n",
      "  1.57551502e-04]\n",
      " [2.41377164e-04 6.95264040e-04 1.05219362e-05 7.57158809e-04\n",
      "  1.72235492e-04]\n",
      " [1.07282476e-04 2.14839087e-04 4.39944448e-06 3.40621166e-04\n",
      "  5.44631817e-05]\n",
      " [9.07497750e-05 2.02615319e-04 2.85400038e-06 2.91981055e-04\n",
      "  5.04492862e-05]\n",
      " [7.88810704e-05 2.02793588e-04 1.85466329e-06 2.53055916e-04\n",
      "  5.04578252e-05]]\n"
     ]
    }
   ],
   "source": [
    "print(mat_elems)\n",
    "print(mat_elems_σ)"
   ]
  },
  {
   "cell_type": "code",
   "execution_count": 10,
   "metadata": {},
   "outputs": [],
   "source": [
    "def f0(m, L):\n",
    "    f0 = 0\n",
    "    for n1, n2, n3 in itertools.product(range(L), repeat = 3):\n",
    "        if n1 == 0 and n2 == 0 and n3 == 0:\n",
    "            continue\n",
    "        n = np.sqrt(float(n1) ** 2 + float(n2) ** 2 + float(n3) ** 2)\n",
    "        f0 += -2 * kn(0, m * L * n)\n",
    "    return f0\n",
    "def f1(m, L):\n",
    "    f1 = 0\n",
    "    for n1, n2, n3 in itertools.product(range(L), repeat = 3):\n",
    "        if n1 == 0 and n2 == 0 and n3 == 0:\n",
    "            continue\n",
    "        n = np.sqrt(float(n1) ** 2 + float(n2) ** 2 + float(n3) ** 2)\n",
    "        f1 += 4 * kn(1, m * L * n) / (m * L * n)\n",
    "    return f0"
   ]
  },
  {
   "cell_type": "code",
   "execution_count": null,
   "metadata": {},
   "outputs": [],
   "source": []
  }
 ],
 "metadata": {
  "kernelspec": {
   "display_name": "Python 3",
   "language": "python",
   "name": "python3"
  },
  "language_info": {
   "codemirror_mode": {
    "name": "ipython",
    "version": 3
   },
   "file_extension": ".py",
   "mimetype": "text/x-python",
   "name": "python",
   "nbconvert_exporter": "python",
   "pygments_lexer": "ipython3",
   "version": "3.7.1"
  },
  "latex_envs": {
   "LaTeX_envs_menu_present": true,
   "autocomplete": true,
   "bibliofile": "biblio.bib",
   "cite_by": "apalike",
   "current_citInitial": 1,
   "eqLabelWithNumbers": true,
   "eqNumInitial": 1,
   "hotkeys": {
    "equation": "Ctrl-E",
    "itemize": "Ctrl-I"
   },
   "labels_anchors": false,
   "latex_user_defs": false,
   "report_style_numbering": false,
   "user_envs_cfg": false
  }
 },
 "nbformat": 4,
 "nbformat_minor": 2
}
