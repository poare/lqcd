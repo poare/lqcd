{
 "cells": [
  {
   "cell_type": "code",
   "execution_count": 1,
   "id": "4102a905",
   "metadata": {},
   "outputs": [],
   "source": [
    "import numpy as np\n",
    "import seaborn as sns\n",
    "import matplotlib.pyplot as plt\n",
    "from scipy.optimize import root\n",
    "from scipy.linalg import block_diag\n",
    "import h5py\n",
    "import os\n",
    "import itertools\n",
    "import pandas as pd\n",
    "import gvar as gv\n",
    "import lsqfit\n",
    "from utils import *\n",
    "from importlib import reload\n",
    "\n",
    "import sys\n",
    "sys.path.append('/Users/theoares/lqcd/utilities')\n",
    "from fittools import *\n",
    "from formattools import *\n",
    "import plottools as pt\n",
    "\n",
    "style = styles['notebook']\n",
    "pt.set_font()"
   ]
  },
  {
   "cell_type": "markdown",
   "id": "fde23e43",
   "metadata": {},
   "source": [
    "### Run bootstrap tests"
   ]
  },
  {
   "cell_type": "code",
   "execution_count": 14,
   "id": "1b939a3a",
   "metadata": {},
   "outputs": [],
   "source": [
    "# bootstraps run\n",
    "f01 = h5py.File('/Users/theoares/Dropbox (MIT)/research/0nubb/analysis_output/24I/ml0p01/Z_gamma_downstream.h5', 'r')\n",
    "Zq01_b = f01['ZqbyZV'][()][0]\n",
    "Z2201_b = f01['Z22byZVsq'][()][0]\n",
    "k_list = f01['momenta']\n",
    "f01.close()\n",
    "mu0 = 2.64203439\n",
    "\n",
    "f005 = h5py.File('/Users/theoares/Dropbox (MIT)/research/0nubb/analysis_output/24I/ml0p005/Z_gamma_downstream.h5', 'r')\n",
    "Zq005_b = f005['ZqbyZV'][()][0]\n",
    "Z22005_b = f005['Z22byZVsq'][()][0]\n",
    "f005.close()"
   ]
  },
  {
   "cell_type": "code",
   "execution_count": 3,
   "id": "9233b05e",
   "metadata": {},
   "outputs": [
    {
     "name": "stdout",
     "output_type": "stream",
     "text": [
      "Z22 on ml0p005 (original): 1.04949(12)\n",
      "Z22 on ml0p01 (original): 1.049296(78)\n"
     ]
    }
   ],
   "source": [
    "Z2201_b_mu = np.mean(Z2201_b)\n",
    "Z2201_b_sigma = np.std(Z2201_b, ddof = 1)\n",
    "Z22005_b_mu = np.mean(Z22005_b)\n",
    "Z22005_b_sigma = np.std(Z22005_b, ddof = 1)\n",
    "\n",
    "print('Z22 on ml0p005 (original): ' + export_float_latex(np.real(Z2201_b_mu), np.real(Z2201_b_sigma)))\n",
    "print('Z22 on ml0p01 (original): ' + export_float_latex(np.real(Z22005_b_mu), np.real(Z22005_b_sigma)))"
   ]
  },
  {
   "cell_type": "code",
   "execution_count": 4,
   "id": "44dea0f6",
   "metadata": {},
   "outputs": [],
   "source": [
    "# configs run independently\n",
    "f01 = h5py.File('/Users/theoares/Dropbox (MIT)/research/0nubb/analysis_output/24I/ml0p01/Z_gamma_no_boot.h5', 'r')\n",
    "Zq01 = f01['ZqbyZV_cfg'][()]\n",
    "Z2201 = f01['Z22byZVsq_cfg'][()]\n",
    "f01.close()\n",
    "\n",
    "f005 = h5py.File('/Users/theoares/Dropbox (MIT)/research/0nubb/analysis_output/24I/ml0p005/Z_gamma_no_boot.h5', 'r')\n",
    "Zq005 = f005['ZqbyZV'][()]\n",
    "Z22005 = f005['Z22byZVsq'][()]\n",
    "# Zq005 = f005['ZqbyZV_cfg'][()]\n",
    "# Z22005 = f005['Z22byZVsq_cfg'][()]\n",
    "f005.close()"
   ]
  },
  {
   "cell_type": "code",
   "execution_count": 5,
   "id": "feb26cd0",
   "metadata": {},
   "outputs": [
    {
     "data": {
      "text/plain": [
       "array([[1.0549506+5.96716673e-05j, 1.0547928+5.00993228e-05j,\n",
       "        1.0547416-1.61011594e-05j, 1.05462  -7.78628819e-05j,\n",
       "        1.0546137-6.59862053e-05j, 1.0547186-7.50864201e-05j,\n",
       "        1.0543469-9.97602401e-05j, 1.0548096-3.15027355e-05j,\n",
       "        1.0542425-1.10229557e-04j, 1.0546514-7.04473860e-05j,\n",
       "        1.0544512-1.26476434e-05j, 1.0546473-9.46303699e-05j,\n",
       "        1.0548121+2.26026568e-05j, 1.0543574-7.38411545e-05j,\n",
       "        1.0545653+2.33402716e-05j, 1.0544522-4.15625218e-05j,\n",
       "        1.0545366-4.48014071e-05j, 1.0548711+7.78433678e-05j,\n",
       "        1.054849 -1.44056830e-05j, 1.0546483-3.72811301e-05j,\n",
       "        1.0546709-1.81166870e-05j, 1.0546769-9.03817127e-05j,\n",
       "        1.0548211+4.65498306e-06j, 1.0544032-6.60623555e-05j,\n",
       "        1.0546405-5.85519192e-05j, 1.0548764+5.30055286e-06j,\n",
       "        1.0548338-1.32090399e-05j, 1.0547003-4.88906917e-05j,\n",
       "        1.054577 -1.07951804e-04j, 1.054703 -1.63667664e-05j,\n",
       "        1.0546881+8.74449233e-06j, 1.0546769-2.47195512e-05j,\n",
       "        1.0547069-3.15709585e-05j, 1.05463  +3.33530738e-06j,\n",
       "        1.0545124-4.10742541e-05j, 1.0546774-2.44185630e-05j,\n",
       "        1.0547802+4.41973207e-05j, 1.0547214+4.38951211e-05j,\n",
       "        1.0547283-2.56489966e-05j, 1.0547227-6.76827767e-05j,\n",
       "        1.0547323+7.22341283e-05j, 1.0545787-8.26692758e-06j,\n",
       "        1.0547441-1.40129705e-05j, 1.0547037+1.61307325e-05j,\n",
       "        1.054665 -2.33679293e-05j, 1.0547222-3.65381140e-07j,\n",
       "        1.0547575-5.08879566e-05j, 1.0548121+1.30790577e-05j,\n",
       "        1.0545944-2.89659311e-05j, 1.0547031-7.97379198e-06j]],\n",
       "      dtype=complex64)"
      ]
     },
     "execution_count": 5,
     "metadata": {},
     "output_type": "execute_result"
    }
   ],
   "source": [
    "Zq005"
   ]
  },
  {
   "cell_type": "code",
   "execution_count": 6,
   "id": "51da70d6",
   "metadata": {},
   "outputs": [],
   "source": [
    "Z22005_boot = bootstrap(Z22005[0])\n",
    "Z2201_boot = bootstrap(Z2201[0])"
   ]
  },
  {
   "cell_type": "code",
   "execution_count": 7,
   "id": "166f3701",
   "metadata": {},
   "outputs": [
    {
     "name": "stdout",
     "output_type": "stream",
     "text": [
      "Z22 on ml0p005 (after): 1.049260(11)\n",
      "Z22 on ml0p01 (after): 1.04945(12)\n"
     ]
    }
   ],
   "source": [
    "Z22005_boot_mu = np.mean(Z22005_boot)\n",
    "Z22005_boot_sigma = np.std(Z22005_boot, ddof = 1)\n",
    "Z2201_boot_mu = np.mean(Z2201_boot)\n",
    "Z2201_boot_sigma = np.std(Z2201_boot, ddof = 1)\n",
    "\n",
    "print('Z22 on ml0p005 (after): ' + export_float_latex(np.real(Z22005_boot_mu), np.real(Z22005_boot_sigma)))\n",
    "print('Z22 on ml0p01 (after): ' + export_float_latex(np.real(Z2201_boot_mu), np.real(Z2201_boot_sigma)))"
   ]
  },
  {
   "cell_type": "markdown",
   "id": "20cd00c3",
   "metadata": {},
   "source": [
    "## Examine distributions"
   ]
  },
  {
   "cell_type": "markdown",
   "id": "7e72e9b5",
   "metadata": {},
   "source": [
    "#### Compare distributions before and after bootstrapping"
   ]
  },
  {
   "cell_type": "code",
   "execution_count": 8,
   "id": "9d308b67",
   "metadata": {},
   "outputs": [
    {
     "data": {
      "text/plain": [
       "<matplotlib.legend.Legend at 0x13b6e22c0>"
      ]
     },
     "execution_count": 8,
     "metadata": {},
     "output_type": "execute_result"
    },
    {
     "data": {
      "image/png": "[encoded data removed]",
      "text/plain": [
       "<Figure size 720x360 with 1 Axes>"
      ]
     },
     "metadata": {
      "needs_background": "light"
     },
     "output_type": "display_data"
    }
   ],
   "source": [
    "fig, ax = pt.add_subplot()\n",
    "ax.hist(np.real(Z22005_b), color = 'b', alpha = 0.5, label = 'bootstrap before (original)')\n",
    "ax.hist(np.real(Z22005_boot), color = 'r', alpha = 0.5, label = 'bootstrap after')\n",
    "pt.add_line(ax, np.real(Z22005_boot_mu), c = 'r', label = 'mean (before)')\n",
    "pt.add_line(ax, np.real(Z22005_b_mu), c = 'b', label = 'mean (after)')\n",
    "\n",
    "ax.set_title(r'$24I/ml0p005$')\n",
    "ax.set_xlabel(r'$\\mathcal{Z}_{22}/\\mathcal{Z}_V^2$')\n",
    "ax.set_ylabel('Hits')\n",
    "ax.legend()"
   ]
  },
  {
   "cell_type": "code",
   "execution_count": 9,
   "id": "c0587f55",
   "metadata": {},
   "outputs": [
    {
     "data": {
      "text/plain": [
       "<matplotlib.legend.Legend at 0x13b924490>"
      ]
     },
     "execution_count": 9,
     "metadata": {},
     "output_type": "execute_result"
    },
    {
     "data": {
      "image/png": "[encoded data removed]",
      "text/plain": [
       "<Figure size 720x360 with 1 Axes>"
      ]
     },
     "metadata": {
      "needs_background": "light"
     },
     "output_type": "display_data"
    }
   ],
   "source": [
    "fig, ax = pt.add_subplot()\n",
    "ax.hist(np.real(Z22005_b), color = 'b', alpha = 0.5, label = 'bootstrap before (original)')\n",
    "ax.hist(np.real(Z22005_boot), color = 'r', alpha = 0.5, label = 'bootstrap after')\n",
    "pt.add_line(ax, np.real(Z22005_boot_mu), c = 'r', label = 'mean (before)')\n",
    "pt.add_line(ax, np.real(Z22005_b_mu), c = 'b', label = 'mean (after)')\n",
    "\n",
    "ax.set_title(r'$24I/ml0p005$')\n",
    "ax.set_xlabel(r'$\\mathcal{Z}_{22}/\\mathcal{Z}_V^2$')\n",
    "ax.set_ylabel('Hits')\n",
    "ax.legend()"
   ]
  },
  {
   "cell_type": "markdown",
   "id": "9842818b",
   "metadata": {},
   "source": [
    "## Look at results of linear extrapolation"
   ]
  },
  {
   "cell_type": "code",
   "execution_count": 30,
   "id": "f8d3a7a4",
   "metadata": {},
   "outputs": [],
   "source": [
    "multiplets = np.array([[0, 0], [1, 1], [2, 2], [3, 3], [4, 4], [1, 2], [2, 1], [3, 4], [4, 3]], dtype = object)    # nonzero indices for Lambda\n",
    "n_multiplets = len(multiplets)"
   ]
  },
  {
   "cell_type": "code",
   "execution_count": 45,
   "id": "beff89a8",
   "metadata": {},
   "outputs": [],
   "source": [
    "f = h5py.File('/Users/theoares/Dropbox (MIT)/research/0nubb/analysis_output/24I/chiral_extrap/Z_extrap_downstream.h5', 'r')\n",
    "Zq = f['ZqbyZV/values'][()][0]\n",
    "Z22 = f['O22/ZijZVm2'][()][0]\n",
    "Lam = np.zeros((5, 5, n_boot), dtype = np.float64)\n",
    "ZbyZVsq = np.zeros((5, 5, n_boot), dtype = np.float64)\n",
    "for mult in multiplets:\n",
    "    ZbyZVsq[mult[0], mult[1]] = f['O' + str(mult[0] + 1) + str(mult[1] + 1) + '/ZijZVm2'][()][0]    \n",
    "    Lam[mult[0], mult[1]] = f['Lambda' + str(mult[0] + 1) + str(mult[1] + 1)][()][0]\n",
    "f.close()"
   ]
  },
  {
   "cell_type": "code",
   "execution_count": 47,
   "id": "69565ea8",
   "metadata": {},
   "outputs": [
    {
     "data": {
      "text/plain": [
       "array([[ 0.91342635,  0.        ,  0.        ,  0.        ,  0.        ],\n",
       "       [ 0.        ,  1.04906366,  0.30026568,  0.        ,  0.        ],\n",
       "       [ 0.        ,  0.03364241,  0.81813753,  0.        ,  0.        ],\n",
       "       [ 0.        ,  0.        ,  0.        ,  0.866784  , -0.0318678 ],\n",
       "       [ 0.        ,  0.        ,  0.        , -0.27828463,  1.06429881]])"
      ]
     },
     "execution_count": 47,
     "metadata": {},
     "output_type": "execute_result"
    }
   ],
   "source": [
    "np.mean(ZbyZVsq, axis = 2)"
   ]
  },
  {
   "cell_type": "markdown",
   "id": "b21eb185",
   "metadata": {},
   "source": [
    "Definition of $\\Lambda_{ij}$ in Fig 2. Is it:\n",
    "$$\n",
    "\\frac{\\Lambda_{ij}}{\\Lambda_V^2} = P_j \\Pi_i\n",
    "$$\n",
    "or \n",
    "$$\n",
    "\\frac{\\Lambda_{ij}}{\\Lambda_V^2}\\rightarrow \\frac{F_{ik}}{F_V^2} \\frac{\\Lambda}{\\Lambda_V^2}^{-1}_{kj}\n",
    "$$"
   ]
  },
  {
   "cell_type": "code",
   "execution_count": 44,
   "id": "8da5d6cd",
   "metadata": {},
   "outputs": [
    {
     "name": "stdout",
     "output_type": "stream",
     "text": [
      "0.94356(64)\n"
     ]
    }
   ],
   "source": [
    "# 1 / Z22\n",
    "# Lam22_proj = 1 / Z22\n",
    "Lam22_proj = Z22 / Zq**2\n",
    "print(gv.gvar(np.mean(Lam22_proj), np.std(Lam22_proj, ddof = 1)))"
   ]
  },
  {
   "cell_type": "code",
   "execution_count": 33,
   "id": "f300e151",
   "metadata": {},
   "outputs": [],
   "source": [
    "ainv = 1.784\n",
    "L = Lattice(24, 64)\n",
    "F = getF(L)"
   ]
  },
  {
   "cell_type": "code",
   "execution_count": 35,
   "id": "b17f94aa",
   "metadata": {},
   "outputs": [],
   "source": [
    "Lam_gvar = gv.gvar(np.mean(Lam, axis = 2), np.std(Lam, axis = 2, ddof = 1))"
   ]
  },
  {
   "cell_type": "code",
   "execution_count": 37,
   "id": "734cd54c",
   "metadata": {},
   "outputs": [
    {
     "ename": "UFuncTypeError",
     "evalue": "Cannot cast ufunc 'inv' input from dtype('O') to dtype('float64') with casting rule 'same_kind'",
     "output_type": "error",
     "traceback": [
      "\u001b[0;31m---------------------------------------------------------------------------\u001b[0m",
      "\u001b[0;31mUFuncTypeError\u001b[0m                            Traceback (most recent call last)",
      "Input \u001b[0;32mIn [37]\u001b[0m, in \u001b[0;36m<module>\u001b[0;34m\u001b[0m\n\u001b[0;32m----> 1\u001b[0m \u001b[43mnp\u001b[49m\u001b[38;5;241;43m.\u001b[39;49m\u001b[43mlinalg\u001b[49m\u001b[38;5;241;43m.\u001b[39;49m\u001b[43minv\u001b[49m\u001b[43m(\u001b[49m\u001b[43mLam_gvar\u001b[49m\u001b[43m)\u001b[49m\n",
      "File \u001b[0;32m<__array_function__ internals>:180\u001b[0m, in \u001b[0;36minv\u001b[0;34m(*args, **kwargs)\u001b[0m\n",
      "File \u001b[0;32m/Library/Frameworks/Python.framework/Versions/3.10/lib/python3.10/site-packages/numpy/linalg/linalg.py:545\u001b[0m, in \u001b[0;36minv\u001b[0;34m(a)\u001b[0m\n\u001b[1;32m    543\u001b[0m signature \u001b[38;5;241m=\u001b[39m \u001b[38;5;124m'\u001b[39m\u001b[38;5;124mD->D\u001b[39m\u001b[38;5;124m'\u001b[39m \u001b[38;5;28;01mif\u001b[39;00m isComplexType(t) \u001b[38;5;28;01melse\u001b[39;00m \u001b[38;5;124m'\u001b[39m\u001b[38;5;124md->d\u001b[39m\u001b[38;5;124m'\u001b[39m\n\u001b[1;32m    544\u001b[0m extobj \u001b[38;5;241m=\u001b[39m get_linalg_error_extobj(_raise_linalgerror_singular)\n\u001b[0;32m--> 545\u001b[0m ainv \u001b[38;5;241m=\u001b[39m \u001b[43m_umath_linalg\u001b[49m\u001b[38;5;241;43m.\u001b[39;49m\u001b[43minv\u001b[49m\u001b[43m(\u001b[49m\u001b[43ma\u001b[49m\u001b[43m,\u001b[49m\u001b[43m \u001b[49m\u001b[43msignature\u001b[49m\u001b[38;5;241;43m=\u001b[39;49m\u001b[43msignature\u001b[49m\u001b[43m,\u001b[49m\u001b[43m \u001b[49m\u001b[43mextobj\u001b[49m\u001b[38;5;241;43m=\u001b[39;49m\u001b[43mextobj\u001b[49m\u001b[43m)\u001b[49m\n\u001b[1;32m    546\u001b[0m \u001b[38;5;28;01mreturn\u001b[39;00m wrap(ainv\u001b[38;5;241m.\u001b[39mastype(result_t, copy\u001b[38;5;241m=\u001b[39m\u001b[38;5;28;01mFalse\u001b[39;00m))\n",
      "\u001b[0;31mUFuncTypeError\u001b[0m: Cannot cast ufunc 'inv' input from dtype('O') to dtype('float64') with casting rule 'same_kind'"
     ]
    }
   ],
   "source": [
    "np.linalg.inv(Lam_gvar)"
   ]
  },
  {
   "cell_type": "markdown",
   "id": "40e9581d",
   "metadata": {},
   "source": [
    "## Compare to RBC/UKQCD"
   ]
  },
  {
   "cell_type": "code",
   "execution_count": 21,
   "id": "9f0a9855",
   "metadata": {},
   "outputs": [
    {
     "data": {
      "text/plain": [
       "Text(281.837890625, 0.5, '$Z_{22}/Z_V^2$')"
      ]
     },
     "execution_count": 21,
     "metadata": {},
     "output_type": "execute_result"
    },
    {
     "data": {
      "image/png": "[encoded data removed]",
      "text/plain": [
       "<Figure size 720x360 with 1 Axes>"
      ]
     },
     "metadata": {
      "needs_background": "light"
     },
     "output_type": "display_data"
    }
   ],
   "source": [
    "fig, ax = pt.add_subplot()\n",
    "# Z221.04949(12)\n",
    "pt.plot_1d_data([mu0**2], [1.04910], [0.00016], ax, col = 'b', fn_label = 'downstream')\n",
    "# pt.plot_1d_data([1], [1.04945], [0.00040], ax, col = 'r', fn_label = 'original')\n",
    "ax.set_ylim((1.0489, 1.0499))\n",
    "# ax.set_ylim((1.048, 1.0499))\n",
    "ax.set_xlim((6.5, 9.0))\n",
    "ax.set_title('$Z_{22}/Z_V^2$', fontsize = 24)\n",
    "ax.set_xlabel(r'$\\mu^2$ (GeV)')\n",
    "# ax.set_xticks([mu0])\n",
    "# ax.set_xticklabels(['Our value'])\n",
    "# ax.set_yticks([1.0491, 1.0492, 1.0493, 1.0494, 1.0495, 1.0496, 1.0497, 1.0498])\n",
    "# ax.set_yticklabels(['1.0491', '1.0492', '1.0493', '1.0494', '1.0495', '1.0496', '1.0497', '1.0498'])\n",
    "ax.set_ylabel('$Z_{22}/Z_V^2$')"
   ]
  },
  {
   "cell_type": "markdown",
   "id": "53318db7",
   "metadata": {},
   "source": [
    "### Data analysis"
   ]
  },
  {
   "cell_type": "code",
   "execution_count": 10,
   "id": "5e2d2491",
   "metadata": {},
   "outputs": [
    {
     "data": {
      "text/plain": [
       "<module 'plottools' from '/Users/theoares/lqcd/utilities/plottools.py'>"
      ]
     },
     "execution_count": 10,
     "metadata": {},
     "output_type": "execute_result"
    }
   ],
   "source": [
    "reload(pt)"
   ]
  },
  {
   "cell_type": "code",
   "execution_count": 11,
   "id": "36047b95",
   "metadata": {},
   "outputs": [
    {
     "data": {
      "text/plain": [
       "Text(291.494140625, 0.5, '$Z_{22}/Z_V^2$')"
      ]
     },
     "execution_count": 11,
     "metadata": {},
     "output_type": "execute_result"
    },
    {
     "data": {
      "image/png": "[encoded data removed]",
      "text/plain": [
       "<Figure size 720x360 with 1 Axes>"
      ]
     },
     "metadata": {
      "needs_background": "light"
     },
     "output_type": "display_data"
    }
   ],
   "source": [
    "fig, ax = pt.add_subplot()\n",
    "# Z221.04949(12)\n",
    "pt.plot_1d_data([0], [1.04913], [0.00048], ax, col = 'b', fn_label = 'downstream')\n",
    "pt.plot_1d_data([1], [1.04945], [0.00040], ax, col = 'r', fn_label = 'original')\n",
    "ax.set_ylim((1.048, 1.05))\n",
    "# ax.set_ylim((1.048, 1.0499))\n",
    "ax.set_xlim((-1, 2))\n",
    "ax.set_title('$Z_{22}/Z_V^2$', fontsize = 24)\n",
    "ax.set_xlabel('')\n",
    "ax.set_xticks([0, 1])\n",
    "ax.set_xticklabels(['downstream', 'original'])\n",
    "# ax.set_yticks([1.0491, 1.0492, 1.0493, 1.0494, 1.0495, 1.0496, 1.0497, 1.0498])\n",
    "# ax.set_yticklabels(['1.0491', '1.0492', '1.0493', '1.0494', '1.0495', '1.0496', '1.0497', '1.0498'])\n",
    "ax.set_ylabel('$Z_{22}/Z_V^2$')"
   ]
  },
  {
   "cell_type": "code",
   "execution_count": 12,
   "id": "4f9f260c",
   "metadata": {},
   "outputs": [
    {
     "data": {
      "text/plain": [
       "Text(291.494140625, 0.5, '$Z_{22}/Z_V^2$')"
      ]
     },
     "execution_count": 12,
     "metadata": {},
     "output_type": "execute_result"
    },
    {
     "data": {
      "image/png": "[encoded data removed]",
      "text/plain": [
       "<Figure size 720x360 with 1 Axes>"
      ]
     },
     "metadata": {
      "needs_background": "light"
     },
     "output_type": "display_data"
    }
   ],
   "source": [
    "fig, ax = pt.add_subplot()\n",
    "pt.plot_1d_data([0], [1.04913], [0.00048], ax, col = 'b', fn_label = 'downstream')\n",
    "pt.plot_1d_data([1], [1.04945], [0.00040], ax, col = 'r', fn_label = 'original')\n",
    "ax.set_ylim((1.049, 1.0499))\n",
    "# ax.set_ylim((1.048, 1.0499))\n",
    "ax.set_xlim((-1, 2))\n",
    "ax.set_title('$Z_{22}/Z_V^2$', fontsize = 24)\n",
    "ax.set_xlabel('')\n",
    "ax.set_xticks([0, 1])\n",
    "ax.set_xticklabels(['downstream', 'original'])\n",
    "ax.set_yticks([1.0491, 1.0492, 1.0493, 1.0494, 1.0495, 1.0496, 1.0497, 1.0498])\n",
    "ax.set_yticklabels(['1.0491', '1.0492', '1.0493', '1.0494', '1.0495', '1.0496', '1.0497', '1.0498'])\n",
    "ax.set_ylabel('$Z_{22}/Z_V^2$')"
   ]
  },
  {
   "cell_type": "code",
   "execution_count": 13,
   "id": "ad1b35e2",
   "metadata": {},
   "outputs": [
    {
     "data": {
      "text/plain": [
       "Text(291.494140625, 0.5, '$Z_{22}/Z_V^2$')"
      ]
     },
     "execution_count": 13,
     "metadata": {},
     "output_type": "execute_result"
    },
    {
     "data": {
      "image/png": "[encoded data removed]",
      "text/plain": [
       "<Figure size 720x360 with 1 Axes>"
      ]
     },
     "metadata": {
      "needs_background": "light"
     },
     "output_type": "display_data"
    }
   ],
   "source": [
    "mu0sq = 6.98\n",
    "eps = 0.05\n",
    "fig, ax = pt.add_subplot()\n",
    "pt.plot_1d_data([mu0sq], [1.04913], [0.00048], ax, col = 'b', fn_label = 'downstream')\n",
    "pt.plot_1d_data([mu0sq + eps], [1.04945], [0.00040], ax, col = 'r', fn_label = 'original')\n",
    "ax.set_ylim((1.049, 1.0499))\n",
    "ax.set_xlim((6, 10))\n",
    "ax.set_title('$Z_{22}/Z_V^2$', fontsize = 24)\n",
    "ax.set_xlabel('$\\mu^2$')\n",
    "# ax.set_xticks([mu0**2])\n",
    "# ax.set_xticklabels(['7.02'])\n",
    "ax.set_yticks([1.0491, 1.0492, 1.0493, 1.0494, 1.0495, 1.0496, 1.0497, 1.0498])\n",
    "ax.set_yticklabels(['1.0491', '1.0492', '1.0493', '1.0494', '1.0495', '1.0496', '1.0497', '1.0498'])\n",
    "ax.set_ylabel('$Z_{22}/Z_V^2$')"
   ]
  },
  {
   "cell_type": "code",
   "execution_count": 11,
   "id": "e723d53e",
   "metadata": {},
   "outputs": [],
   "source": [
    "Z22005_inv = 1 / Z22005_b\n",
    "Z2201_inv = 1 / Z2201_b"
   ]
  },
  {
   "cell_type": "code",
   "execution_count": 16,
   "id": "09eed587",
   "metadata": {},
   "outputs": [
    {
     "data": {
      "text/plain": [
       "7.05518e-05"
      ]
     },
     "execution_count": 16,
     "metadata": {},
     "output_type": "execute_result"
    }
   ],
   "source": [
    "np.std(Z22005_inv, ddof = 1)"
   ]
  },
  {
   "cell_type": "code",
   "execution_count": 15,
   "id": "f802d69c",
   "metadata": {},
   "outputs": [
    {
     "data": {
      "text/plain": [
       "(0.95301986+3.4059885e-05j)"
      ]
     },
     "execution_count": 15,
     "metadata": {},
     "output_type": "execute_result"
    }
   ],
   "source": [
    "np.mean(Z22005_inv)"
   ]
  },
  {
   "cell_type": "code",
   "execution_count": 17,
   "id": "f2190b85",
   "metadata": {},
   "outputs": [
    {
     "data": {
      "text/plain": [
       "0.00010735677"
      ]
     },
     "execution_count": 17,
     "metadata": {},
     "output_type": "execute_result"
    }
   ],
   "source": [
    "np.std(Z2201_inv, ddof = 1)"
   ]
  },
  {
   "cell_type": "code",
   "execution_count": 14,
   "id": "3e6fb708",
   "metadata": {},
   "outputs": [
    {
     "data": {
      "text/plain": [
       "(0.9528429+2.3538787e-05j)"
      ]
     },
     "execution_count": 14,
     "metadata": {},
     "output_type": "execute_result"
    }
   ],
   "source": [
    "np.mean(Z2201_inv)"
   ]
  },
  {
   "cell_type": "code",
   "execution_count": null,
   "id": "efda6a16",
   "metadata": {},
   "outputs": [],
   "source": []
  }
 ],
 "metadata": {
  "kernelspec": {
   "display_name": "Python 3 (ipykernel)",
   "language": "python",
   "name": "python3"
  },
  "language_info": {
   "codemirror_mode": {
    "name": "ipython",
    "version": 3
   },
   "file_extension": ".py",
   "mimetype": "text/x-python",
   "name": "python",
   "nbconvert_exporter": "python",
   "pygments_lexer": "ipython3",
   "version": "3.10.2"
  },
  "latex_envs": {
   "LaTeX_envs_menu_present": true,
   "autocomplete": true,
   "bibliofile": "biblio.bib",
   "cite_by": "apalike",
   "current_citInitial": 1,
   "eqLabelWithNumbers": true,
   "eqNumInitial": 1,
   "hotkeys": {
    "equation": "Ctrl-E",
    "itemize": "Ctrl-I"
   },
   "labels_anchors": false,
   "latex_user_defs": false,
   "report_style_numbering": false,
   "user_envs_cfg": false
  }
 },
 "nbformat": 4,
 "nbformat_minor": 5
}
