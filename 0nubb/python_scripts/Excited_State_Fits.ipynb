{
 "cells": [
  {
   "cell_type": "code",
   "execution_count": 1,
   "id": "6d2d8c10",
   "metadata": {},
   "outputs": [],
   "source": [
    "# use CMU Serif\n",
    "import matplotlib as mpl\n",
    "import matplotlib.font_manager as font_manager\n",
    "mpl.rcParams['font.family']='serif'\n",
    "cmfont = font_manager.FontProperties(fname=mpl.get_data_path() + '/fonts/ttf/cmr10.ttf')\n",
    "mpl.rcParams['font.serif']=cmfont.get_name()\n",
    "mpl.rcParams['mathtext.fontset']='cm'\n",
    "mpl.rcParams['axes.unicode_minus']=False\n",
    "mpl.rcParams['axes.formatter.use_mathtext'] = True\n",
    "mpl.rcParams['text.usetex'] = True\n",
    "\n",
    "from mpl_toolkits.axes_grid1.inset_locator import zoomed_inset_axes\n",
    "from mpl_toolkits.axes_grid1.inset_locator import inset_axes\n",
    "from mpl_toolkits.axes_grid1.inset_locator import mark_inset\n",
    "from matplotlib.transforms import Bbox\n",
    "\n",
    "import numpy as np\n",
    "import seaborn as sns\n",
    "import matplotlib.pyplot as plt\n",
    "from scipy.optimize import root\n",
    "import h5py\n",
    "import os\n",
    "import itertools\n",
    "from utils import *\n",
    "\n",
    "import sys\n",
    "sys.path.append('/Users/theoares/lqcd/utilities')\n",
    "from fittools import *\n",
    "from formattools import *\n",
    "# style = styles['prd_twocol']\n",
    "style = styles['notebook']"
   ]
  },
  {
   "cell_type": "markdown",
   "id": "d32c7eef",
   "metadata": {},
   "source": [
    "## Process data and show current fits"
   ]
  },
  {
   "cell_type": "code",
   "execution_count": 2,
   "id": "c0bd3155",
   "metadata": {},
   "outputs": [],
   "source": [
    "# Set the ensemble index.\n",
    "ens_idx = 0\n",
    "ensemble = ['24I/ml_0p01', '24I/ml_0p005', '32I/ml0p008', '32I/ml0p006', '32I/ml0p004'][ens_idx]\n",
    "ens_path = ['24I/ml0p01', '24I/ml0p005', '32I/ml0p008', '32I/ml0p006', '32I/ml0p004'][ens_idx]\n",
    "f_path = '/Users/theoares/Dropbox (MIT)/research/0nubb/short_distance/bare_matrix_elements/' + ensemble + '/fit_params.h5'\n",
    "n_ops = 5\n",
    "\n",
    "# read in input to plot\n",
    "f = h5py.File(f_path, 'r')\n",
    "data_slice = f['data_slice'][()]\n",
    "c = f['c'][()]\n",
    "sigmac = f['sigmac'][()]\n",
    "plot_domain = f['plot_domain'][()]\n",
    "f.close()\n",
    "\n",
    "data_plot_mu = np.mean(data_slice, axis = 0)\n",
    "data_plot_sigma = np.std(data_slice, axis = 0, ddof = 1)"
   ]
  },
  {
   "cell_type": "code",
   "execution_count": 3,
   "id": "e94d40cf",
   "metadata": {},
   "outputs": [],
   "source": [
    "# set specific ranges and labels\n",
    "ytick_labels = [\n",
    "    [['-5.8', '-5.4', '-5.0'], ['-1.0', '-0.9', '-0.8'], ['3.4', '3.6', '3.8'], ['-1.9', '-1.7', '-1.5'], ['2.1', '2.3', '2.5']],         # 24I/ml0p01\n",
    "    [['-5.0', '-4.7', '-4.4'], ['-8.5', '-8.0', '-7.5'], ['1.70', '1.85', '2.00'], ['-1.55', '-1.45', '-1.35'], ['1.80', '1.95', '2.10']],      # 24I/ml0p005\n",
    "    [['-1.90', '-1.75', '-1.60'], ['-2.9', '-2.7', '-2.5'], ['8.00', '8.75', '9.50'], ['-5.8', '-5.3', '-4.8'], ['6.2', '6.7', '7.2']],      # 32I/ml0p008\n",
    "    [['-1.70', '-1.55', '-1.40'], ['-2.7', '-2.5', '-2.3'], ['5.7', '6.2', '6.7'], ['-5.5', '-5.0', '-4.5'], ['5.8', '6.2', '6.6']],      # 32I/ml0p006\n",
    "    [['-1.55', '-1.45', '-1.35'], ['-2.40', '-2.25', '-2.10'], ['3.4', '3.8', '4.2'], ['-4.9', '-4.5', '-4.1'], ['5.2', '5.6', '6.0']],      # 32I/ml0p004\n",
    "][ens_idx]\n",
    "pwr = [\n",
    "    [-3, -2, -4, -2, -3],\n",
    "    [-3, -3, -4, -2, -3],\n",
    "    [-3, -3, -5, -3, -4],\n",
    "    [-3, -3, -5, -3, -4],\n",
    "    [-3, -3, -5, -3, -4]\n",
    "][ens_idx]              # think about doing using \\\\text{-}\n",
    "yrangep = [\n",
    "    [[-0.0060, -0.0048], [-0.0105, -0.0075], [0.00033, 0.00039], [-0.02, -0.014], [0.0020, 0.0026]],\n",
    "    [[-0.0051, -0.0043], [-0.00875, -0.00725], [0.000165, 0.000205], [-0.016, -0.013], [0.00175, 0.00215]],\n",
    "    [[-0.002, -0.0015], [-0.0030, -0.0024], [0.0000775, 0.0000975], [-0.0061, -0.0045], [0.00059, 0.00075]],\n",
    "    [[-0.00175, -0.00135], [-0.0028, -0.0022], [0.000054, 0.00007], [-0.00575, -0.00425], [0.00056, 0.00068]],\n",
    "    [[-0.0016, -0.0013], [-0.00245, -0.00205], [0.000032, 0.000044], [-0.005, -0.004], [0.0005, 0.00062]]\n",
    "][ens_idx]\n",
    "ytick_locs = [[round(float(ytick_labels[k][i]) * (10 ** pwr[k]), np.abs(pwr[k]) + 2) for i in range(len(ytick_labels[k]))] for k in range(n_ops)]\n",
    "# yaxis_labels = ['$' + latex_labels[ii] + '^{\\\\mathrm{eff}} \\\\hspace\\{-1.0mm\\} \\\\times \\\\hspace{-0.5mm} 10^{' + str(pwr[ii]) + '}$' for ii in range(len(latex_labels))]\n",
    "\n",
    "latex_labels = [r'O_1', r'O_2', r'O_3', r'O_{1^\\prime}', r'O_{2^\\prime}']\n",
    "yaxis_labels = [r'$' + latex_labels[ii] + r'^{\\mathrm{eff}} \\hspace{-1.0mm} \\times \\hspace{-0.5mm} 10^{' + str(pwr[ii]) + r'}$' for ii in range(len(latex_labels))]"
   ]
  },
  {
   "cell_type": "code",
   "execution_count": 4,
   "id": "4b5a432b",
   "metadata": {},
   "outputs": [],
   "source": [
    "asp_ratio = 4/3\n",
    "fig_size = (style['colwidth'], style['colwidth'] / asp_ratio)\n",
    "def plot_data(cvs, stds, yaxis_label, ylims = None, yt_locs = None, yt_labels = None, mrk = '.', col = 'r'):\n",
    "    dom = plot_domain[:len(cvs)]\n",
    "    with sns.plotting_context('paper'):\n",
    "        plt.figure(figsize = fig_size)\n",
    "        _, caps, _ = plt.errorbar(dom, cvs, yerr = stds, fmt = mrk, c = col, \\\n",
    "                     capsize = style['endcaps'], markersize = style['markersize'], elinewidth = style['ebar_width'])\n",
    "        for cap in caps:\n",
    "            cap.set_markeredgewidth(style['ecap_width'])\n",
    "        plt.xlabel('$t / a$', fontsize = style['fontsize'])\n",
    "        plt.ylabel(yaxis_label, fontsize = style['fontsize'])\n",
    "        ax = plt.gca()\n",
    "        ax.xaxis.set_tick_params(width = style['tickwidth'], length = style['ticklength'])\n",
    "        ax.yaxis.set_tick_params(width = style['tickwidth'], length = style['ticklength'])\n",
    "        if yt_locs:\n",
    "            ax.set_yticks(yt_locs)\n",
    "            ax.set_yticklabels(yt_labels)\n",
    "        for spine in spinedirs:\n",
    "            ax.spines[spine].set_linewidth(style['axeswidth'])\n",
    "        plt.xticks(fontsize = style['fontsize'])\n",
    "        plt.yticks(fontsize = style['fontsize'])\n",
    "        #plt.xlim(0, max(list(plot_domain)) // 2 + 1.5)\n",
    "        if ylims:\n",
    "            plt.ylim(ylims[0], ylims[1])\n",
    "        plt.tight_layout()\n",
    "        plt.show()\n",
    "def plot_fit(cvs, stds, fit_cvs, fit_stds, yaxis_label, ylims = None, yt_locs = None, yt_labels = None, mrk = '.', \\\n",
    "             col = 'r', fit_dom = plot_domain):\n",
    "    dom = plot_domain[:len(cvs)]    # in case plot_domain needs truncation\n",
    "    with sns.plotting_context('paper'):\n",
    "        plt.figure(figsize = fig_size)\n",
    "        _, caps, _ = plt.errorbar(dom, cvs, yerr = stds, fmt = mrk, c = col, \\\n",
    "                     capsize = style['endcaps'], markersize = style['markersize'], elinewidth = style['ebar_width'])\n",
    "        plt.fill_between(fit_dom, fit_cvs - fit_stds, fit_cvs + fit_stds, color = col, alpha = 0.3, linewidth = 0.0)\n",
    "        for cap in caps:\n",
    "            cap.set_markeredgewidth(style['ecap_width'])\n",
    "        plt.xlabel('$t / a$', fontsize = style['fontsize'])\n",
    "        plt.ylabel(yaxis_label, fontsize = style['fontsize'])\n",
    "        ax = plt.gca()\n",
    "        ax.xaxis.set_tick_params(width = style['tickwidth'], length = style['ticklength'])\n",
    "        ax.yaxis.set_tick_params(width = style['tickwidth'], length = style['ticklength'])\n",
    "        if yt_locs:\n",
    "            ax.set_yticks(yt_locs)\n",
    "            ax.set_yticklabels(yt_labels)\n",
    "        for spine in spinedirs:\n",
    "            ax.spines[spine].set_linewidth(style['axeswidth'])\n",
    "        plt.xticks(fontsize = style['fontsize'])\n",
    "        plt.yticks(fontsize = style['fontsize'])\n",
    "        plt.xlim(0, max(list(plot_domain)) // 2 + 1.5)\n",
    "        if ylims:\n",
    "            plt.ylim(ylims[0], ylims[1])\n",
    "        plt.tight_layout()\n",
    "        plt.show()"
   ]
  },
  {
   "cell_type": "code",
   "execution_count": 5,
   "id": "90376ea6",
   "metadata": {},
   "outputs": [
    {
     "name": "stderr",
     "output_type": "stream",
     "text": [
      "/Users/theoares/lqcd/0nubb/python_scripts/utils.py:220: ComplexWarning: Casting complex values to real discards the imaginary part\n",
      "  folded[:, 0] = C[:, 0]\n",
      "/Users/theoares/lqcd/0nubb/python_scripts/utils.py:223: ComplexWarning: Casting complex values to real discards the imaginary part\n",
      "  folded[:, t + 1] = (C[:, t + 1] + C[:, T - (t + 1)]) / 2\n"
     ]
    }
   ],
   "source": [
    "# Use this code block if I make this notebook into production code\n",
    "f3pt_path = '/Users/theoares/Dropbox (MIT)/research/0nubb/short_distance/analysis_output/' +ensemble+ '/SD_output.h5'\n",
    "\n",
    "f = h5py.File(f3pt_path, 'r')\n",
    "L, T = f['L'][()], f['T'][()]\n",
    "C2pt_tavg = f['pion-00WW'][()]\n",
    "C2_pion00WP = np.real(f['pion-00WP'][()])\n",
    "C3pt_tavg = f['C3pt'][()]\n",
    "Cnpt = f['Cnpt'][()]\n",
    "R_boot = f['R'][()]\n",
    "f.close()\n",
    "\n",
    "# fold 2-point\n",
    "C2_fold = np.real(fold(C2pt_tavg, T))\n",
    "C2_mu = np.mean(C2_fold, axis = 0)\n",
    "C2_sigma = np.std(C2_fold, axis = 0, ddof = 1)\n",
    "\n",
    "# get WP pion mass\n",
    "meff = get_cosh_effective_mass(C2_pion00WP)\n",
    "C2_folded = np.real(fold(C2_pion00WP, T))\n",
    "meff_folded = fold_meff(meff, T)\n",
    "meff_mu = np.mean(meff_folded, axis = 0)\n",
    "meff_sigma = np.std(meff_folded, axis = 0, ddof = 1)\n",
    "\n",
    "# process data points and make ready to fit\n",
    "R_mu = np.mean(R_boot, axis = 0)\n",
    "R_sigma = np.std(R_boot, axis = 0, ddof = 1)\n",
    "data_slice = np.zeros((n_boot, n_ops, T), dtype = np.float64)\n",
    "plot_domain = range(T)\n",
    "for i in range(n_ops):\n",
    "    for sep in range(T):\n",
    "        if sep % 2 == 0:\n",
    "            data_slice[:, i, sep] = np.real(R_boot[:, i, sep // 2, sep])\n",
    "        else:\n",
    "            data_slice[:, i, sep] = np.real((R_boot[:, i, sep // 2, sep] + R_boot[:, i, sep // 2 + 1, sep]) / 2)\n",
    "data_plot_mu = np.mean(data_slice, axis = 0)\n",
    "data_plot_sigma = np.std(data_slice, axis = 0, ddof = 1)"
   ]
  },
  {
   "cell_type": "code",
   "execution_count": 6,
   "id": "ec45f7c2",
   "metadata": {},
   "outputs": [
    {
     "data": {
      "image/png": "[encoded data removed]",
      "text/plain": [
       "<Figure size 504x378 with 1 Axes>"
      ]
     },
     "metadata": {
      "needs_background": "light"
     },
     "output_type": "display_data"
    },
    {
     "data": {
      "image/png": "[encoded data removed]",
      "text/plain": [
       "<Figure size 504x378 with 1 Axes>"
      ]
     },
     "metadata": {
      "needs_background": "light"
     },
     "output_type": "display_data"
    }
   ],
   "source": [
    "# plot 2-points\n",
    "plot_data(C2_mu, C2_sigma, '$C_{2\\mathrm{pt}}$')  # '$C_{2\\mathrm{pt}}$'\n",
    "plot_data(meff_mu, meff_sigma, '$am_{\\mathrm{eff}}$')"
   ]
  },
  {
   "cell_type": "code",
   "execution_count": 7,
   "id": "8d3b4cd4",
   "metadata": {
    "scrolled": true
   },
   "outputs": [
    {
     "name": "stdout",
     "output_type": "stream",
     "text": [
      "Plotting operator O1\n"
     ]
    },
    {
     "data": {
      "image/png": "[encoded data removed]",
      "text/plain": [
       "<Figure size 504x378 with 1 Axes>"
      ]
     },
     "metadata": {
      "needs_background": "light"
     },
     "output_type": "display_data"
    },
    {
     "name": "stdout",
     "output_type": "stream",
     "text": [
      "Plotting operator O2\n"
     ]
    },
    {
     "data": {
      "image/png": "[encoded data removed]",
      "text/plain": [
       "<Figure size 504x378 with 1 Axes>"
      ]
     },
     "metadata": {
      "needs_background": "light"
     },
     "output_type": "display_data"
    },
    {
     "name": "stdout",
     "output_type": "stream",
     "text": [
      "Plotting operator O3\n"
     ]
    },
    {
     "data": {
      "image/png": "[encoded data removed]",
      "text/plain": [
       "<Figure size 504x378 with 1 Axes>"
      ]
     },
     "metadata": {
      "needs_background": "light"
     },
     "output_type": "display_data"
    },
    {
     "name": "stdout",
     "output_type": "stream",
     "text": [
      "Plotting operator O1p\n"
     ]
    },
    {
     "data": {
      "image/png": "[encoded data removed]",
      "text/plain": [
       "<Figure size 504x378 with 1 Axes>"
      ]
     },
     "metadata": {
      "needs_background": "light"
     },
     "output_type": "display_data"
    },
    {
     "name": "stdout",
     "output_type": "stream",
     "text": [
      "Plotting operator O2p\n"
     ]
    },
    {
     "data": {
      "image/png": "[encoded data removed]",
      "text/plain": [
       "<Figure size 504x378 with 1 Axes>"
      ]
     },
     "metadata": {
      "needs_background": "light"
     },
     "output_type": "display_data"
    }
   ],
   "source": [
    "# plot 3-points\n",
    "for i in range(n_ops):\n",
    "    print('Plotting operator ' + str(op_labels[i]))\n",
    "    plot_fit(data_plot_mu[i], data_plot_sigma[i], c[i], sigmac[i], yaxis_labels[i], yrangep[i], ytick_locs[i], \\\n",
    "            ytick_labels[i], markers[i], colors[i])"
   ]
  },
  {
   "cell_type": "markdown",
   "id": "a400c392",
   "metadata": {},
   "source": [
    "## Fit mpi"
   ]
  },
  {
   "cell_type": "markdown",
   "id": "ade311ea",
   "metadata": {},
   "source": [
    "#### Constant fits to a given range"
   ]
  },
  {
   "cell_type": "code",
   "execution_count": 8,
   "id": "29a93d0e",
   "metadata": {},
   "outputs": [],
   "source": [
    "def const(params):\n",
    "    def model(t):\n",
    "        return params[0]\n",
    "    return model\n",
    "constant_model = Model(const, 1, [''], ['c0'])"
   ]
  },
  {
   "cell_type": "code",
   "execution_count": 9,
   "id": "5b74dee5",
   "metadata": {},
   "outputs": [
    {
     "name": "stdout",
     "output_type": "stream",
     "text": [
      "Fitting data: [0.24088537 0.24106982 0.24118419 0.24119754 0.24111457 0.24104779\n",
      " 0.24091662 0.24098462 0.2410112  0.24117734 0.24141461 0.24138038\n",
      " 0.24141176 0.24146834 0.24136726 0.24130491 0.24122685] at x positions: [12 13 14 15 16 17 18 19 20 21 22 23 24 25 26 27 28]\n",
      "Mpi = 0.24125(38) with chi^2 / ndof = 1.445793315314252\n"
     ]
    }
   ],
   "source": [
    "mpi_domain = np.arange(12, 29)\n",
    "fitter = BootstrapFitter(mpi_domain, meff_folded[:, mpi_domain], constant_model)\n",
    "# fitter = UncorrFitter(mpi_domain, meff_mu[mpi_domain], meff_sigma[mpi_domain], constant_model)\n",
    "mpi_params_c, chi2_c, ndof_c, mpi_covar_c = fitter.fit()\n",
    "mpi_mu_c = mpi_params_c[0]\n",
    "mpi_std_c = np.sqrt(mpi_covar_c[0, 0])\n",
    "print('Mpi = ' + export_float_latex(mpi_mu_c, mpi_std_c) + ' with chi^2 / ndof = ' + str(chi2_c / ndof_c))"
   ]
  },
  {
   "cell_type": "code",
   "execution_count": 10,
   "id": "93cefb46",
   "metadata": {},
   "outputs": [
    {
     "data": {
      "image/png": "[encoded data removed]",
      "text/plain": [
       "<Figure size 504x378 with 1 Axes>"
      ]
     },
     "metadata": {
      "needs_background": "light"
     },
     "output_type": "display_data"
    }
   ],
   "source": [
    "plot_fit(meff_mu, meff_sigma, mpi_mu_c, mpi_std_c, '$(am_{\\mathrm{eff}})^{\\mathrm{const}}$', fit_dom = mpi_domain)"
   ]
  },
  {
   "cell_type": "markdown",
   "id": "ada96b88",
   "metadata": {},
   "source": [
    "#### Excited state fits"
   ]
  },
  {
   "cell_type": "code",
   "execution_count": 11,
   "id": "2ac6299a",
   "metadata": {},
   "outputs": [],
   "source": [
    "def single_exp(params):\n",
    "    def model(t):\n",
    "        return params[0] * np.exp(-params[1] * t)# + params[2] * np.exp(-(params[1] + params[3]) * t)\n",
    "    return model\n",
    "def multi_exp(params):\n",
    "    def model(t):\n",
    "        return params[0] * np.exp(-params[1] * t) + params[2] * np.exp(-(params[1] + params[3]) * t)\n",
    "    return model\n",
    "# TODO put prior on params[3] (which is Δ, the energy gap)\n",
    "single_exp_model = Model(single_exp, 2, ['', 't'], ['Z0', 'm0'])\n",
    "multi_exp_model = Model(single_exp, 4, ['', 't', '', 't'], ['Z0', 'm0', 'Z1', 'Δ'])"
   ]
  },
  {
   "cell_type": "code",
   "execution_count": null,
   "id": "c036a6f3",
   "metadata": {},
   "outputs": [],
   "source": [
    "# use gvar, lsqfit, and corr_fitter"
   ]
  },
  {
   "cell_type": "code",
   "execution_count": null,
   "id": "245b1a72",
   "metadata": {},
   "outputs": [],
   "source": [
    "# mpi_domain_exc = np.arange(12, 29)\n",
    "mpi_domain_exc = np.arange(12, 16)\n",
    "fitter_e = BootstrapFitter(mpi_domain, meff_folded[:, mpi_domain], single_exp_model)\n",
    "# fitter = UncorrFitter(mpi_domain, meff_mu[mpi_domain], meff_sigma[mpi_domain], constant_model)\n",
    "mpi_params_e, chi2_e, ndof_e, mpi_covar_e = fitter_e.fit()\n",
    "print(mpi_params_e)\n",
    "mpi_mu_e = mpi_params_e[1]\n",
    "mpi_std_e = np.sqrt(mpi_covar_e[1, 1])\n",
    "print('Mpi = ' + export_float_latex(mpi_mu_c, mpi_std_c) + ' with chi^2 / ndof = ' + str(chi2_c / ndof_c))"
   ]
  },
  {
   "cell_type": "markdown",
   "id": "dae2b8aa",
   "metadata": {},
   "source": [
    "## Fit 3-point functions"
   ]
  },
  {
   "cell_type": "markdown",
   "id": "3839dbcf",
   "metadata": {},
   "source": [
    "#### Constant fits to given range"
   ]
  },
  {
   "cell_type": "code",
   "execution_count": null,
   "id": "d2205f72",
   "metadata": {},
   "outputs": [],
   "source": [
    "const_domain = [\n",
    "    [np.arange(17, 29), np.arange(17, 29), np.arange(17, 29), np.arange(17, 29), np.arange(17, 29)], \n",
    "    [np.arange(0, 1), np.arange(0, 1), np.arange(0, 1), np.arange(0, 1), np.arange(0, 1)], \n",
    "    [np.arange(0, 1), np.arange(0, 1), np.arange(0, 1), np.arange(0, 1), np.arange(0, 1)], \n",
    "    [np.arange(0, 1), np.arange(0, 1), np.arange(0, 1), np.arange(0, 1), np.arange(0, 1)], \n",
    "    [np.arange(0, 1), np.arange(0, 1), np.arange(0, 1), np.arange(0, 1), np.arange(0, 1)]\n",
    "][ens_idx]"
   ]
  },
  {
   "cell_type": "code",
   "execution_count": null,
   "id": "4b16185a",
   "metadata": {},
   "outputs": [],
   "source": []
  },
  {
   "cell_type": "markdown",
   "id": "a9029e9e",
   "metadata": {},
   "source": [
    "#### Excited state fit"
   ]
  },
  {
   "cell_type": "code",
   "execution_count": null,
   "id": "3815af68",
   "metadata": {},
   "outputs": [],
   "source": [
    "exc_domain = [\n",
    "    [np.arange(17, 29), np.arange(17, 29), np.arange(17, 29), np.arange(17, 29), np.arange(17, 29)], \n",
    "    [np.arange(0, 1), np.arange(0, 1), np.arange(0, 1), np.arange(0, 1), np.arange(0, 1)], \n",
    "    [np.arange(0, 1), np.arange(0, 1), np.arange(0, 1), np.arange(0, 1), np.arange(0, 1)], \n",
    "    [np.arange(0, 1), np.arange(0, 1), np.arange(0, 1), np.arange(0, 1), np.arange(0, 1)], \n",
    "    [np.arange(0, 1), np.arange(0, 1), np.arange(0, 1), np.arange(0, 1), np.arange(0, 1)]\n",
    "][ens_idx]"
   ]
  },
  {
   "cell_type": "markdown",
   "id": "f1c41ec8",
   "metadata": {},
   "source": [
    "### Write out results"
   ]
  },
  {
   "cell_type": "code",
   "execution_count": null,
   "id": "5e609a12",
   "metadata": {},
   "outputs": [],
   "source": [
    "# out_file = '/Users/theoares/Dropbox (MIT)/research/0nubb/short_distance/bare_matrix_elements/' + ensemble + '/fit_params.h5'\n",
    "# fout = h5py.File(out_file, 'w')\n",
    "# fout['fits'] = fits\n",
    "# fout['data_slice'] = data_slice\n",
    "# fout['c'] = np.array(c)\n",
    "# fout['sigmac'] = np.array(sigmac)\n",
    "# fout['plot_domain'] = plot_domain\n",
    "# fout.close()\n",
    "# print('Results output to: ' + out_file)"
   ]
  }
 ],
 "metadata": {
  "kernelspec": {
   "display_name": "Python 3 (ipykernel)",
   "language": "python",
   "name": "python3"
  },
  "language_info": {
   "codemirror_mode": {
    "name": "ipython",
    "version": 3
   },
   "file_extension": ".py",
   "mimetype": "text/x-python",
   "name": "python",
   "nbconvert_exporter": "python",
   "pygments_lexer": "ipython3",
   "version": "3.10.2"
  },
  "latex_envs": {
   "LaTeX_envs_menu_present": true,
   "autocomplete": true,
   "bibliofile": "biblio.bib",
   "cite_by": "apalike",
   "current_citInitial": 1,
   "eqLabelWithNumbers": true,
   "eqNumInitial": 1,
   "hotkeys": {
    "equation": "Ctrl-E",
    "itemize": "Ctrl-I"
   },
   "labels_anchors": false,
   "latex_user_defs": false,
   "report_style_numbering": false,
   "user_envs_cfg": false
  }
 },
 "nbformat": 4,
 "nbformat_minor": 5
}
