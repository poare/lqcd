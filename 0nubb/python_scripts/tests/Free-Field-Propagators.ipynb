{
 "cells": [
  {
   "cell_type": "code",
   "execution_count": 1,
   "metadata": {},
   "outputs": [],
   "source": [
    "%load_ext autoreload\n",
    "%autoreload 2\n",
    "%matplotlib notebook\n",
    "\n",
    "import numpy as np\n",
    "import matplotlib.pyplot as plt\n",
    "from scipy.optimize import root\n",
    "import h5py\n",
    "import os\n",
    "import itertools\n",
    "# from test_utils import *\n",
    "import test_utils\n",
    "import analysis"
   ]
  },
  {
   "cell_type": "code",
   "execution_count": 2,
   "metadata": {},
   "outputs": [
    {
     "data": {
      "text/plain": [
       "(4, 4, 256, [4, 4, 4, 4])"
      ]
     },
     "execution_count": 2,
     "metadata": {},
     "output_type": "execute_result"
    }
   ],
   "source": [
    "Lx, Lt = 4, 4\n",
    "# Lx, Lt = 2, 8\n",
    "V = (Lx ** 3) * Lt\n",
    "LL = [Lx, Lx, Lx, Lt]\n",
    "analysis.set_dimensions(Lx, Lt)"
   ]
  },
  {
   "cell_type": "code",
   "execution_count": 3,
   "metadata": {},
   "outputs": [],
   "source": [
    "# Load in the free field propagators\n",
    "job_num = 30558\n",
    "# job_num = 30562\n",
    "k1 = np.array([-1, 0, 1, 0])\n",
    "k2 = np.array([0, 1, 1, 0])\n",
    "q = k2 - k1\n",
    "q_lat = np.sin(analysis.to_linear_momentum(q + analysis.bvec))\n",
    "qlat_slash = analysis.slash(q_lat)\n",
    "test_file = '/Users/theoares/Dropbox (MIT)/research/0nubb/meas/free_field_props_' + str(job_num) + '/free_field_props.h5'\n",
    "prop_k1, prop_k2, prop_q = test_utils.read_propagators(test_file, q)"
   ]
  },
  {
   "cell_type": "code",
   "execution_count": 4,
   "metadata": {},
   "outputs": [],
   "source": [
    "# Fourier transform and momentum project\n",
    "FTk1 = np.zeros((Lx, Lx, Lx, Lt), dtype = np.complex64)\n",
    "FTk2 = np.zeros((Lx, Lx, Lx, Lt), dtype = np.complex64)\n",
    "FTq = np.zeros((Lx, Lx, Lx, Lt), dtype = np.complex64)\n",
    "FTmq = np.zeros((Lx, Lx, Lx, Lt), dtype = np.complex64)\n",
    "FTm2q = np.zeros((Lx, Lx, Lx, Lt), dtype = np.complex64)\n",
    "for x, y, z in itertools.product(range(Lx), repeat = 3):\n",
    "    for t in range(Lt):\n",
    "        pos = np.array([x, y, z, t])\n",
    "        FTk1[x, y, z, t] = np.exp(2 * np.pi * 1j * np.dot(pos / LL, k1 + analysis.bvec))\n",
    "        FTk2[x, y, z, t] = np.exp(2 * np.pi * 1j * np.dot(pos / LL, k2 + analysis.bvec))\n",
    "        FTq[x, y, z, t] = np.exp(2 * np.pi * 1j * np.dot(pos / LL, q + analysis.bvec))\n",
    "        FTmq[x, y, z, t] = np.exp(2 * np.pi * 1j * np.dot(pos / LL, -q))\n",
    "        FTm2q[x, y, z, t] = np.exp(2 * np.pi * 1j * np.dot(pos / LL, -2 * q))"
   ]
  },
  {
   "cell_type": "code",
   "execution_count": 5,
   "metadata": {},
   "outputs": [],
   "source": [
    "Sk1 = np.einsum('xyzt,xyzt...->...', FTk1, prop_k1) / V\n",
    "Sk2 = np.einsum('xyzt,xyzt...->...', FTk2, prop_k2) / V\n",
    "Sq = np.einsum('xyzt,xyzt...->...', FTq, prop_q) / V\n",
    "antiprop_k2 = np.einsum('ik,...akbl,lj->...aibj', analysis.gamma5, analysis.adjoint(prop_k2), analysis.gamma5)\n",
    "Sk1_inv = np.linalg.tensorinv(Sk1)\n",
    "Sk2_inv = np.linalg.tensorinv(Sk2)\n",
    "Sq_inv = np.linalg.tensorinv(Sq)"
   ]
  },
  {
   "cell_type": "markdown",
   "metadata": {},
   "source": [
    "## Verify that Zq, ZV, and ZA are all equal to 1 for the free field"
   ]
  },
  {
   "cell_type": "code",
   "execution_count": 6,
   "metadata": {},
   "outputs": [
    {
     "name": "stdout",
     "output_type": "stream",
     "text": [
      "(1.0000000085571377-2.220446049250313e-16j)\n"
     ]
    }
   ],
   "source": [
    "# Verify Zq is 1\n",
    "Zq = (1j) * sum([q[mu] * np.einsum('ij,ajai', analysis.gamma[mu], Sq_inv) for mu in range(analysis.d)]) \\\n",
    "    / (12 * analysis.square(q))\n",
    "print(Zq)    # for free field, Zq must be 1."
   ]
  },
  {
   "cell_type": "code",
   "execution_count": 7,
   "metadata": {},
   "outputs": [],
   "source": [
    "# Get and amputate three point functions\n",
    "GV = np.array([np.einsum('xyzt,xyztaick,kl,xyztclbj->aibj', FTmq, antiprop_k2, analysis.gamma[mu], prop_k1) for mu in range(4)]) / V\n",
    "GA = np.array([np.einsum('xyzt,xyztaick,km,ml,xyztclbj->aibj', FTmq, antiprop_k2, analysis.gamma[mu], analysis.gamma5, prop_k1) for mu in range(4)]) / V\n",
    "ΓV = np.array([np.einsum('aibj,bjck,ckdl->aidl', Sk2_inv, GV[mu], Sk1_inv) for mu in range(4)])\n",
    "ΓA = np.array([np.einsum('aibj,bjck,ckdl->aidl', Sk2_inv, GA[mu], Sk1_inv) for mu in range(4)])\n",
    "qΓV = np.einsum('m,maibj->aibj', q_lat, ΓV)\n",
    "qΓA = np.einsum('m,maibj->aibj', q_lat, ΓA)"
   ]
  },
  {
   "cell_type": "code",
   "execution_count": 8,
   "metadata": {},
   "outputs": [
    {
     "name": "stdout",
     "output_type": "stream",
     "text": [
      "(0.9999999914428666-8.537942317205117e-18j)\n",
      "(0.9999999914428678+1.3709333589380688e-16j)\n"
     ]
    }
   ],
   "source": [
    "# Verify axial and vector R.C.s are 1\n",
    "ZV = 12 * Zq * analysis.square(q_lat) / np.einsum('aiaj,ji->', qΓV, qlat_slash)\n",
    "ZA = 12 * Zq * analysis.square(q_lat) / np.einsum('aiaj,jk,ki->', qΓA, analysis.gamma5, qlat_slash)\n",
    "print(ZV)\n",
    "print(ZA)"
   ]
  },
  {
   "cell_type": "markdown",
   "metadata": {},
   "source": [
    "## Play around with the propagators and find some way to get the amputated 4 point function equal to its tree level value."
   ]
  },
  {
   "cell_type": "code",
   "execution_count": 52,
   "metadata": {},
   "outputs": [
    {
     "name": "stdout",
     "output_type": "stream",
     "text": [
      "0\n",
      "1\n",
      "2\n",
      "3\n",
      "4\n",
      "5\n",
      "6\n",
      "7\n",
      "8\n",
      "9\n",
      "10\n",
      "11\n",
      "12\n",
      "13\n",
      "14\n",
      "15\n"
     ]
    }
   ],
   "source": [
    "# Confirm that I'm getting the right combinations of gamma matrices\n",
    "A = np.zeros((16, 4, 4, 4, 4, 3, 4, 3, 4), dtype = np.complex64)\n",
    "# An_contr = np.zeros((16, 4, 4, 4, 4, 3, 4, 3, 4), dtype = np.complex64)\n",
    "GO = np.zeros((16, 3, 4, 3, 4, 3, 4, 3, 4), dtype = np.complex64)\n",
    "ΓO = np.zeros((16, 3, 4, 3, 4, 3, 4, 3, 4), dtype = np.complex64)\n",
    "for n in range(16):\n",
    "    print(n)\n",
    "    A[n] = np.einsum('...aick,kl,...clbj->...aibj', antiprop_k2, analysis.gammaList[n], prop_k1)\n",
    "    An_contr = np.einsum('...ckdl,...aibj->...aibjckdl', A[n], A[n]) - np.einsum('...ckbj,...aidl->...aibjckdl', A[n], A[n])\n",
    "    GO[n] = 2 * np.einsum('xyzt,xyzt...->...', FTm2q, An_contr) / V    # TODO later try with no momentum\n",
    "    ΓO[n] = np.einsum('aiem,gobj,ckfn,hpdl,emgofnhp->aibjckdl', Sk2_inv, Sk1_inv, Sk2_inv, Sk1_inv, GO[n])  #z is n"
   ]
  },
  {
   "cell_type": "code",
   "execution_count": 53,
   "metadata": {},
   "outputs": [
    {
     "name": "stdout",
     "output_type": "stream",
     "text": [
      "0\n",
      "1\n",
      "2\n",
      "3\n",
      "4\n",
      "5\n",
      "6\n",
      "7\n",
      "8\n",
      "9\n",
      "10\n",
      "11\n",
      "12\n",
      "13\n",
      "14\n",
      "15\n"
     ]
    }
   ],
   "source": [
    "# Use reverse gamma matrices that Phiala uses\n",
    "AR = np.zeros((16, 4, 4, 4, 4, 3, 4, 3, 4), dtype = np.complex64)\n",
    "# An_contrR = np.zeros((16, 4, 4, 4, 4, 3, 4, 3, 4), dtype = np.complex64)\n",
    "GOR = np.zeros((16, 3, 4, 3, 4, 3, 4, 3, 4), dtype = np.complex64)\n",
    "ΓOR = np.zeros((16, 3, 4, 3, 4, 3, 4, 3, 4), dtype = np.complex64)\n",
    "for n in range(16):\n",
    "    print(n)\n",
    "    AR[n] = np.einsum('...aick,kl,...clbj->...aibj', antiprop_k2, analysis.gammaListRev[n], prop_k1)\n",
    "    An_contrR = np.einsum('...ckdl,...aibj->...aibjckdl', AR[n], AR[n]) - np.einsum('...ckbj,...aidl->...aibjckdl', AR[n], AR[n])\n",
    "    GOR[n] = 2 * np.einsum('xyzt,xyzt...->...', FTm2q, An_contrR) / V    # TODO later try with no momentum\n",
    "    ΓOR[n] = np.einsum('aiem,gobj,ckfn,hpdl,emgofnhp->aibjckdl', Sk2_inv, Sk1_inv, Sk2_inv, Sk1_inv, GOR[n])  #z is n"
   ]
  },
  {
   "cell_type": "code",
   "execution_count": 54,
   "metadata": {},
   "outputs": [
    {
     "name": "stdout",
     "output_type": "stream",
     "text": [
      "n = 0, +\n",
      "n = 1, +\n",
      "n = 2, +\n",
      "n = 3, -\n",
      "n = 4, +\n",
      "n = 5, -\n",
      "n = 6, -\n",
      "n = 7, -\n",
      "n = 8, +\n",
      "n = 9, -\n",
      "n = 10, -\n",
      "n = 11, -\n",
      "n = 12, -\n",
      "n = 13, -\n",
      "n = 14, -\n",
      "n = 15, +\n"
     ]
    }
   ],
   "source": [
    "for m in range(16):\n",
    "    if np.allclose(A[m], AR[m]):\n",
    "        print('n = ' + str(m) + ', +')\n",
    "    elif np.allclose(A[m], -AR[m]):\n",
    "        print('n = ' + str(m) + ', -')"
   ]
  },
  {
   "cell_type": "code",
   "execution_count": 55,
   "metadata": {},
   "outputs": [
    {
     "name": "stdout",
     "output_type": "stream",
     "text": [
      "n = 0, +\n",
      "n = 1, +\n",
      "n = 2, +\n",
      "n = 3, +\n",
      "n = 4, +\n",
      "n = 5, +\n",
      "n = 6, +\n",
      "n = 7, +\n",
      "n = 8, +\n",
      "n = 9, +\n",
      "n = 10, +\n",
      "n = 11, +\n",
      "n = 12, +\n",
      "n = 13, +\n",
      "n = 14, +\n",
      "n = 15, +\n"
     ]
    }
   ],
   "source": [
    "for m in range(16):\n",
    "    if np.allclose(GO[m], GOR[m]):\n",
    "        print('n = ' + str(m) + ', +')\n",
    "    elif np.allclose(GO[m], -GOR[m]):\n",
    "        print('n = ' + str(m) + ', -')\n",
    "    else:\n",
    "        print('n = ' + str(m) + ', no match')"
   ]
  },
  {
   "cell_type": "code",
   "execution_count": 60,
   "metadata": {},
   "outputs": [],
   "source": [
    "SS = ΓO[0]\n",
    "PP = ΓO[15]\n",
    "VV = ΓO[1] + ΓO[2] + ΓO[4] + ΓO[8]\n",
    "# AA = -ΓO[14] + ΓO[13] - ΓO[11] + ΓO[7]    # SOMETHING WRONG WITH AA\n",
    "# AA = -(ΓO[14] + ΓO[13] + ΓO[11] + ΓO[7])\n",
    "AA = ΓO[14] + ΓO[13] + ΓO[11] + ΓO[7]\n",
    "TT = (ΓO[3] + ΓO[5] + ΓO[6] + ΓO[9] + ΓO[10] + ΓO[12])\n",
    "\n",
    "# SS = ΓOR[0]\n",
    "# PP = ΓOR[15]\n",
    "# VV = ΓOR[1] + ΓOR[2] + ΓOR[4] + ΓOR[8]\n",
    "# AA = ΓOR[14] + ΓOR[13] + ΓOR[11] + ΓOR[7]\n",
    "# TT = (ΓOR[3] + ΓOR[5] + ΓOR[6] + ΓOR[9] + ΓOR[10] + ΓOR[12])\n",
    "\n",
    "eps = 1e-5\n",
    "SS[np.abs(SS) < eps] = 0\n",
    "PP[np.abs(PP) < eps] = 0\n",
    "VV[np.abs(VV) < eps] = 0\n",
    "AA[np.abs(AA) < eps] = 0\n",
    "TT[np.abs(TT) < eps] = 0\n",
    "# Gamma_D = np.einsum('aiajckcl->ijkl', Gamma)"
   ]
  },
  {
   "cell_type": "code",
   "execution_count": 123,
   "metadata": {},
   "outputs": [],
   "source": [
    "# [a, i, b, j, c, k, d, l]\n",
    "# SS[:, 0, :, 0, :, 1, :, 1]"
   ]
  },
  {
   "cell_type": "code",
   "execution_count": 75,
   "metadata": {},
   "outputs": [],
   "source": [
    "Gamma = [VV + AA, VV - AA, SS - PP, SS + PP, TT]\n",
    "P = analysis.projectors()\n",
    "Lambda = np.einsum('nbjaidlck,maibjckdl->mn', P, Gamma)\n",
    "F = analysis.getF()"
   ]
  },
  {
   "cell_type": "code",
   "execution_count": 58,
   "metadata": {},
   "outputs": [
    {
     "name": "stdout",
     "output_type": "stream",
     "text": [
      "[[3072.+0.j    0.+0.j    0.+0.j    0.+0.j    0.+0.j]\n",
      " [   0.+0.j 2304.+0.j -384.+0.j    0.+0.j    0.+0.j]\n",
      " [   0.+0.j -384.+0.j  576.+0.j    0.+0.j    0.+0.j]\n",
      " [   0.+0.j    0.+0.j    0.+0.j  480.+0.j  288.+0.j]\n",
      " [   0.+0.j    0.+0.j    0.+0.j  288.+0.j 2016.+0.j]]\n"
     ]
    }
   ],
   "source": [
    "print(F)"
   ]
  },
  {
   "cell_type": "code",
   "execution_count": 76,
   "metadata": {},
   "outputs": [
    {
     "name": "stdout",
     "output_type": "stream",
     "text": [
      "[[3072    0    0    0    0]\n",
      " [   0 2304 -384    0    0]\n",
      " [   0 -384  576    0    0]\n",
      " [   0    0    0  480  288]\n",
      " [   0    0    0  288 2015]]\n"
     ]
    },
    {
     "name": "stderr",
     "output_type": "stream",
     "text": [
      "/Users/theoares/miniconda3/lib/python3.7/site-packages/ipykernel_launcher.py:1: ComplexWarning: Casting complex values to real discards the imaginary part\n",
      "  \"\"\"Entry point for launching an IPython kernel.\n"
     ]
    }
   ],
   "source": [
    "print(Lambda.astype(int))"
   ]
  },
  {
   "cell_type": "code",
   "execution_count": 20,
   "metadata": {},
   "outputs": [
    {
     "name": "stdout",
     "output_type": "stream",
     "text": [
      "[ 2.975464e-04+9.7787338e-14j  2.304000e+03-4.5474735e-13j\n",
      " -3.840001e+02+0.0000000e+00j  0.000000e+00+0.0000000e+00j\n",
      "  0.000000e+00+0.0000000e+00j]\n",
      "[ 3.072001e+03-1.1394893e-12j  2.632141e-04+0.0000000e+00j\n",
      " -2.002716e-04+0.0000000e+00j  0.000000e+00+0.0000000e+00j\n",
      "  0.000000e+00+0.0000000e+00j]\n",
      "[ 0.0000000e+00+0.000000e+00j -3.8400009e+02+0.000000e+00j\n",
      "  5.7600024e+02+0.000000e+00j  0.0000000e+00-7.640903e-16j\n",
      " -1.1444092e-04-7.640903e-16j]\n",
      "[ 0.0000000e+00+0.000000e+00j  2.4604797e-04+0.000000e+00j\n",
      " -8.8691711e-05+0.000000e+00j  4.8000034e+02-3.121692e-15j\n",
      "  2.8800012e+02-3.121692e-15j]\n",
      "[   0.     +0.0000000e+00j    0.     +0.0000000e+00j\n",
      "    0.     +0.0000000e+00j  288.00006-1.1668785e-14j\n",
      " 2015.9998 -1.1668785e-14j]\n"
     ]
    }
   ],
   "source": [
    "for i in range(5):\n",
    "    print(np.einsum('nbjaidlck,aibjckdl->n', P, Gamma[i]))"
   ]
  },
  {
   "cell_type": "code",
   "execution_count": 139,
   "metadata": {},
   "outputs": [
    {
     "name": "stdout",
     "output_type": "stream",
     "text": [
      "[[ 3.0720010e+03-1.1394893e-12j  2.6321411e-04+0.0000000e+00j\n",
      "  -2.0027161e-04+0.0000000e+00j  0.0000000e+00+0.0000000e+00j\n",
      "   0.0000000e+00+0.0000000e+00j]\n",
      " [ 2.9754639e-04+9.7787338e-14j  2.3040000e+03-4.5474735e-13j\n",
      "  -3.8400009e+02+0.0000000e+00j  0.0000000e+00+0.0000000e+00j\n",
      "   0.0000000e+00+0.0000000e+00j]\n",
      " [ 0.0000000e+00+0.0000000e+00j -3.8400009e+02+0.0000000e+00j\n",
      "   5.7600024e+02+0.0000000e+00j  0.0000000e+00-7.6409032e-16j\n",
      "  -1.1444092e-04-7.6409032e-16j]\n",
      " [ 0.0000000e+00+0.0000000e+00j  2.4604797e-04+0.0000000e+00j\n",
      "  -8.8691711e-05+0.0000000e+00j  4.8000034e+02-3.1216921e-15j\n",
      "   2.8800012e+02-3.1216921e-15j]\n",
      " [ 0.0000000e+00+0.0000000e+00j  0.0000000e+00+0.0000000e+00j\n",
      "   0.0000000e+00+0.0000000e+00j  2.8800006e+02-1.1668785e-14j\n",
      "   2.0159998e+03-1.1668785e-14j]]\n"
     ]
    }
   ],
   "source": [
    "print(Lambda)"
   ]
  },
  {
   "cell_type": "code",
   "execution_count": 140,
   "metadata": {},
   "outputs": [
    {
     "name": "stdout",
     "output_type": "stream",
     "text": [
      "[[3072    0    0    0    0]\n",
      " [   0 2304 -384    0    0]\n",
      " [   0 -384  576    0    0]\n",
      " [   0    0    0  480  288]\n",
      " [   0    0    0  288 2015]]\n"
     ]
    },
    {
     "name": "stderr",
     "output_type": "stream",
     "text": [
      "/Users/theoares/miniconda3/lib/python3.7/site-packages/ipykernel_launcher.py:1: ComplexWarning: Casting complex values to real discards the imaginary part\n",
      "  \"\"\"Entry point for launching an IPython kernel.\n"
     ]
    }
   ],
   "source": [
    "print(Lambda.astype(int))    # note this truncates so some may be 1 less than in F"
   ]
  },
  {
   "cell_type": "code",
   "execution_count": 76,
   "metadata": {},
   "outputs": [
    {
     "data": {
      "text/plain": [
       "array([[3072.+0.j,    0.+0.j,    0.+0.j,    0.+0.j,    0.+0.j],\n",
       "       [   0.+0.j, 2304.+0.j, -384.+0.j,    0.+0.j,    0.+0.j],\n",
       "       [   0.+0.j, -384.+0.j,  576.+0.j,    0.+0.j,    0.+0.j],\n",
       "       [   0.+0.j,    0.+0.j,    0.+0.j,  480.+0.j,  288.+0.j],\n",
       "       [   0.+0.j,    0.+0.j,    0.+0.j,  288.+0.j, 2016.+0.j]],\n",
       "      dtype=complex64)"
      ]
     },
     "execution_count": 76,
     "metadata": {},
     "output_type": "execute_result"
    }
   ],
   "source": [
    "F"
   ]
  },
  {
   "cell_type": "code",
   "execution_count": 103,
   "metadata": {
    "scrolled": false
   },
   "outputs": [],
   "source": [
    "# Check out what the VV and AA amputated 4-pt functions actually look like\n",
    "VV_ijkl = VV[0, :, 0, :, 1, :, 1, :]#.astype(int)\n",
    "AA_ijkl = AA[0, :, 0, :, 1, :, 1, :]#.astype(int)"
   ]
  },
  {
   "cell_type": "code",
   "execution_count": 106,
   "metadata": {},
   "outputs": [
    {
     "name": "stdout",
     "output_type": "stream",
     "text": [
      "True\n",
      "False\n"
     ]
    }
   ],
   "source": [
    "print(np.allclose(2 * np.einsum('mij,mkl->ijkl', analysis.gamma, analysis.gamma), VV_ijkl))"
   ]
  },
  {
   "cell_type": "code",
   "execution_count": 112,
   "metadata": {},
   "outputs": [
    {
     "name": "stdout",
     "output_type": "stream",
     "text": [
      "False\n"
     ]
    }
   ],
   "source": [
    "gamGam5 = np.array([analysis.gamma[mu] @ analysis.gamma5 for mu in range(4)])\n",
    "print(np.allclose(2 * np.einsum('mij,mkl->ijkl', gamGam5, gamGam5), AA_ijkl))\n",
    "# 2 * np.einsum('mij,mkl->ijkl', gamGam5, gamGam5) == AA_ijkl.astype(int)"
   ]
  },
  {
   "cell_type": "code",
   "execution_count": 108,
   "metadata": {},
   "outputs": [
    {
     "data": {
      "text/plain": [
       "array([[[[ 0.+0.j,  0.+0.j,  0.+0.j,  0.+0.j],\n",
       "         [ 0.+0.j,  0.+0.j,  0.+0.j,  0.+0.j],\n",
       "         [ 0.+0.j,  0.+0.j,  0.+0.j,  0.+0.j],\n",
       "         [ 0.+0.j,  0.+0.j,  0.+0.j,  0.+0.j]],\n",
       "\n",
       "        [[ 0.+0.j,  0.+0.j,  0.+0.j,  0.+0.j],\n",
       "         [ 0.+0.j,  0.+0.j,  0.+0.j,  0.+0.j],\n",
       "         [ 0.+0.j,  0.+0.j,  0.+0.j,  0.+0.j],\n",
       "         [ 0.+0.j,  0.+0.j,  0.+0.j,  0.+0.j]],\n",
       "\n",
       "        [[ 0.+0.j,  0.+0.j,  0.+0.j,  0.+0.j],\n",
       "         [ 0.+0.j,  0.+0.j,  0.+0.j,  4.+0.j],\n",
       "         [-4.+0.j,  0.+0.j,  0.+0.j,  0.+0.j],\n",
       "         [ 0.+0.j,  0.+0.j,  0.+0.j,  0.+0.j]],\n",
       "\n",
       "        [[ 0.+0.j,  0.+0.j,  0.+0.j,  0.+0.j],\n",
       "         [ 0.+0.j,  0.+0.j, -4.+0.j,  0.+0.j],\n",
       "         [ 0.+0.j,  0.+0.j,  0.+0.j,  0.+0.j],\n",
       "         [-4.+0.j,  0.+0.j,  0.+0.j,  0.+0.j]]],\n",
       "\n",
       "\n",
       "       [[[ 0.+0.j,  0.+0.j,  0.+0.j,  0.+0.j],\n",
       "         [ 0.+0.j,  0.+0.j,  0.+0.j,  0.+0.j],\n",
       "         [ 0.+0.j,  0.+0.j,  0.+0.j,  0.+0.j],\n",
       "         [ 0.+0.j,  0.+0.j,  0.+0.j,  0.+0.j]],\n",
       "\n",
       "        [[ 0.+0.j,  0.+0.j,  0.+0.j,  0.+0.j],\n",
       "         [ 0.+0.j,  0.+0.j,  0.+0.j,  0.+0.j],\n",
       "         [ 0.+0.j,  0.+0.j,  0.+0.j,  0.+0.j],\n",
       "         [ 0.+0.j,  0.+0.j,  0.+0.j,  0.+0.j]],\n",
       "\n",
       "        [[ 0.+0.j,  0.+0.j,  0.+0.j, -4.+0.j],\n",
       "         [ 0.+0.j,  0.+0.j,  0.+0.j,  0.+0.j],\n",
       "         [ 0.+0.j, -4.+0.j,  0.+0.j,  0.+0.j],\n",
       "         [ 0.+0.j,  0.+0.j,  0.+0.j,  0.+0.j]],\n",
       "\n",
       "        [[ 0.+0.j,  0.+0.j,  4.+0.j,  0.+0.j],\n",
       "         [ 0.+0.j,  0.+0.j,  0.+0.j,  0.+0.j],\n",
       "         [ 0.+0.j,  0.+0.j,  0.+0.j,  0.+0.j],\n",
       "         [ 0.+0.j, -4.+0.j,  0.+0.j,  0.+0.j]]],\n",
       "\n",
       "\n",
       "       [[[ 0.+0.j,  0.+0.j, -4.+0.j,  0.+0.j],\n",
       "         [ 0.+0.j,  0.+0.j,  0.+0.j,  0.+0.j],\n",
       "         [ 0.+0.j,  0.+0.j,  0.+0.j,  0.+0.j],\n",
       "         [ 0.+0.j,  4.+0.j,  0.+0.j,  0.+0.j]],\n",
       "\n",
       "        [[ 0.+0.j,  0.+0.j,  0.+0.j,  0.+0.j],\n",
       "         [ 0.+0.j,  0.+0.j, -4.+0.j,  0.+0.j],\n",
       "         [ 0.+0.j,  0.+0.j,  0.+0.j,  0.+0.j],\n",
       "         [-4.+0.j,  0.+0.j,  0.+0.j,  0.+0.j]],\n",
       "\n",
       "        [[ 0.+0.j,  0.+0.j,  0.+0.j,  0.+0.j],\n",
       "         [ 0.+0.j,  0.+0.j,  0.+0.j,  0.+0.j],\n",
       "         [ 0.+0.j,  0.+0.j,  0.+0.j,  0.+0.j],\n",
       "         [ 0.+0.j,  0.+0.j,  0.+0.j,  0.+0.j]],\n",
       "\n",
       "        [[ 0.+0.j,  0.+0.j,  0.+0.j,  0.+0.j],\n",
       "         [ 0.+0.j,  0.+0.j,  0.+0.j,  0.+0.j],\n",
       "         [ 0.+0.j,  0.+0.j,  0.+0.j,  0.+0.j],\n",
       "         [ 0.+0.j,  0.+0.j,  0.+0.j,  0.+0.j]]],\n",
       "\n",
       "\n",
       "       [[[ 0.+0.j,  0.+0.j,  0.+0.j, -4.+0.j],\n",
       "         [ 0.+0.j,  0.+0.j,  0.+0.j,  0.+0.j],\n",
       "         [ 0.+0.j, -4.+0.j,  0.+0.j,  0.+0.j],\n",
       "         [ 0.+0.j,  0.+0.j,  0.+0.j,  0.+0.j]],\n",
       "\n",
       "        [[ 0.+0.j,  0.+0.j,  0.+0.j,  0.+0.j],\n",
       "         [ 0.+0.j,  0.+0.j,  0.+0.j, -4.+0.j],\n",
       "         [ 4.+0.j,  0.+0.j,  0.+0.j,  0.+0.j],\n",
       "         [ 0.+0.j,  0.+0.j,  0.+0.j,  0.+0.j]],\n",
       "\n",
       "        [[ 0.+0.j,  0.+0.j,  0.+0.j,  0.+0.j],\n",
       "         [ 0.+0.j,  0.+0.j,  0.+0.j,  0.+0.j],\n",
       "         [ 0.+0.j,  0.+0.j,  0.+0.j,  0.+0.j],\n",
       "         [ 0.+0.j,  0.+0.j,  0.+0.j,  0.+0.j]],\n",
       "\n",
       "        [[ 0.+0.j,  0.+0.j,  0.+0.j,  0.+0.j],\n",
       "         [ 0.+0.j,  0.+0.j,  0.+0.j,  0.+0.j],\n",
       "         [ 0.+0.j,  0.+0.j,  0.+0.j,  0.+0.j],\n",
       "         [ 0.+0.j,  0.+0.j,  0.+0.j,  0.+0.j]]]])"
      ]
     },
     "execution_count": 108,
     "metadata": {},
     "output_type": "execute_result"
    }
   ],
   "source": [
    "2 * np.einsum('mij,mkl->ijkl', gamGam5, gamGam5)"
   ]
  },
  {
   "cell_type": "code",
   "execution_count": 109,
   "metadata": {},
   "outputs": [
    {
     "data": {
      "text/plain": [
       "array([[[[ 0.+0.0000000e+00j,  0.+0.0000000e+00j,  0.+0.0000000e+00j,\n",
       "           0.+0.0000000e+00j],\n",
       "         [ 0.+0.0000000e+00j,  0.+0.0000000e+00j,  0.+0.0000000e+00j,\n",
       "           0.+0.0000000e+00j],\n",
       "         [ 0.+0.0000000e+00j,  0.+0.0000000e+00j,  0.+0.0000000e+00j,\n",
       "           0.+0.0000000e+00j],\n",
       "         [ 0.+0.0000000e+00j,  0.+0.0000000e+00j,  0.+0.0000000e+00j,\n",
       "           0.+0.0000000e+00j]],\n",
       "\n",
       "        [[ 0.+0.0000000e+00j,  0.+0.0000000e+00j,  0.+0.0000000e+00j,\n",
       "           0.+0.0000000e+00j],\n",
       "         [ 0.+0.0000000e+00j,  0.+0.0000000e+00j,  0.+0.0000000e+00j,\n",
       "           0.+0.0000000e+00j],\n",
       "         [ 0.+0.0000000e+00j,  0.+0.0000000e+00j,  0.+0.0000000e+00j,\n",
       "           0.+0.0000000e+00j],\n",
       "         [ 0.+0.0000000e+00j,  0.+0.0000000e+00j,  0.+0.0000000e+00j,\n",
       "           0.+0.0000000e+00j]],\n",
       "\n",
       "        [[ 0.+0.0000000e+00j,  0.+0.0000000e+00j,  4.-7.1738597e-08j,\n",
       "           0.+0.0000000e+00j],\n",
       "         [ 0.+0.0000000e+00j,  0.+0.0000000e+00j,  0.+0.0000000e+00j,\n",
       "           0.+0.0000000e+00j],\n",
       "         [ 0.+0.0000000e+00j,  0.+0.0000000e+00j,  0.+0.0000000e+00j,\n",
       "           0.+0.0000000e+00j],\n",
       "         [ 0.+0.0000000e+00j, -4.+3.9462169e-08j,  0.+0.0000000e+00j,\n",
       "           0.+0.0000000e+00j]],\n",
       "\n",
       "        [[ 0.+0.0000000e+00j,  0.+0.0000000e+00j,  0.+0.0000000e+00j,\n",
       "           4.-4.6541691e-09j],\n",
       "         [ 0.+0.0000000e+00j,  0.+0.0000000e+00j,  0.+0.0000000e+00j,\n",
       "           0.+0.0000000e+00j],\n",
       "         [ 0.+0.0000000e+00j,  4.+5.1917750e-09j,  0.+0.0000000e+00j,\n",
       "           0.+0.0000000e+00j],\n",
       "         [ 0.+0.0000000e+00j,  0.+0.0000000e+00j,  0.+0.0000000e+00j,\n",
       "           0.+0.0000000e+00j]]],\n",
       "\n",
       "\n",
       "       [[[ 0.+0.0000000e+00j,  0.+0.0000000e+00j,  0.+0.0000000e+00j,\n",
       "           0.+0.0000000e+00j],\n",
       "         [ 0.+0.0000000e+00j,  0.+0.0000000e+00j,  0.+0.0000000e+00j,\n",
       "           0.+0.0000000e+00j],\n",
       "         [ 0.+0.0000000e+00j,  0.+0.0000000e+00j,  0.+0.0000000e+00j,\n",
       "           0.+0.0000000e+00j],\n",
       "         [ 0.+0.0000000e+00j,  0.+0.0000000e+00j,  0.+0.0000000e+00j,\n",
       "           0.+0.0000000e+00j]],\n",
       "\n",
       "        [[ 0.+0.0000000e+00j,  0.+0.0000000e+00j,  0.+0.0000000e+00j,\n",
       "           0.+0.0000000e+00j],\n",
       "         [ 0.+0.0000000e+00j,  0.+0.0000000e+00j,  0.+0.0000000e+00j,\n",
       "           0.+0.0000000e+00j],\n",
       "         [ 0.+0.0000000e+00j,  0.+0.0000000e+00j,  0.+0.0000000e+00j,\n",
       "           0.+0.0000000e+00j],\n",
       "         [ 0.+0.0000000e+00j,  0.+0.0000000e+00j,  0.+0.0000000e+00j,\n",
       "           0.+0.0000000e+00j]],\n",
       "\n",
       "        [[ 0.+0.0000000e+00j,  0.+0.0000000e+00j,  0.+0.0000000e+00j,\n",
       "           0.+0.0000000e+00j],\n",
       "         [ 0.+0.0000000e+00j,  0.+0.0000000e+00j,  4.+4.6541655e-09j,\n",
       "           0.+0.0000000e+00j],\n",
       "         [ 0.+0.0000000e+00j,  0.+0.0000000e+00j,  0.+0.0000000e+00j,\n",
       "           0.+0.0000000e+00j],\n",
       "         [ 4.-5.1917795e-09j,  0.+0.0000000e+00j,  0.+0.0000000e+00j,\n",
       "           0.+0.0000000e+00j]],\n",
       "\n",
       "        [[ 0.+0.0000000e+00j,  0.+0.0000000e+00j,  0.+0.0000000e+00j,\n",
       "           0.+0.0000000e+00j],\n",
       "         [ 0.+0.0000000e+00j,  0.+0.0000000e+00j,  0.+0.0000000e+00j,\n",
       "           4.+7.1738597e-08j],\n",
       "         [-4.-3.9462162e-08j,  0.+0.0000000e+00j,  0.+0.0000000e+00j,\n",
       "           0.+0.0000000e+00j],\n",
       "         [ 0.+0.0000000e+00j,  0.+0.0000000e+00j,  0.+0.0000000e+00j,\n",
       "           0.+0.0000000e+00j]]],\n",
       "\n",
       "\n",
       "       [[[ 0.+0.0000000e+00j,  0.+0.0000000e+00j,  0.+0.0000000e+00j,\n",
       "           0.+0.0000000e+00j],\n",
       "         [ 0.+0.0000000e+00j,  0.+0.0000000e+00j,  0.+0.0000000e+00j,\n",
       "          -4.-3.9462165e-08j],\n",
       "         [ 4.-1.2497546e-08j,  0.+0.0000000e+00j,  0.+0.0000000e+00j,\n",
       "           0.+0.0000000e+00j],\n",
       "         [ 0.+0.0000000e+00j,  0.+0.0000000e+00j,  0.+0.0000000e+00j,\n",
       "           0.+0.0000000e+00j]],\n",
       "\n",
       "        [[ 0.+0.0000000e+00j,  0.+0.0000000e+00j,  0.+0.0000000e+00j,\n",
       "           4.+5.1917750e-09j],\n",
       "         [ 0.+0.0000000e+00j,  0.+0.0000000e+00j,  0.+0.0000000e+00j,\n",
       "           0.+0.0000000e+00j],\n",
       "         [ 0.+0.0000000e+00j,  4.-3.4256527e-09j,  0.+0.0000000e+00j,\n",
       "           0.+0.0000000e+00j],\n",
       "         [ 0.+0.0000000e+00j,  0.+0.0000000e+00j,  0.+0.0000000e+00j,\n",
       "           0.+0.0000000e+00j]],\n",
       "\n",
       "        [[ 0.+0.0000000e+00j,  0.+0.0000000e+00j,  0.+0.0000000e+00j,\n",
       "           0.+0.0000000e+00j],\n",
       "         [ 0.+0.0000000e+00j,  0.+0.0000000e+00j,  0.+0.0000000e+00j,\n",
       "           0.+0.0000000e+00j],\n",
       "         [ 0.+0.0000000e+00j,  0.+0.0000000e+00j,  0.+0.0000000e+00j,\n",
       "           0.+0.0000000e+00j],\n",
       "         [ 0.+0.0000000e+00j,  0.+0.0000000e+00j,  0.+0.0000000e+00j,\n",
       "           0.+0.0000000e+00j]],\n",
       "\n",
       "        [[ 0.+0.0000000e+00j,  0.+0.0000000e+00j,  0.+0.0000000e+00j,\n",
       "           0.+0.0000000e+00j],\n",
       "         [ 0.+0.0000000e+00j,  0.+0.0000000e+00j,  0.+0.0000000e+00j,\n",
       "           0.+0.0000000e+00j],\n",
       "         [ 0.+0.0000000e+00j,  0.+0.0000000e+00j,  0.+0.0000000e+00j,\n",
       "           0.+0.0000000e+00j],\n",
       "         [ 0.+0.0000000e+00j,  0.+0.0000000e+00j,  0.+0.0000000e+00j,\n",
       "           0.+0.0000000e+00j]]],\n",
       "\n",
       "\n",
       "       [[[ 0.+0.0000000e+00j,  0.+0.0000000e+00j,  0.+0.0000000e+00j,\n",
       "           0.+0.0000000e+00j],\n",
       "         [ 0.+0.0000000e+00j,  0.+0.0000000e+00j,  4.-5.1917795e-09j,\n",
       "           0.+0.0000000e+00j],\n",
       "         [ 0.+0.0000000e+00j,  0.+0.0000000e+00j,  0.+0.0000000e+00j,\n",
       "           0.+0.0000000e+00j],\n",
       "         [ 4.+3.4256473e-09j,  0.+0.0000000e+00j,  0.+0.0000000e+00j,\n",
       "           0.+0.0000000e+00j]],\n",
       "\n",
       "        [[ 0.+0.0000000e+00j,  0.+0.0000000e+00j, -4.+3.9462169e-08j,\n",
       "           0.+0.0000000e+00j],\n",
       "         [ 0.+0.0000000e+00j,  0.+0.0000000e+00j,  0.+0.0000000e+00j,\n",
       "           0.+0.0000000e+00j],\n",
       "         [ 0.+0.0000000e+00j,  0.+0.0000000e+00j,  0.+0.0000000e+00j,\n",
       "           0.+0.0000000e+00j],\n",
       "         [ 0.+0.0000000e+00j,  4.+1.2497541e-08j,  0.+0.0000000e+00j,\n",
       "           0.+0.0000000e+00j]],\n",
       "\n",
       "        [[ 0.+0.0000000e+00j,  0.+0.0000000e+00j,  0.+0.0000000e+00j,\n",
       "           0.+0.0000000e+00j],\n",
       "         [ 0.+0.0000000e+00j,  0.+0.0000000e+00j,  0.+0.0000000e+00j,\n",
       "           0.+0.0000000e+00j],\n",
       "         [ 0.+0.0000000e+00j,  0.+0.0000000e+00j,  0.+0.0000000e+00j,\n",
       "           0.+0.0000000e+00j],\n",
       "         [ 0.+0.0000000e+00j,  0.+0.0000000e+00j,  0.+0.0000000e+00j,\n",
       "           0.+0.0000000e+00j]],\n",
       "\n",
       "        [[ 0.+0.0000000e+00j,  0.+0.0000000e+00j,  0.+0.0000000e+00j,\n",
       "           0.+0.0000000e+00j],\n",
       "         [ 0.+0.0000000e+00j,  0.+0.0000000e+00j,  0.+0.0000000e+00j,\n",
       "           0.+0.0000000e+00j],\n",
       "         [ 0.+0.0000000e+00j,  0.+0.0000000e+00j,  0.+0.0000000e+00j,\n",
       "           0.+0.0000000e+00j],\n",
       "         [ 0.+0.0000000e+00j,  0.+0.0000000e+00j,  0.+0.0000000e+00j,\n",
       "           0.+0.0000000e+00j]]]], dtype=complex64)"
      ]
     },
     "execution_count": 109,
     "metadata": {},
     "output_type": "execute_result"
    }
   ],
   "source": [
    "AA_ijkl"
   ]
  },
  {
   "cell_type": "markdown",
   "metadata": {},
   "source": [
    "## Compare with QLUA output. There seems to be a bug somewhere, since the 3-point functions don't match"
   ]
  },
  {
   "cell_type": "code",
   "execution_count": 69,
   "metadata": {},
   "outputs": [],
   "source": [
    "# Saving mqFT2, A_Gamma, and the Green's function. Compare all of them to what this code outputs. \n",
    "# when everything here matches, I should be able to feed QLUA output into free_field.py and have it work\n",
    "qlua_jobnum = 30661\n",
    "qlua_out_file = '/Users/theoares/Dropbox (MIT)/research/0nubb/meas/'+'free_field_'+str(qlua_jobnum)+'/free_field.h5'\n",
    "fq = h5py.File(qlua_out_file, 'r')\n",
    "mqFT2 = fq['mqFT2'][()]\n",
    "A_gamma = np.einsum('...ijab->...aibj', np.array([fq['Agamma' + str(n)][()] for n in range(16)]))\n",
    "qlua_GO = np.einsum('nijklabcd->naibjckdl', np.array([fq['Gn' + str(n) + '/q1100'][()] for n in range(16)]))"
   ]
  },
  {
   "cell_type": "code",
   "execution_count": 66,
   "metadata": {},
   "outputs": [
    {
     "name": "stdout",
     "output_type": "stream",
     "text": [
      "True\n"
     ]
    }
   ],
   "source": [
    "# Compare FT factors from QLUA with Python\n",
    "# print(mqFT2)\n",
    "# print(FTm2q)\n",
    "print(np.allclose(mqFT2, FTm2q))"
   ]
  },
  {
   "cell_type": "code",
   "execution_count": null,
   "metadata": {},
   "outputs": [],
   "source": [
    "# Compare A_gamma output from QLUA and Python for some n.\n",
    "n = 3\n",
    "print(A_gamma[n])\n",
    "print(A[n])"
   ]
  },
  {
   "cell_type": "code",
   "execution_count": 74,
   "metadata": {},
   "outputs": [
    {
     "name": "stdout",
     "output_type": "stream",
     "text": [
      "False\n",
      "True\n"
     ]
    }
   ],
   "source": [
    "# Compare QLUA GO output with Python GO output\n",
    "# print(qlua_GO[n])\n",
    "# print(GO[n])    # python output for GO at gamma = 3\n",
    "print(np.allclose(qlua_GO[n], GO[n]))\n",
    "print(np.allclose(np.einsum('aibjckdl->dlckbjai', qlua_GO[n]), GO[n]))"
   ]
  },
  {
   "cell_type": "code",
   "execution_count": null,
   "metadata": {},
   "outputs": [],
   "source": []
  }
 ],
 "metadata": {
  "kernelspec": {
   "display_name": "Python 3",
   "language": "python",
   "name": "python3"
  },
  "language_info": {
   "codemirror_mode": {
    "name": "ipython",
    "version": 3
   },
   "file_extension": ".py",
   "mimetype": "text/x-python",
   "name": "python",
   "nbconvert_exporter": "python",
   "pygments_lexer": "ipython3",
   "version": "3.7.1"
  },
  "latex_envs": {
   "LaTeX_envs_menu_present": true,
   "autocomplete": true,
   "bibliofile": "biblio.bib",
   "cite_by": "apalike",
   "current_citInitial": 1,
   "eqLabelWithNumbers": true,
   "eqNumInitial": 1,
   "hotkeys": {
    "equation": "Ctrl-E",
    "itemize": "Ctrl-I"
   },
   "labels_anchors": false,
   "latex_user_defs": false,
   "report_style_numbering": false,
   "user_envs_cfg": false
  }
 },
 "nbformat": 4,
 "nbformat_minor": 2
}
