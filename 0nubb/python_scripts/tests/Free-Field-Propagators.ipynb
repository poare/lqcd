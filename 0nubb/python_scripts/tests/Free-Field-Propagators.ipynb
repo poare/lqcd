{
 "cells": [
  {
   "cell_type": "code",
   "execution_count": 19,
   "metadata": {},
   "outputs": [
    {
     "name": "stdout",
     "output_type": "stream",
     "text": [
      "The autoreload extension is already loaded. To reload it, use:\n",
      "  %reload_ext autoreload\n"
     ]
    }
   ],
   "source": [
    "%load_ext autoreload\n",
    "%autoreload 2\n",
    "%matplotlib notebook\n",
    "\n",
    "import numpy as np\n",
    "import matplotlib.pyplot as plt\n",
    "from scipy.optimize import root\n",
    "import h5py\n",
    "import os\n",
    "import itertools\n",
    "# from test_utils import *\n",
    "import test_utils\n",
    "from utils import *"
   ]
  },
  {
   "cell_type": "code",
   "execution_count": 21,
   "metadata": {},
   "outputs": [],
   "source": [
    "Lx, Lt = 4, 8\n",
    "# Lx, Lt = 2, 8\n",
    "L = Lattice(Lx, Lt)"
   ]
  },
  {
   "cell_type": "code",
   "execution_count": 28,
   "metadata": {},
   "outputs": [],
   "source": [
    "# test_file = '/Users/poare/Dropbox (MIT)/research/0nubb/tests/hdf5/free_field_qlua_clover.h5'\n",
    "test_file = '/Users/theoares/Dropbox (MIT)/research/0nubb/tests/hdf5/free_field_qlua_clover.h5'\n",
    "f1 = h5py.File(test_file, 'r')\n",
    "Sk1_clover = f1['prop_k1/q2200'][()]\n",
    "Sk2_clover = f1['prop_k2/q2200'][()]\n",
    "Sq_clover = np.einsum('ijab->aibj', f1['prop_q/q2200'][()])\n",
    "Sq_clover_b = np.expand_dims(Sq_clover, axis = 0)\n",
    "Sq_clover_inv = invert_props(Sq_clover_b, Nb = 1)"
   ]
  },
  {
   "cell_type": "code",
   "execution_count": 30,
   "metadata": {},
   "outputs": [],
   "source": [
    "# chroma_file = '/Users/poare/Dropbox (MIT)/research/0nubb/tests/hdf5/cfgEXAMPLE.h5'\n",
    "chroma_file = '/Users/theoares/Dropbox (MIT)/research/0nubb/tests/hdf5/cfgEXAMPLE.h5'\n",
    "f2 = h5py.File(chroma_file, 'r')\n",
    "Sk1_chroma = f2['prop_k1/q2200'][()]\n",
    "Sk2_chroma = f2['prop_k2/q2200'][()]\n",
    "Sq_chroma = f2['prop_q/q2200'][()]\n",
    "\n",
    "Sq_chroma = np.einsum('ijab->aibj', f2['prop_q/q2200'][()])\n",
    "Sq_chroma_b = np.expand_dims(Sq_chroma, axis = 0)\n",
    "Sq_chroma_inv = invert_props(Sq_chroma_b, Nb = 1)"
   ]
  },
  {
   "cell_type": "code",
   "execution_count": 47,
   "metadata": {},
   "outputs": [
    {
     "name": "stdout",
     "output_type": "stream",
     "text": [
      "clover\n",
      "(1.1668295954251867e-17+1.538274367229677e-17j)\n",
      "(-9.2741463525386e-19+4.263717749566398e-17j)\n",
      "1.9200068408580393e-17j\n",
      "(3.599284038483899e-17-4.592201113700867j)\n",
      "chroma dwf\n",
      "(-2.1676845257845203e-15+5.698504679299543e-16j)\n",
      "(-1.6122263652382782e-15+3.598416717898146e-16j)\n",
      "(-2.4689644148318934e-14-1.7053025658242404e-13j)\n",
      "(5.900304756778496e-06+5.4513126190825975e-15j)\n"
     ]
    }
   ],
   "source": [
    "# test Zq-- why is it so small for chroma output?\n",
    "bvec = np.array([0.0, 0.0, 0.0, 0.5], dtype = np.float32)\n",
    "k1 = np.array([-2, 0, 2, 0])\n",
    "k2 = np.array([0, 2, 2, 0])\n",
    "q = k2 - k1\n",
    "q_lat = np.sin(L.to_linear_momentum(q + bvec))\n",
    "print('clover')\n",
    "Zq_clover = quark_renorm(Sq_clover_inv, q_lat, Nb = 1)\n",
    "\n",
    "print('chroma dwf')\n",
    "Zq_chroma = quark_renorm(Sq_chroma_inv, q_lat, Nb = 1)"
   ]
  },
  {
   "cell_type": "code",
   "execution_count": 48,
   "metadata": {},
   "outputs": [
    {
     "data": {
      "text/plain": [
       "array([0.99999994+7.8378175e-18j], dtype=complex64)"
      ]
     },
     "execution_count": 48,
     "metadata": {},
     "output_type": "execute_result"
    }
   ],
   "source": [
    "Zq_clover"
   ]
  },
  {
   "cell_type": "code",
   "execution_count": 49,
   "metadata": {},
   "outputs": [
    {
     "data": {
      "text/plain": [
       "array([-1.1870804e-15+1.2848532e-06j], dtype=complex64)"
      ]
     },
     "execution_count": 49,
     "metadata": {},
     "output_type": "execute_result"
    }
   ],
   "source": [
    "Zq_chroma"
   ]
  },
  {
   "cell_type": "markdown",
   "metadata": {},
   "source": [
    "## Play around with free field output, written explicitly"
   ]
  },
  {
   "cell_type": "code",
   "execution_count": null,
   "metadata": {},
   "outputs": [],
   "source": [
    "# Load in the free field propagators\n",
    "job_num = 30558\n",
    "# job_num = 30562\n",
    "# k1 = np.array([-1, 0, 1, 0])\n",
    "# k2 = np.array([0, 1, 1, 0])\n",
    "k1 = np.array([-2, 0, 2, 0])\n",
    "k2 = np.array([0, 2, 2, 0])\n",
    "q = k2 - k1\n",
    "q_lat = np.sin(L.to_linear_momentum(q + bvec))\n",
    "qlat_slash = slash(q_lat)\n",
    "test_file = '/Users/theoares/Dropbox (MIT)/research/0nubb/meas/free_field_props_' + str(job_num) + '/free_field_props.h5'\n",
    "# test_file = '/Users/poare/Dropbox (MIT)/research/0nubb/tests/hdf5/free_field_qlua_clover.h5'\n",
    "prop_k1, prop_k2, prop_q = test_utils.read_propagators(test_file, L, q)"
   ]
  },
  {
   "cell_type": "code",
   "execution_count": null,
   "metadata": {},
   "outputs": [],
   "source": [
    "# Fourier transform and momentum project\n",
    "FTk1 = np.zeros((Lx, Lx, Lx, Lt), dtype = np.complex64)\n",
    "FTk2 = np.zeros((Lx, Lx, Lx, Lt), dtype = np.complex64)\n",
    "FTq = np.zeros((Lx, Lx, Lx, Lt), dtype = np.complex64)\n",
    "FTmq = np.zeros((Lx, Lx, Lx, Lt), dtype = np.complex64)\n",
    "FTm2q = np.zeros((Lx, Lx, Lx, Lt), dtype = np.complex64)\n",
    "for x, y, z in itertools.product(range(Lx), repeat = 3):\n",
    "    for t in range(Lt):\n",
    "        pos = np.array([x, y, z, t])\n",
    "        FTk1[x, y, z, t] = np.exp(2 * np.pi * 1j * np.dot(pos / LL, k1 + bvec))\n",
    "        FTk2[x, y, z, t] = np.exp(2 * np.pi * 1j * np.dot(pos / LL, k2 + bvec))\n",
    "        FTq[x, y, z, t] = np.exp(2 * np.pi * 1j * np.dot(pos / LL, q + bvec))\n",
    "        FTmq[x, y, z, t] = np.exp(2 * np.pi * 1j * np.dot(pos / LL, -q))\n",
    "        FTm2q[x, y, z, t] = np.exp(2 * np.pi * 1j * np.dot(pos / LL, -2 * q))"
   ]
  },
  {
   "cell_type": "code",
   "execution_count": null,
   "metadata": {},
   "outputs": [],
   "source": [
    "Sk1 = np.einsum('xyzt,xyzt...->...', FTk1, prop_k1) / V\n",
    "Sk2 = np.einsum('xyzt,xyzt...->...', FTk2, prop_k2) / V\n",
    "Sq = np.einsum('xyzt,xyzt...->...', FTq, prop_q) / V\n",
    "antiprop_k2 = np.einsum('ik,...akbl,lj->...aibj', gamma5, adjoint(prop_k2), gamma5)\n",
    "Sk1_inv = np.linalg.tensorinv(Sk1)\n",
    "Sk2_inv = np.linalg.tensorinv(Sk2)\n",
    "Sq_inv = np.linalg.tensorinv(Sq)"
   ]
  },
  {
   "cell_type": "markdown",
   "metadata": {},
   "source": [
    "## Verify that Zq, ZV, and ZA are all equal to 1 for the free field"
   ]
  },
  {
   "cell_type": "code",
   "execution_count": null,
   "metadata": {},
   "outputs": [],
   "source": [
    "# Verify Zq is 1\n",
    "Zq = (1j) * sum([q[mu] * np.einsum('ij,ajai', analysis.gamma[mu], Sq_inv) for mu in range(analysis.d)]) \\\n",
    "    / (12 * analysis.square(q))\n",
    "print(Zq)    # for free field, Zq must be 1."
   ]
  },
  {
   "cell_type": "code",
   "execution_count": null,
   "metadata": {},
   "outputs": [],
   "source": [
    "# Get and amputate three point functions\n",
    "GV = np.array([np.einsum('xyzt,xyztaick,kl,xyztclbj->aibj', FTmq, antiprop_k2, analysis.gamma[mu], prop_k1) for mu in range(4)]) / V\n",
    "GA = np.array([np.einsum('xyzt,xyztaick,km,ml,xyztclbj->aibj', FTmq, antiprop_k2, analysis.gamma[mu], analysis.gamma5, prop_k1) for mu in range(4)]) / V\n",
    "ΓV = np.array([np.einsum('aibj,bjck,ckdl->aidl', Sk2_inv, GV[mu], Sk1_inv) for mu in range(4)])\n",
    "ΓA = np.array([np.einsum('aibj,bjck,ckdl->aidl', Sk2_inv, GA[mu], Sk1_inv) for mu in range(4)])\n",
    "qΓV = np.einsum('m,maibj->aibj', q_lat, ΓV)\n",
    "qΓA = np.einsum('m,maibj->aibj', q_lat, ΓA)"
   ]
  },
  {
   "cell_type": "code",
   "execution_count": null,
   "metadata": {},
   "outputs": [],
   "source": [
    "# Verify axial and vector R.C.s are 1\n",
    "ZV = 12 * Zq * analysis.square(q_lat) / np.einsum('aiaj,ji->', qΓV, qlat_slash)\n",
    "ZA = 12 * Zq * analysis.square(q_lat) / np.einsum('aiaj,jk,ki->', qΓA, analysis.gamma5, qlat_slash)\n",
    "print(ZV)\n",
    "print(ZA)"
   ]
  },
  {
   "cell_type": "markdown",
   "metadata": {},
   "source": [
    "## Play around with the propagators and find some way to get the amputated 4 point function equal to its tree level value."
   ]
  },
  {
   "cell_type": "code",
   "execution_count": null,
   "metadata": {},
   "outputs": [],
   "source": [
    "# Confirm that I'm getting the right combinations of gamma matrices\n",
    "A = np.zeros((16, 4, 4, 4, 4, 3, 4, 3, 4), dtype = np.complex64)\n",
    "# An_contr = np.zeros((16, 4, 4, 4, 4, 3, 4, 3, 4), dtype = np.complex64)\n",
    "GO = np.zeros((16, 3, 4, 3, 4, 3, 4, 3, 4), dtype = np.complex64)\n",
    "ΓO = np.zeros((16, 3, 4, 3, 4, 3, 4, 3, 4), dtype = np.complex64)\n",
    "for n in range(16):\n",
    "    print(n)\n",
    "    A[n] = np.einsum('...aick,kl,...clbj->...aibj', antiprop_k2, analysis.gammaList[n], prop_k1)\n",
    "    An_contr = np.einsum('...ckdl,...aibj->...aibjckdl', A[n], A[n]) - np.einsum('...ckbj,...aidl->...aibjckdl', A[n], A[n])\n",
    "    GO[n] = 2 * np.einsum('xyzt,xyzt...->...', FTm2q, An_contr) / V    # TODO later try with no momentum\n",
    "    ΓO[n] = np.einsum('aiem,gobj,ckfn,hpdl,emgofnhp->aibjckdl', Sk2_inv, Sk1_inv, Sk2_inv, Sk1_inv, GO[n])  #z is n"
   ]
  },
  {
   "cell_type": "code",
   "execution_count": null,
   "metadata": {},
   "outputs": [],
   "source": [
    "# Use reverse gamma matrices that Phiala uses\n",
    "AR = np.zeros((16, 4, 4, 4, 4, 3, 4, 3, 4), dtype = np.complex64)\n",
    "# An_contrR = np.zeros((16, 4, 4, 4, 4, 3, 4, 3, 4), dtype = np.complex64)\n",
    "GOR = np.zeros((16, 3, 4, 3, 4, 3, 4, 3, 4), dtype = np.complex64)\n",
    "ΓOR = np.zeros((16, 3, 4, 3, 4, 3, 4, 3, 4), dtype = np.complex64)\n",
    "for n in range(16):\n",
    "    print(n)\n",
    "    AR[n] = np.einsum('...aick,kl,...clbj->...aibj', antiprop_k2, analysis.gammaListRev[n], prop_k1)\n",
    "    An_contrR = np.einsum('...ckdl,...aibj->...aibjckdl', AR[n], AR[n]) - np.einsum('...ckbj,...aidl->...aibjckdl', AR[n], AR[n])\n",
    "    GOR[n] = 2 * np.einsum('xyzt,xyzt...->...', FTm2q, An_contrR) / V    # TODO later try with no momentum\n",
    "    ΓOR[n] = np.einsum('aiem,gobj,ckfn,hpdl,emgofnhp->aibjckdl', Sk2_inv, Sk1_inv, Sk2_inv, Sk1_inv, GOR[n])  #z is n"
   ]
  },
  {
   "cell_type": "code",
   "execution_count": null,
   "metadata": {},
   "outputs": [],
   "source": [
    "for m in range(16):\n",
    "    if np.allclose(A[m], AR[m]):\n",
    "        print('n = ' + str(m) + ', +')\n",
    "    elif np.allclose(A[m], -AR[m]):\n",
    "        print('n = ' + str(m) + ', -')"
   ]
  },
  {
   "cell_type": "code",
   "execution_count": null,
   "metadata": {},
   "outputs": [],
   "source": [
    "for m in range(16):\n",
    "    if np.allclose(GO[m], GOR[m]):\n",
    "        print('n = ' + str(m) + ', +')\n",
    "    elif np.allclose(GO[m], -GOR[m]):\n",
    "        print('n = ' + str(m) + ', -')\n",
    "    else:\n",
    "        print('n = ' + str(m) + ', no match')"
   ]
  },
  {
   "cell_type": "code",
   "execution_count": null,
   "metadata": {},
   "outputs": [],
   "source": [
    "SS = ΓO[0]\n",
    "PP = ΓO[15]\n",
    "VV = ΓO[1] + ΓO[2] + ΓO[4] + ΓO[8]\n",
    "# AA = -ΓO[14] + ΓO[13] - ΓO[11] + ΓO[7]    # SOMETHING WRONG WITH AA\n",
    "# AA = -(ΓO[14] + ΓO[13] + ΓO[11] + ΓO[7])\n",
    "AA = ΓO[14] + ΓO[13] + ΓO[11] + ΓO[7]\n",
    "TT = (ΓO[3] + ΓO[5] + ΓO[6] + ΓO[9] + ΓO[10] + ΓO[12])\n",
    "\n",
    "# SS = ΓOR[0]\n",
    "# PP = ΓOR[15]\n",
    "# VV = ΓOR[1] + ΓOR[2] + ΓOR[4] + ΓOR[8]\n",
    "# AA = ΓOR[14] + ΓOR[13] + ΓOR[11] + ΓOR[7]\n",
    "# TT = (ΓOR[3] + ΓOR[5] + ΓOR[6] + ΓOR[9] + ΓOR[10] + ΓOR[12])\n",
    "\n",
    "eps = 1e-5\n",
    "SS[np.abs(SS) < eps] = 0\n",
    "PP[np.abs(PP) < eps] = 0\n",
    "VV[np.abs(VV) < eps] = 0\n",
    "AA[np.abs(AA) < eps] = 0\n",
    "TT[np.abs(TT) < eps] = 0\n",
    "# Gamma_D = np.einsum('aiajckcl->ijkl', Gamma)"
   ]
  },
  {
   "cell_type": "code",
   "execution_count": null,
   "metadata": {},
   "outputs": [],
   "source": [
    "# [a, i, b, j, c, k, d, l]\n",
    "# SS[:, 0, :, 0, :, 1, :, 1]"
   ]
  },
  {
   "cell_type": "code",
   "execution_count": null,
   "metadata": {},
   "outputs": [],
   "source": [
    "Gamma = [VV + AA, VV - AA, SS - PP, SS + PP, TT]\n",
    "P = analysis.projectors()\n",
    "Lambda = np.einsum('nbjaidlck,maibjckdl->mn', P, Gamma)\n",
    "F = analysis.getF()"
   ]
  },
  {
   "cell_type": "code",
   "execution_count": null,
   "metadata": {},
   "outputs": [],
   "source": [
    "print(F)"
   ]
  },
  {
   "cell_type": "code",
   "execution_count": null,
   "metadata": {},
   "outputs": [],
   "source": [
    "print(Lambda.astype(int))"
   ]
  },
  {
   "cell_type": "code",
   "execution_count": null,
   "metadata": {},
   "outputs": [],
   "source": [
    "for i in range(5):\n",
    "    print(np.einsum('nbjaidlck,aibjckdl->n', P, Gamma[i]))"
   ]
  },
  {
   "cell_type": "code",
   "execution_count": null,
   "metadata": {},
   "outputs": [],
   "source": [
    "print(Lambda)"
   ]
  },
  {
   "cell_type": "code",
   "execution_count": null,
   "metadata": {},
   "outputs": [],
   "source": [
    "print(Lambda.astype(int))    # note this truncates so some may be 1 less than in F"
   ]
  },
  {
   "cell_type": "code",
   "execution_count": null,
   "metadata": {},
   "outputs": [],
   "source": [
    "F"
   ]
  },
  {
   "cell_type": "code",
   "execution_count": null,
   "metadata": {
    "scrolled": false
   },
   "outputs": [],
   "source": [
    "# Check out what the VV and AA amputated 4-pt functions actually look like\n",
    "VV_ijkl = VV[0, :, 0, :, 1, :, 1, :]#.astype(int)\n",
    "AA_ijkl = AA[0, :, 0, :, 1, :, 1, :]#.astype(int)"
   ]
  },
  {
   "cell_type": "code",
   "execution_count": null,
   "metadata": {},
   "outputs": [],
   "source": [
    "print(np.allclose(2 * np.einsum('mij,mkl->ijkl', analysis.gamma, analysis.gamma), VV_ijkl))"
   ]
  },
  {
   "cell_type": "code",
   "execution_count": null,
   "metadata": {},
   "outputs": [],
   "source": [
    "gamGam5 = np.array([analysis.gamma[mu] @ analysis.gamma5 for mu in range(4)])\n",
    "print(np.allclose(2 * np.einsum('mij,mkl->ijkl', gamGam5, gamGam5), AA_ijkl))\n",
    "# 2 * np.einsum('mij,mkl->ijkl', gamGam5, gamGam5) == AA_ijkl.astype(int)"
   ]
  },
  {
   "cell_type": "code",
   "execution_count": null,
   "metadata": {},
   "outputs": [],
   "source": [
    "2 * np.einsum('mij,mkl->ijkl', gamGam5, gamGam5)"
   ]
  },
  {
   "cell_type": "code",
   "execution_count": null,
   "metadata": {},
   "outputs": [],
   "source": [
    "AA_ijkl"
   ]
  },
  {
   "cell_type": "markdown",
   "metadata": {},
   "source": [
    "## Compare with QLUA output. There seems to be a bug somewhere, since the 3-point functions don't match"
   ]
  },
  {
   "cell_type": "code",
   "execution_count": null,
   "metadata": {},
   "outputs": [],
   "source": [
    "# Saving mqFT2, A_Gamma, and the Green's function. Compare all of them to what this code outputs. \n",
    "# when everything here matches, I should be able to feed QLUA output into free_field.py and have it work\n",
    "qlua_jobnum = 30661\n",
    "qlua_out_file = '/Users/theoares/Dropbox (MIT)/research/0nubb/meas/'+'free_field_'+str(qlua_jobnum)+'/free_field.h5'\n",
    "fq = h5py.File(qlua_out_file, 'r')\n",
    "mqFT2 = fq['mqFT2'][()]\n",
    "A_gamma = np.einsum('...ijab->...aibj', np.array([fq['Agamma' + str(n)][()] for n in range(16)]))\n",
    "qlua_GO = np.einsum('nijklabcd->naibjckdl', np.array([fq['Gn' + str(n) + '/q1100'][()] for n in range(16)]))"
   ]
  },
  {
   "cell_type": "code",
   "execution_count": null,
   "metadata": {},
   "outputs": [],
   "source": [
    "# Compare FT factors from QLUA with Python\n",
    "# print(mqFT2)\n",
    "# print(FTm2q)\n",
    "print(np.allclose(mqFT2, FTm2q))"
   ]
  },
  {
   "cell_type": "code",
   "execution_count": null,
   "metadata": {},
   "outputs": [],
   "source": [
    "# Compare A_gamma output from QLUA and Python for some n.\n",
    "n = 3\n",
    "print(A_gamma[n])\n",
    "print(A[n])"
   ]
  },
  {
   "cell_type": "code",
   "execution_count": null,
   "metadata": {},
   "outputs": [],
   "source": [
    "# Compare QLUA GO output with Python GO output\n",
    "# print(qlua_GO[n])\n",
    "# print(GO[n])    # python output for GO at gamma = 3\n",
    "print(np.allclose(qlua_GO[n], GO[n]))\n",
    "print(np.allclose(np.einsum('aibjckdl->dlckbjai', qlua_GO[n]), GO[n]))"
   ]
  },
  {
   "cell_type": "code",
   "execution_count": null,
   "metadata": {},
   "outputs": [],
   "source": []
  }
 ],
 "metadata": {
  "kernelspec": {
   "display_name": "Python 3",
   "language": "python",
   "name": "python3"
  },
  "language_info": {
   "codemirror_mode": {
    "name": "ipython",
    "version": 3
   },
   "file_extension": ".py",
   "mimetype": "text/x-python",
   "name": "python",
   "nbconvert_exporter": "python",
   "pygments_lexer": "ipython3",
   "version": "3.7.1"
  },
  "latex_envs": {
   "LaTeX_envs_menu_present": true,
   "autocomplete": true,
   "bibliofile": "biblio.bib",
   "cite_by": "apalike",
   "current_citInitial": 1,
   "eqLabelWithNumbers": true,
   "eqNumInitial": 1,
   "hotkeys": {
    "equation": "Ctrl-E",
    "itemize": "Ctrl-I"
   },
   "labels_anchors": false,
   "latex_user_defs": false,
   "report_style_numbering": false,
   "user_envs_cfg": false
  }
 },
 "nbformat": 4,
 "nbformat_minor": 2
}
