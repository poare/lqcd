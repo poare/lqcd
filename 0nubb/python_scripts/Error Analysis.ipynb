{
 "cells": [
  {
   "cell_type": "code",
   "execution_count": 9,
   "metadata": {},
   "outputs": [
    {
     "name": "stdout",
     "output_type": "stream",
     "text": [
      "The autoreload extension is already loaded. To reload it, use:\n",
      "  %reload_ext autoreload\n"
     ]
    }
   ],
   "source": [
    "%load_ext autoreload\n",
    "%autoreload 2\n",
    "%matplotlib notebook\n",
    "\n",
    "import numpy as np\n",
    "import matplotlib.pyplot as plt\n",
    "from scipy.optimize import root\n",
    "import h5py\n",
    "import os\n",
    "import itertools\n",
    "from scipy.special import kn\n",
    "from scipy import optimize\n",
    "from utils import *"
   ]
  },
  {
   "cell_type": "markdown",
   "metadata": {},
   "source": [
    "## Read data"
   ]
  },
  {
   "cell_type": "code",
   "execution_count": 4,
   "metadata": {},
   "outputs": [],
   "source": [
    "fname = '/Users/theoares/Dropbox (MIT)/research/0nubb/analysis_output/24I/ml0p01/Z_gamma_error.h5'\n",
    "f = h5py.File(fname, 'r')\n",
    "Zq = np.real(f['Zq'][()][0])\n",
    "ZV = np.real(f['ZV'][()][0])\n",
    "ZA = np.real(f['ZA'][()][0])\n",
    "Z = np.zeros((len(Zq), 5, 5), dtype = np.float64)\n",
    "for i, j in itertools.product(range(5), repeat = 2):\n",
    "    key = 'Z' + str(i + 1) + str(j + 1)\n",
    "    Z[:, i, j] = np.real(f[key][()])"
   ]
  },
  {
   "cell_type": "code",
   "execution_count": 5,
   "metadata": {},
   "outputs": [
    {
     "name": "stdout",
     "output_type": "stream",
     "text": [
      "Zq = 1.127558 pm 0.028953278\n",
      "ZV = 0.71805817 pm 0.014095646\n",
      "ZA = 0.79719186 pm 0.017124178\n",
      "Z_ij = [[ 9.64706164e-01 -2.18588998e-01 -1.23463846e-01  7.20640275e-02\n",
      "   3.98792690e-02]\n",
      " [-1.88279639e-01  1.01624295e+00  5.96461819e-01 -8.07477519e-02\n",
      "  -2.55688741e-02]\n",
      " [ 1.21247992e-02  5.16378818e-02  2.53779943e-01  2.73579595e-01\n",
      "  -1.96878253e-02]\n",
      " [ 3.49224188e-02  1.84832388e-02  1.62866369e-01  3.80574795e-01\n",
      "  -1.93776556e-02]\n",
      " [ 3.72076840e-02  1.56135105e-03  4.35220132e-02 -7.67586708e-01\n",
      "   1.73294319e+00]] pm [[0.04524187 0.01996437 0.01160432 0.01030337 0.00883432]\n",
      " [0.018528   0.05257612 0.03268581 0.01309977 0.01472278]\n",
      " [0.01145325 0.02061155 0.02944939 0.04600564 0.03116078]\n",
      " [0.01292803 0.01580144 0.02486413 0.04789667 0.0329349 ]\n",
      " [0.00845991 0.00824655 0.00750805 0.04193483 0.08384164]]\n"
     ]
    }
   ],
   "source": [
    "print('Zq = ' + str(np.mean(Zq)) + ' pm ' + str(np.std(Zq, ddof = 1)))\n",
    "print('ZV = ' + str(np.mean(ZV)) + ' pm ' + str(np.std(ZV, ddof = 1)))\n",
    "print('ZA = ' + str(np.mean(ZA)) + ' pm ' + str(np.std(ZA, ddof = 1)))\n",
    "print('Z_ij = ' + str(np.mean(Z, axis = 0)) + ' pm ' + str(np.std(Z, ddof = 1, axis = 0)))"
   ]
  },
  {
   "cell_type": "code",
   "execution_count": 6,
   "metadata": {},
   "outputs": [
    {
     "name": "stdout",
     "output_type": "stream",
     "text": [
      "(27, 1)\n",
      "Z_11 = 0.9647061641399677 pm 0.045241871894796545\n",
      "\n",
      "(8, 8)\n",
      "Z_22 = 1.0162429488622224 pm 0.052576122486673454\n",
      "Z_23 = 0.596461818768428 pm 0.03268580532941133\n",
      "Z_32 = 0.05163788179365488 pm 0.020611549989190275\n",
      "Z_33 = 0.25377994317274827 pm 0.029449391502461734\n",
      "\n",
      "(6, bar{6})\n",
      "Z_44 = 0.3805747949160062 pm 0.04789666878858301\n",
      "Z_45 = -0.01937765559145751 pm 0.0329348964004576\n",
      "Z_54 = -0.7675867080688477 pm 0.041934827816143265\n",
      "Z_55 = 1.7329431863931508 pm 0.08384164253330548\n"
     ]
    }
   ],
   "source": [
    "# Extract components of Z_{ij} with operator mixing\n",
    "# Running effects seem to be much larger for the last 3 components than for the first 2, which could explain why the \n",
    "# first few are much closer to 1. I'm interested to see what happens when I run these to the matching point and \n",
    "# convert to MSbar, I expect they'll be closer to 1. (i.e. see Figures 7 - 10 in the Kaon mixing paper.)\n",
    "print('(27, 1)')\n",
    "print('Z_11 = ' + str(np.mean(Z[:, 0, 0])) + ' pm ' + str(np.std(Z[:, 0, 0], ddof = 1)))\n",
    "print('\\n(8, 8)')\n",
    "print('Z_22 = ' + str(np.mean(Z[:, 1, 1])) + ' pm ' + str(np.std(Z[:, 1, 1], ddof = 1)))\n",
    "print('Z_23 = ' + str(np.mean(Z[:, 1, 2])) + ' pm ' + str(np.std(Z[:, 1, 2], ddof = 1)))\n",
    "print('Z_32 = ' + str(np.mean(Z[:, 2, 1])) + ' pm ' + str(np.std(Z[:, 2, 1], ddof = 1)))\n",
    "print('Z_33 = ' + str(np.mean(Z[:, 2, 2])) + ' pm ' + str(np.std(Z[:, 2, 2], ddof = 1)))\n",
    "print('\\n(6, bar{6})')\n",
    "print('Z_44 = ' + str(np.mean(Z[:, 3, 3])) + ' pm ' + str(np.std(Z[:, 3, 3], ddof = 1)))\n",
    "print('Z_45 = ' + str(np.mean(Z[:, 3, 4])) + ' pm ' + str(np.std(Z[:, 3, 4], ddof = 1)))\n",
    "print('Z_54 = ' + str(np.mean(Z[:, 4, 3])) + ' pm ' + str(np.std(Z[:, 4, 3], ddof = 1)))\n",
    "print('Z_55 = ' + str(np.mean(Z[:, 4, 4])) + ' pm ' + str(np.std(Z[:, 4, 4], ddof = 1)))"
   ]
  },
  {
   "cell_type": "code",
   "execution_count": 12,
   "metadata": {},
   "outputs": [],
   "source": [
    "def get_std_range(data):\n",
    "    n_samples = len(data)\n",
    "    sample_range = range(2, len(data))\n",
    "    errors = np.zeros(len(sample_range), dtype = np.float64)\n",
    "    for idx, n in enumerate(sample_range):\n",
    "        subdata = data[:n]\n",
    "        subdata_boot = bootstrap(subdata, Nb = 10)\n",
    "        errors[idx] = np.std(subdata_boot, ddof = 1)\n",
    "    return errors"
   ]
  },
  {
   "cell_type": "code",
   "execution_count": 22,
   "metadata": {},
   "outputs": [
    {
     "name": "stdout",
     "output_type": "stream",
     "text": [
      "Error variation\n",
      "[0.00426734 0.00655951 0.00477323 0.0103822  0.00732325 0.0074208\n",
      " 0.01337164 0.01143453 0.00654077 0.00762282 0.00431678]\n",
      "\n",
      "Raw data for Zq\n",
      "[1.1463767 1.1571964 1.1320938 1.1418558 1.0829463 1.1042217 1.16459\n",
      " 1.0936686 1.1187632 1.0975311 1.143033  1.1054981 1.1704788]\n"
     ]
    }
   ],
   "source": [
    "Zq_std = get_std_range(Zq)\n",
    "print('Error variation')\n",
    "print(Zq_std)\n",
    "print('\\nRaw data for Zq')\n",
    "print(Zq)"
   ]
  },
  {
   "cell_type": "code",
   "execution_count": 20,
   "metadata": {},
   "outputs": [
    {
     "name": "stdout",
     "output_type": "stream",
     "text": [
      "Error variation\n",
      "[0.00987879 0.0193413  0.01554036 0.01714636 0.01229979 0.0144502\n",
      " 0.02198467 0.02020836 0.01150502 0.01210305 0.00703886]\n",
      "\n",
      "Raw data for Z11\n",
      "[1.00449467 1.02954197 0.95184058 0.97307116 0.89899749 0.91992623\n",
      " 1.03037477 0.91762978 0.94866258 0.92881095 1.01584899 0.93361229\n",
      " 0.98836869]\n"
     ]
    }
   ],
   "source": [
    "Z11_std = get_std_range(Z[:, 0, 0])\n",
    "print('Error variation')\n",
    "print(Z11_std)\n",
    "print('\\nRaw data for Z11')\n",
    "print(Z[:, 0, 0])"
   ]
  },
  {
   "cell_type": "code",
   "execution_count": 23,
   "metadata": {},
   "outputs": [
    {
     "name": "stdout",
     "output_type": "stream",
     "text": [
      "Error variation\n",
      "[0.02191894 0.032085   0.02281209 0.01976816 0.01490004 0.01942518\n",
      " 0.02438198 0.0253465  0.01624331 0.01129509 0.00902434]\n",
      "\n",
      "Raw data for Z22\n",
      "[1.04440701 1.09998167 0.97874707 1.02788234 0.94621605 0.95653564\n",
      " 1.10393548 0.97646785 1.00751805 0.96715873 1.04393137 0.99386007\n",
      " 1.06451702]\n"
     ]
    }
   ],
   "source": [
    "Z22_std = get_std_range(Z[:, 1, 1])\n",
    "print('Error variation')\n",
    "print(Z22_std)\n",
    "print('\\nRaw data for Z22')\n",
    "print(Z[:, 1, 1])"
   ]
  },
  {
   "cell_type": "code",
   "execution_count": null,
   "metadata": {},
   "outputs": [],
   "source": []
  }
 ],
 "metadata": {
  "kernelspec": {
   "display_name": "Python 3",
   "language": "python",
   "name": "python3"
  },
  "language_info": {
   "codemirror_mode": {
    "name": "ipython",
    "version": 3
   },
   "file_extension": ".py",
   "mimetype": "text/x-python",
   "name": "python",
   "nbconvert_exporter": "python",
   "pygments_lexer": "ipython3",
   "version": "3.7.1"
  },
  "latex_envs": {
   "LaTeX_envs_menu_present": true,
   "autocomplete": true,
   "bibliofile": "biblio.bib",
   "cite_by": "apalike",
   "current_citInitial": 1,
   "eqLabelWithNumbers": true,
   "eqNumInitial": 1,
   "hotkeys": {
    "equation": "Ctrl-E",
    "itemize": "Ctrl-I"
   },
   "labels_anchors": false,
   "latex_user_defs": false,
   "report_style_numbering": false,
   "user_envs_cfg": false
  }
 },
 "nbformat": 4,
 "nbformat_minor": 2
}
