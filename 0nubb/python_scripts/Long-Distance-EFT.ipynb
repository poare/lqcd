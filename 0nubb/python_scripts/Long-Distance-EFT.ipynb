{
 "cells": [
  {
   "cell_type": "code",
   "execution_count": 1,
   "id": "45e52333",
   "metadata": {},
   "outputs": [],
   "source": [
    "import numpy as np\n",
    "import seaborn as sns\n",
    "import matplotlib.pyplot as plt\n",
    "import h5py\n",
    "import os\n",
    "import itertools\n",
    "import pandas as pd\n",
    "import gvar as gv\n",
    "from importlib import reload\n",
    "\n",
    "# Patrick imports\n",
    "from utils import *\n",
    "import sys\n",
    "sys.path.append('/Users/theoares/lqcd/utilities')\n",
    "from fittools import *\n",
    "from formattools import *\n",
    "import plottools as pt\n",
    "\n",
    "style = styles['talk']\n",
    "\n",
    "pt.set_font()"
   ]
  },
  {
   "cell_type": "markdown",
   "id": "046fdd05",
   "metadata": {},
   "source": [
    "#### Input parameters"
   ]
  },
  {
   "cell_type": "code",
   "execution_count": 2,
   "id": "99c65d73",
   "metadata": {},
   "outputs": [],
   "source": [
    "paper = 'hex-dibaryon'\n",
    "# paper = 'physical'\n",
    "# paper = 'variational'         # paper to use input from"
   ]
  },
  {
   "cell_type": "code",
   "execution_count": 3,
   "id": "ed581353",
   "metadata": {},
   "outputs": [],
   "source": [
    "# M0v  = 0.02155\n",
    "M0v   = 0.026479                 # our input, depending on the fit (GeV^2).\n",
    "ZV    = 0.802                    # vector renormalization.\n",
    "L, T  = 32, 48                   # lattice size\n",
    "mpi   = 0.806                    # GeV\n",
    "gA    = gv.gvar('1.13(7)')       # axial coupling\n",
    "\n",
    "# Unit conversions\n",
    "hbarc = .197327                  # GeV*fm\n",
    "def fm_to_GeV(a):\n",
    "    return a / hbarc\n",
    "def to_mpi_units(mass_GeV):\n",
    "    \"\"\"Converts a mass in GeV (mass_GeV) to mpi = 1 units.\"\"\"\n",
    "    return mass_GeV / mpi\n",
    "def to_GeV(mass_Mpi):\n",
    "    \"\"\"Converts a mass in mpi = 1 units (mass_Mpi) to GeV.\"\"\"\n",
    "    return mass_Mpi * mpi"
   ]
  },
  {
   "cell_type": "code",
   "execution_count": 4,
   "id": "8c991593",
   "metadata": {},
   "outputs": [],
   "source": [
    "# Paper-specific inputs (physical units)\n",
    "a_lat = {\n",
    "    'variational'  : gv.gvar('0.1453(16)'),\n",
    "    'hex-dibaryon' : gv.gvar('0.1453(16)'),\n",
    "    'physical'     : -1,\n",
    "}[paper]                     # lattice spacing (fm)\n",
    "ainv_gev = {\n",
    "    'variational'  : -1,\n",
    "    'hex-dibaryon' : gv.gvar('0.44(9)') * hbarc,          # Eq. (19) in hex-dibaryon\n",
    "    'physical'     : -1,\n",
    "}[paper]                     # inverse SCATTERING LENGTH (GeV)\n",
    "ainv_mpi = {\n",
    "    'variational'  : gv.gvar('-0.0789(480)'),\n",
    "    'hex-dibaryon' : to_mpi_units(ainv_gev),\n",
    "    'physical'     : -1,\n",
    "}[paper]                     # inverse SCATTERING LENGTH (mpi = 1 units)\n",
    "r_fm = {\n",
    "    'variational'  : -1,\n",
    "    'hex-dibaryon' : gv.gvar('1.04(21)'),                 # Eq. (19) in hex-dibaryon\n",
    "    'physical'     : -1,\n",
    "}[paper]                     # effective range (GeV)\n",
    "r_mpi = {\n",
    "    'variational'  : gv.gvar('4.34(2.24)'),\n",
    "    'hex-dibaryon' : r_fm / hbarc * mpi,\n",
    "    'physical'     : -1,\n",
    "}[paper]                     # effective range (mpi = 1 units). Note the sdev might be 1/2 of this\n",
    "mN_lat = {\n",
    "    'variational'  : -1,\n",
    "    'hex-dibaryon' : gv.gvar('1.2025(8)'),                # page 11 in hex-dibaryon\n",
    "    'physical'     : -1,\n",
    "}[paper]                     # nucleon mass (MeV). This is M in Zohreh's paper.\n",
    "mN   = {\n",
    "    'variational'  : gv.gvar('1.636(18)'),\n",
    "    'hex-dibaryon' : mN_lat * (hbarc / a_lat),\n",
    "    'physical'     : -1,\n",
    "}[paper]                     # nucleon mass (MeV). This is M in Zohreh's paper.\n",
    "delta_mNN = {\n",
    "    'variational'  : gv.gvar('-3.33(68)') / 1000.0,\n",
    "    'hex-dibaryon' : gv.gvar('20.6(3.3)') / 1000.0,        # Eq. (25) in hex-dibaryon\n",
    "    'physical'     : -1,\n",
    "}[paper]                     # dinucleon energy shift (GeV). Equals E in Zohreh's paper\n",
    "# mNN  = {\n",
    "#     'variational'  : -1,\n",
    "#     'hex-dibaryon' : -1,\n",
    "#     'physical'     : -1,\n",
    "# }[paper]                     # dinucleon mass (GeV).\n",
    "mNN = 2*mN + delta_mNN        # dinucleon mass (GeV).\n",
    "mu = 0.770                    # physical rho mass (GeV) "
   ]
  },
  {
   "cell_type": "code",
   "execution_count": 67,
   "id": "ee29dd8e",
   "metadata": {},
   "outputs": [],
   "source": [
    "# class ComplexGVar:\n",
    "    \n",
    "#     def __init__(self, re, im):\n",
    "#         self.data = np.array([gv.gvar(re), gv.gvar(im)], dtype = object)\n",
    "#     def __add__(self, y):\n",
    "#         return ComplexGVar(self.data[0] + y.data[0], self.data[1] + y.data[1])\n",
    "# add not working..."
   ]
  },
  {
   "cell_type": "code",
   "execution_count": 10,
   "id": "727fe642",
   "metadata": {},
   "outputs": [],
   "source": [
    "# convert nucleon masses to Mpi = 1 units\n",
    "mN_mpi = to_mpi_units(mN)\n",
    "mNN_mpi = to_mpi_units(mNN)\n",
    "delta_mNN_mpi = to_mpi_units(delta_mNN)"
   ]
  },
  {
   "cell_type": "code",
   "execution_count": 73,
   "id": "fcc8e1c7",
   "metadata": {},
   "outputs": [],
   "source": [
    "p = gv.sqrt(mN_mpi * gv.abs(delta_mNN))                  # Mpi = 1 units\n",
    "pcotd = -ainv_mpi + (r_mpi * (p**2)) / 2         # Mpi = 1 units\n",
    "M_LO_re = -(4*np.pi/mN_mpi) * ainv_mpi / (ainv_mpi**2 + p**2)\n",
    "M_LO_im = (4*np.pi/mN_mpi) * p / (ainv_mpi**2 + p**2)"
   ]
  },
  {
   "cell_type": "code",
   "execution_count": 74,
   "id": "b6567b45",
   "metadata": {},
   "outputs": [
    {
     "data": {
      "text/plain": [
       "0.0822(84)"
      ]
     },
     "execution_count": 74,
     "metadata": {},
     "output_type": "execute_result"
    }
   ],
   "source": [
    "p"
   ]
  },
  {
   "cell_type": "code",
   "execution_count": 75,
   "id": "2af75c15",
   "metadata": {},
   "outputs": [
    {
     "data": {
      "text/plain": [
       "-0.00333(68)"
      ]
     },
     "execution_count": 75,
     "metadata": {},
     "output_type": "execute_result"
    }
   ],
   "source": [
    "delta_mNN"
   ]
  },
  {
   "cell_type": "markdown",
   "id": "d8285f2b",
   "metadata": {},
   "source": [
    "#### Shift $\\delta J$"
   ]
  },
  {
   "cell_type": "code",
   "execution_count": null,
   "id": "ab03be57",
   "metadata": {},
   "outputs": [],
   "source": [
    "# Value of deltaJ computed by Anthony, to be implemented and cross-checked later\n",
    "# Note that one of hex-dibaryon or physical is incorrect.\n",
    "dJ = {\n",
    "    'variational'  : -366.5923642228772,\n",
    "    'hex-dibaryon' : -4100.476281523836,\n",
    "    'physical'     : -4100.476281523836,\n",
    "}[paper]"
   ]
  },
  {
   "cell_type": "code",
   "execution_count": null,
   "id": "b1333d9e",
   "metadata": {},
   "outputs": [],
   "source": []
  }
 ],
 "metadata": {
  "kernelspec": {
   "display_name": "Python 3 (ipykernel)",
   "language": "python",
   "name": "python3"
  },
  "language_info": {
   "codemirror_mode": {
    "name": "ipython",
    "version": 3
   },
   "file_extension": ".py",
   "mimetype": "text/x-python",
   "name": "python",
   "nbconvert_exporter": "python",
   "pygments_lexer": "ipython3",
   "version": "3.10.2"
  }
 },
 "nbformat": 4,
 "nbformat_minor": 5
}
