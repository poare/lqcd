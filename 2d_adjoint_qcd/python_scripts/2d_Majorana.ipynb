{
 "cells": [
  {
   "cell_type": "markdown",
   "id": "b35e8b11",
   "metadata": {},
   "source": [
    "Majorana fermions suffer from a sign problem and are difficult to compute naively on the lattice. We will use some previous work to try to implement a Majorana fermion in $(1+1)d$, with the future goal of trying to simulate 2d adjoint QCD on the lattice (and specifically a variant of 2d adjoint QCD with 4-fermion deformations as given in https://arxiv.org/abs/1908.09858). "
   ]
  },
  {
   "cell_type": "markdown",
   "id": "92690cea",
   "metadata": {},
   "source": [
    "### The Pfaffian"
   ]
  },
  {
   "cell_type": "markdown",
   "id": "d9d0d386",
   "metadata": {},
   "source": [
    "The sign problem in the Majorana fermion enters through the fermion Pfaffian. Expanding the action as a fermionic part and a bosonic part yields,\n",
    "\\begin{equation}\n",
    "    S[U, \\psi] = S_g[U] + \\int d^2x\\, d^2 y \\psi^T(x)\\mathcal D(x, y) \\psi(y)\n",
    "\\end{equation}\n",
    "where $\\mathcal D(x, y)$ is the Dirac operator (this will be discussed later). Integrating this quadratic Majorana fermion action results in a Pfaffian of the Dirac operator\n",
    "\\begin{equation}\n",
    "    \\mathcal Z = \\int DU \\, D\\psi \\, e^{-S_g[U] - \\int \\psi^T\\mathcal D \\psi} = \\int DU\\, \\mathrm{Pf}(\\mathcal D)\\, e^{-S_g[U]}.\n",
    "\\end{equation}"
   ]
  },
  {
   "cell_type": "markdown",
   "id": "400fa50d",
   "metadata": {},
   "source": [
    "### Sign problems"
   ]
  },
  {
   "cell_type": "markdown",
   "id": "8459f2cb",
   "metadata": {},
   "source": [
    "Incorporating the Pfaffian into an effective action will require the use of the identity\n",
    "\\begin{equation}\n",
    "    |\\mathrm{Pf}[\\mathcal D]| = |\\det\\mathcal D|^{1/2} = (\\det [\\mathcal D^\\dagger \\mathcal D])^{1/4} \\propto \\int D\\Phi D\\Phi^\\dagger \\exp \\left[ -\\Phi^\\dagger (\\mathcal D^\\dagger \\mathcal D)^{-1/4} \\Phi \\right].\n",
    "\\end{equation}\n",
    "where here $\\Phi$ and $\\Phi^\\dagger$ are bosonic pseudofermion fields. The assumption here that $|\\mathrm{Pf}[\\mathcal D]| = \\mathrm{Pf}[\\mathcal D]$ is not in general correct, and the Pfaffian can have an arbitrary phase \n",
    "\\begin{equation}\n",
    "    \\mathrm{Pf}[\\mathcal D[U]] = e^{i\\alpha[U]} |\\mathrm{Pf}[\\mathcal D[U]]|\n",
    "\\end{equation}\n",
    "where $\\alpha[U]$ is the phase associated with the configuration $U$. One can deal with the possibility of non-zero phase by reweighting, which absorbs the phase into the denominator. The idea is to define the \\textbf{phase-quenched path integral} as\n",
    "\\begin{align}\n",
    "    \\langle \\mathcal O \\rangle_{pq} \\equiv \\frac{1}{\\mathcal Z_{pq}}\\int DU\\, |\\mathrm{Pf}[\\mathcal D[U]]| e^{-S_g[U]} \\mathcal O && \n",
    "    \\mathcal Z_{pq} \\equiv \\int DU\\, |\\mathrm{Pf}[\\mathcal D[U]]| e^{-S_g[U]},\n",
    "\\end{align}\n",
    "i.e. we use the norm of the Pfaffian instead of the complex Pfaffian. With this phase quenching, one can then evaluate a correlator as:\n",
    "\\begin{equation}\n",
    "    \\langle\\mathcal O \\rangle = \\frac{\\langle \\mathcal O e^{i\\alpha} \\rangle_{pq}}{\\langle e^{i\\alpha} \\rangle_{pq}}\n",
    "\\end{equation}\n",
    "The key here is to measure $\\langle e^{i\\alpha}\\rangle_{pq}$ and make sure it never gets close to zero; if it does, the theory will have a sign problem!"
   ]
  },
  {
   "cell_type": "markdown",
   "id": "2ace1f0f",
   "metadata": {},
   "source": [
    "### RHMC"
   ]
  },
  {
   "cell_type": "markdown",
   "id": "211b294c",
   "metadata": {},
   "source": [
    "A lot of key details can be found in David Schaich and Tom DeGrand's article discussing their software package, `SUSY LATTICE`. \n",
    "\n",
    "To generate gauge field configurations, it looks like most approaches use rational Hamiltonian Monte Carlo (RHMC) because of the $(\\cdot)^{-1/4}$ in the pseudofermion action."
   ]
  },
  {
   "cell_type": "code",
   "execution_count": 1,
   "id": "52da0218",
   "metadata": {},
   "outputs": [],
   "source": [
    "import os\n",
    "import sys\n",
    "from time import time\n",
    "import numpy as np\n",
    "import matplotlib.pyplot as plt\n",
    "import h5py\n",
    "import seaborn as sns\n",
    "\n",
    "from importlib import reload\n",
    "\n",
    "sys.path.append('/Users/theoares/lqcd/utilities')\n",
    "import plottools as pt\n",
    "from formattools import *\n",
    "default_style = styles['notebook']\n",
    "pt.set_font()"
   ]
  },
  {
   "cell_type": "code",
   "execution_count": null,
   "id": "a7f7c1bd",
   "metadata": {},
   "outputs": [],
   "source": []
  }
 ],
 "metadata": {
  "kernelspec": {
   "display_name": "Python 3 (ipykernel)",
   "language": "python",
   "name": "python3"
  },
  "language_info": {
   "codemirror_mode": {
    "name": "ipython",
    "version": 3
   },
   "file_extension": ".py",
   "mimetype": "text/x-python",
   "name": "python",
   "nbconvert_exporter": "python",
   "pygments_lexer": "ipython3",
   "version": "3.10.2"
  },
  "latex_envs": {
   "LaTeX_envs_menu_present": true,
   "autocomplete": true,
   "bibliofile": "biblio.bib",
   "cite_by": "apalike",
   "current_citInitial": 1,
   "eqLabelWithNumbers": true,
   "eqNumInitial": 1,
   "hotkeys": {
    "equation": "Ctrl-E",
    "itemize": "Ctrl-I"
   },
   "labels_anchors": false,
   "latex_user_defs": false,
   "report_style_numbering": false,
   "user_envs_cfg": false
  }
 },
 "nbformat": 4,
 "nbformat_minor": 5
}
