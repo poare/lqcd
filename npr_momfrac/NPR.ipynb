{
 "cells": [
  {
   "cell_type": "code",
   "execution_count": 2,
   "metadata": {},
   "outputs": [],
   "source": [
    "%load_ext autoreload\n",
    "%autoreload 2\n",
    "%matplotlib notebook\n",
    "\n",
    "import numpy as np\n",
    "import matplotlib.pyplot as plt\n",
    "from scipy.optimize import root\n",
    "import h5py\n",
    "import os\n",
    "import analysis"
   ]
  },
  {
   "cell_type": "code",
   "execution_count": 23,
   "metadata": {},
   "outputs": [
    {
     "name": "stdout",
     "output_type": "stream",
     "text": [
      "[[[[ 40.75682568-2.17603713e-14j -34.07098343-3.89333635e+01j\n",
      "     10.82407337+1.21803648e+01j]\n",
      "   [-34.07098343+3.89333635e+01j -17.36664627+6.85562718e-14j\n",
      "     23.93375786+2.74552122e+01j]\n",
      "   [ 10.82407337-1.21803648e+01j  23.93375786-2.74552122e+01j\n",
      "    -43.37965258+4.52970994e-14j]]\n",
      "\n",
      "  [[ -5.87440116+1.22377143e+01j  -1.35803774-1.51381249e+01j\n",
      "      8.12510658-2.94094214e+00j]\n",
      "   [  1.48967914-1.18129039e+01j  -3.31247993-2.65941218e-01j\n",
      "     11.48148828+1.03190524e+01j]\n",
      "   [ -7.25097818+1.74410008e+01j   4.62480807+1.46160315e+01j\n",
      "      6.25556299+3.87468361e+00j]]\n",
      "\n",
      "  [[ 53.79273524-1.28788254e+01j  12.76996792+7.56097099e+00j\n",
      "     55.65204136+7.69313892e-01j]\n",
      "   [-22.98583055-2.43630954e+01j -47.07607337-1.61170374e+01j\n",
      "     31.13492369+2.15512313e+01j]\n",
      "   [-13.51517698+1.48049568e+01j -13.12711345+2.34752471e+01j\n",
      "     -8.32875158-2.57266715e+01j]]\n",
      "\n",
      "  [[ -1.78481235-2.84926107e+01j   6.76811564-1.89656240e+01j\n",
      "     11.92828892+5.87329258e+00j]\n",
      "   [  1.31872961-3.18838498e+01j  -7.27903743-1.86704934e+01j\n",
      "     -1.56836667-1.11817002e+01j]\n",
      "   [ -1.51106984-2.00047520e+01j  22.93081584+2.75611925e+00j\n",
      "    -13.27878901+8.85496288e+00j]]]\n",
      "\n",
      "\n",
      " [[[ -5.87440116-1.22377143e+01j   1.48967914+1.18129039e+01j\n",
      "     -7.25097818-1.74410008e+01j]\n",
      "   [ -1.35803774+1.51381249e+01j  -3.31247993+2.65941218e-01j\n",
      "      4.62480807-1.46160315e+01j]\n",
      "   [  8.12510658+2.94094214e+00j  11.48148828-1.03190524e+01j\n",
      "      6.25556299-3.87468361e+00j]]\n",
      "\n",
      "  [[ 30.24779894+7.18869408e-14j -30.87972067-3.05249131e+01j\n",
      "      3.66646236+9.01115876e+00j]\n",
      "   [-30.87972067+3.05249131e+01j -21.28565793-1.08635323e-13j\n",
      "     10.5446909 +4.00921390e+01j]\n",
      "   [  3.66646236-9.01115876e+00j  10.5446909 -4.00921390e+01j\n",
      "    -14.83596415+1.94066985e-13j]]\n",
      "\n",
      "  [[  0.48279554+2.45860213e+01j  -2.30561996+3.09584454e+01j\n",
      "     -2.31708515+2.90239209e+01j]\n",
      "   [ 10.72347102+1.83162991e+01j  -7.22997203+1.95830077e+01j\n",
      "     13.60919357-1.57728897e+01j]\n",
      "   [  6.19568271-8.88998049e-01j   5.63616159+6.28684013e+00j\n",
      "    -21.12782267+6.64976931e+00j]]\n",
      "\n",
      "  [[-46.53315385-5.25949370e+00j  18.76868807-2.83302927e+01j\n",
      "     16.24274734+2.75502554e+01j]\n",
      "   [ -1.50950018+1.84806340e+01j  46.00351389-2.72094258e+01j\n",
      "     10.00656629+2.56071710e+01j]\n",
      "   [-63.13038297+9.65517702e+00j -29.51381755+2.86353300e+01j\n",
      "     12.09594113-2.50940709e+01j]]]\n",
      "\n",
      "\n",
      " [[[-53.79273524-1.28788254e+01j  22.98583055-2.43630954e+01j\n",
      "     13.51517698+1.48049568e+01j]\n",
      "   [-12.76996792+7.56097099e+00j  47.07607337-1.61170374e+01j\n",
      "     13.12711345+2.34752471e+01j]\n",
      "   [-55.65204136+7.69313892e-01j -31.13492369+2.15512313e+01j\n",
      "      8.32875158-2.57266715e+01j]]\n",
      "\n",
      "  [[ -0.48279554+2.45860213e+01j -10.72347102+1.83162991e+01j\n",
      "     -6.19568271-8.88998049e-01j]\n",
      "   [  2.30561996+3.09584454e+01j   7.22997203+1.95830077e+01j\n",
      "     -5.63616159+6.28684013e+00j]\n",
      "   [  2.31708515+2.90239209e+01j -13.60919357-1.57728897e+01j\n",
      "     21.12782267+6.64976931e+00j]]\n",
      "\n",
      "  [[ 38.53280322-9.47575352e-14j -43.43197731-4.03055323e+01j\n",
      "     17.66397233+1.63497979e+01j]\n",
      "   [-43.43197731+4.03055323e+01j -16.53012607-1.49880108e-14j\n",
      "     20.96333488+3.41187660e+01j]\n",
      "   [ 17.66397233-1.63497979e+01j  20.96333488-3.41187660e+01j\n",
      "    -25.64753928+6.36157793e-14j]]\n",
      "\n",
      "  [[  5.84737559-3.40966406e-01j   2.94101723-1.45196811e+01j\n",
      "     10.54793283-1.28050345e+01j]\n",
      "   [ -2.30933566+7.50114088e+00j -10.00813614-5.04565697e+00j\n",
      "     -5.90406575+4.91462386e+00j]\n",
      "   [ 16.59422145-1.69995447e+01j -18.80827637-1.42662987e+01j\n",
      "      5.75779771+4.12056358e+00j]]]\n",
      "\n",
      "\n",
      " [[[  1.78481235-2.84926107e+01j  -1.31872961-3.18838498e+01j\n",
      "      1.51106984-2.00047520e+01j]\n",
      "   [ -6.76811564-1.89656240e+01j   7.27903743-1.86704934e+01j\n",
      "    -22.93081584+2.75611925e+00j]\n",
      "   [-11.92828892+5.87329258e+00j   1.56836667-1.11817002e+01j\n",
      "     13.27878901+8.85496288e+00j]]\n",
      "\n",
      "  [[ 46.53315385-5.25949370e+00j   1.50950018+1.84806340e+01j\n",
      "     63.13038297+9.65517702e+00j]\n",
      "   [-18.76868807-2.83302927e+01j -46.00351389-2.72094258e+01j\n",
      "     29.51381755+2.86353300e+01j]\n",
      "   [-16.24274734+2.75502554e+01j -10.00656629+2.56071710e+01j\n",
      "    -12.09594113-2.50940709e+01j]]\n",
      "\n",
      "  [[  5.84737559+3.40966406e-01j  -2.30933566-7.50114088e+00j\n",
      "     16.59422145+1.69995447e+01j]\n",
      "   [  2.94101723+1.45196811e+01j -10.00813614+5.04565697e+00j\n",
      "    -18.80827637+1.42662987e+01j]\n",
      "   [ 10.54793283+1.28050345e+01j  -5.90406575-4.91462386e+00j\n",
      "      5.75779771-4.12056358e+00j]]\n",
      "\n",
      "  [[ 40.04821576+6.19504448e-14j -22.94528886-3.43985158e+01j\n",
      "      0.2934336 +6.81882056e+00j]\n",
      "   [-22.94528886+3.43985158e+01j -17.79561732-7.43849426e-15j\n",
      "      9.44490252+3.35255201e+01j]\n",
      "   [  0.2934336 -6.81882056e+00j   9.44490252-3.35255201e+01j\n",
      "    -35.49098111-4.19664303e-14j]]]]\n"
     ]
    }
   ],
   "source": [
    "file = '/Users/theoares/lqcd/npr_momfrac/testing/output/cl3_16_48_b6p1_m0p2450_14432/cfg200.h5'\n",
    "f = h5py.File(file, 'r')\n",
    "propprime_p2222 = f['propprime/p2222'][()]\n",
    "prop_p2222 = f['prop/p2222'][()]\n",
    "delta = prop_p2222 - propprime_p2222\n",
    "print(delta)"
   ]
  },
  {
   "cell_type": "code",
   "execution_count": 3,
   "metadata": {},
   "outputs": [],
   "source": [
    "cfgbase = 'cl3_16_48_b6p1_m0p2450'\n",
    "# job_num = 13561\n",
    "job_num = 14432\n",
    "base = './output/' + cfgbase + '_' + str(job_num)\n",
    "\n",
    "props, threepts = analysis.readfile(base)    # C should be a dictionary whose keys are the momentum slices."
   ]
  },
  {
   "cell_type": "code",
   "execution_count": null,
   "metadata": {},
   "outputs": [],
   "source": [
    "mom_list = analysis.get_mom_list()\n",
    "props_boot = analysis.bootstrap(props)\n",
    "threept_boot = analysis.bootstrap(threepts)"
   ]
  },
  {
   "cell_type": "code",
   "execution_count": null,
   "metadata": {},
   "outputs": [],
   "source": [
    "props_inv = analysis.invert_prop(props_boot)"
   ]
  },
  {
   "cell_type": "code",
   "execution_count": null,
   "metadata": {},
   "outputs": [],
   "source": [
    "Γ = analysis.amputate(props_inv, threept_boot)"
   ]
  },
  {
   "cell_type": "code",
   "execution_count": null,
   "metadata": {},
   "outputs": [],
   "source": [
    "Zq = analysis.quark_renorm(props_inv)"
   ]
  },
  {
   "cell_type": "code",
   "execution_count": null,
   "metadata": {},
   "outputs": [],
   "source": [
    "props_boot['p2222'][0][0][0, :, 0, :]"
   ]
  },
  {
   "cell_type": "code",
   "execution_count": null,
   "metadata": {},
   "outputs": [],
   "source": [
    "props_inv['p2222'][0][0][0, :, 0, :]"
   ]
  },
  {
   "cell_type": "code",
   "execution_count": null,
   "metadata": {},
   "outputs": [],
   "source": [
    "Γ_B, Γ_B_inv = analysis.born_term()"
   ]
  },
  {
   "cell_type": "code",
   "execution_count": null,
   "metadata": {
    "scrolled": false
   },
   "outputs": [],
   "source": [
    "Z = analysis.get_Z(Zq, Γ, Γ_B_inv)"
   ]
  },
  {
   "cell_type": "code",
   "execution_count": null,
   "metadata": {},
   "outputs": [],
   "source": [
    "μ, σ = analysis.get_statistics_Z(Z)"
   ]
  },
  {
   "cell_type": "code",
   "execution_count": null,
   "metadata": {},
   "outputs": [],
   "source": [
    "p_squared = [analysis.norm(p) ** 2 for p in mom_list]\n",
    "μ_list = [μ[analysis.plist_to_string(p)] for p in mom_list]\n",
    "σ_list = [σ[analysis.plist_to_string(p)] for p in mom_list]\n",
    "plt.figure()\n",
    "plt.errorbar(p_squared, np.abs(μ_list), yerr = np.abs(σ_list))\n",
    "plt.ylabel('Z(p)')\n",
    "plt.xlabel('$p^2$')\n",
    "plt.show()"
   ]
  },
  {
   "cell_type": "code",
   "execution_count": null,
   "metadata": {},
   "outputs": [],
   "source": []
  }
 ],
 "metadata": {
  "kernelspec": {
   "display_name": "Python 3",
   "language": "python",
   "name": "python3"
  },
  "language_info": {
   "codemirror_mode": {
    "name": "ipython",
    "version": 3
   },
   "file_extension": ".py",
   "mimetype": "text/x-python",
   "name": "python",
   "nbconvert_exporter": "python",
   "pygments_lexer": "ipython3",
   "version": "3.7.1"
  },
  "latex_envs": {
   "LaTeX_envs_menu_present": true,
   "autocomplete": true,
   "bibliofile": "biblio.bib",
   "cite_by": "apalike",
   "current_citInitial": 1,
   "eqLabelWithNumbers": true,
   "eqNumInitial": 1,
   "hotkeys": {
    "equation": "Ctrl-E",
    "itemize": "Ctrl-I"
   },
   "labels_anchors": false,
   "latex_user_defs": false,
   "report_style_numbering": false,
   "user_envs_cfg": false
  }
 },
 "nbformat": 4,
 "nbformat_minor": 2
}
