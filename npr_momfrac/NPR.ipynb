{
 "cells": [
  {
   "cell_type": "code",
   "execution_count": 1,
   "metadata": {},
   "outputs": [],
   "source": [
    "%load_ext autoreload\n",
    "%autoreload 2\n",
    "%matplotlib notebook\n",
    "\n",
    "import numpy as np\n",
    "import matplotlib.pyplot as plt\n",
    "from scipy.optimize import root\n",
    "import h5py\n",
    "import os\n",
    "import analysis"
   ]
  },
  {
   "cell_type": "code",
   "execution_count": null,
   "metadata": {},
   "outputs": [],
   "source": [
    "# # Run to determine the difference in observables after gauge transformation.\n",
    "# file = '/Users/theoares/lqcd/npr_momfrac/testing/output/cl3_16_48_b6p1_m0p2450_14503/cfg200.h5'\n",
    "# f = h5py.File(file, 'r')\n",
    "# propprime_p2222 = f['propprime/p2222/cfg200'][()]\n",
    "# prop_p2222 = f['prop/p2222/cfg200'][()]\n",
    "# delta = prop_p2222 - propprime_p2222\n",
    "# scale = np.abs(prop_p2222[0, 0, 0, 0])\n",
    "# print(np.max(delta / scale)) # first order entries are of size 10^4"
   ]
  },
  {
   "cell_type": "code",
   "execution_count": null,
   "metadata": {},
   "outputs": [],
   "source": [
    "# file = '/Users/theoares/lqcd/npr_momfrac/examples/analysis_EXAMPLE_output.h5'\n",
    "# f = h5py.File(file, 'r')\n",
    "# S = f['prop/p2222'][()]"
   ]
  },
  {
   "cell_type": "code",
   "execution_count": null,
   "metadata": {},
   "outputs": [],
   "source": [
    "# #confirm 2 point function is the same as Phiala's (it is)\n",
    "# file = '/Users/theoares/lqcd/npr_momfrac/examples/meas/cl3_16_48_b6p1_m0p2450/pion_beam_npr_matrix_200.h5'\n",
    "# f = h5py.File(file, 'r')\n",
    "# S = f['prop/p2222'][()]\n",
    "\n",
    "# file1 = '/Users/theoares/lqcd/npr_momfrac/output/cl3_16_48_b6p1_m0p2450_14570/cfg200.h5'\n",
    "# f1 = h5py.File(file1, 'r')\n",
    "# S1 = f['prop/p2222'][()]\n",
    "\n",
    "# print(S - S1)"
   ]
  },
  {
   "cell_type": "code",
   "execution_count": null,
   "metadata": {},
   "outputs": [],
   "source": [
    "tr1 = np.einsum('aiaj->ij', props['p2222'][0])\n",
    "tr2 = np.einsum('aiaj->ij', props1['p2222'][0])\n",
    "tr1[np.abs(tr1) < 10] = 0\n",
    "tr2[np.abs(tr2) < 10] = 0\n",
    "print(tr1)\n",
    "print(tr2)"
   ]
  },
  {
   "cell_type": "code",
   "execution_count": null,
   "metadata": {},
   "outputs": [],
   "source": [
    "cfgbase = 'cl3_16_48_b6p1_m0p2450'\n",
    "# TODO when I do the next job, change how things are normalized\n",
    "job_num = 14570\n",
    "base = './output/' + cfgbase + '_' + str(job_num)\n",
    "\n",
    "# base = './examples/analysis_EXAMPLE.py'\n",
    "props, threepts = analysis.readfile(base)    # C should be a dictionary whose keys are the momentum slices.\n",
    "\n",
    "V = analysis.get_hypervolume()\n",
    "# for p in props:\n",
    "#     props[p]= props[p] / V    # TODO keep this up to date with the QLUA normalization."
   ]
  },
  {
   "cell_type": "code",
   "execution_count": null,
   "metadata": {},
   "outputs": [],
   "source": [
    "print(Z['p2222'][0, 0])\n",
    "print(Z1['p2222'][0, 0])"
   ]
  },
  {
   "cell_type": "code",
   "execution_count": null,
   "metadata": {},
   "outputs": [],
   "source": [
    "mom_list = analysis.get_mom_list()\n",
    "s = 0    # TODO seed this with something random\n",
    "props_boot = analysis.bootstrap(props, seed = s)\n",
    "threept_boot = analysis.bootstrap(threepts, seed = s)"
   ]
  },
  {
   "cell_type": "code",
   "execution_count": null,
   "metadata": {},
   "outputs": [],
   "source": [
    "props_inv = analysis.invert_prop(props_boot)\n",
    "Γ = analysis.amputate(props_inv, threept_boot)\n",
    "Zq = analysis.quark_renorm(props_inv)\n",
    "Γ_B, Γ_B_inv = analysis.born_term()\n",
    "Z = analysis.get_Z(Zq, Γ, Γ_B_inv)"
   ]
  },
  {
   "cell_type": "code",
   "execution_count": null,
   "metadata": {},
   "outputs": [],
   "source": [
    "μ, σ = analysis.get_statistics_Z(Z)\n",
    "print(μ)\n",
    "print(σ)"
   ]
  },
  {
   "cell_type": "code",
   "execution_count": null,
   "metadata": {},
   "outputs": [],
   "source": [
    "p_squared = np.array([np.abs(analysis.square(p)) for p in mom_list])\n",
    "μ_list = np.array([μ[analysis.plist_to_string(p)] for p in mom_list])\n",
    "σ_list = np.array([σ[analysis.plist_to_string(p)] for p in mom_list])\n",
    "plt.figure()\n",
    "plt.errorbar(p_squared, np.abs(μ_list), yerr = np.abs(σ_list), fmt = 'o')\n",
    "plt.ylabel('$\\mathcal{Z}(p^2)$')\n",
    "plt.xlabel('$-p^2$')\n",
    "plt.title('Original field')\n",
    "plt.show()"
   ]
  },
  {
   "cell_type": "code",
   "execution_count": null,
   "metadata": {},
   "outputs": [],
   "source": [
    "props1, threepts1 = analysis.readfile(base, True)    # C should be a dictionary whose keys are the momentum slices.\n",
    "# for p in props1:\n",
    "#     props1[p]= props1[p] / V    # TODO keep this up to date with the QLUA normalization."
   ]
  },
  {
   "cell_type": "code",
   "execution_count": null,
   "metadata": {},
   "outputs": [],
   "source": [
    "props_boot1 = analysis.bootstrap(props1, seed = s)\n",
    "threept_boot1 = analysis.bootstrap(threepts1, seed = s)"
   ]
  },
  {
   "cell_type": "code",
   "execution_count": null,
   "metadata": {},
   "outputs": [],
   "source": [
    "props_inv1 = analysis.invert_prop(props_boot1)\n",
    "Γ1 = analysis.amputate(props_inv1, threept_boot1)\n",
    "Zq1 = analysis.quark_renorm(props_inv1)\n",
    "Z1 = analysis.get_Z(Zq1, Γ1, Γ_B_inv)"
   ]
  },
  {
   "cell_type": "code",
   "execution_count": null,
   "metadata": {},
   "outputs": [],
   "source": [
    "μ1, σ1 = analysis.get_statistics_Z(Z1)\n",
    "print(μ1)\n",
    "print(σ1)"
   ]
  },
  {
   "cell_type": "code",
   "execution_count": null,
   "metadata": {},
   "outputs": [],
   "source": [
    "μ_list1 = np.array([μ1[analysis.plist_to_string(p)] for p in mom_list])\n",
    "σ_list1 = np.array([σ1[analysis.plist_to_string(p)] for p in mom_list])\n",
    "plt.figure()\n",
    "plt.errorbar(p_squared, np.abs(μ_list1), yerr = np.abs(σ_list1), fmt = 'o')\n",
    "plt.ylabel('$\\mathcal{Z}_{gauge}(p^2)$')\n",
    "plt.xlabel('$-p^2$')\n",
    "plt.title('Gauge transformed field')\n",
    "plt.show()"
   ]
  },
  {
   "cell_type": "code",
   "execution_count": null,
   "metadata": {},
   "outputs": [],
   "source": [
    "Δ = np.abs(μ_list) - np.abs(μ_list1)\n",
    "σ_Δ = np.sqrt(σ_list ** 2 + σ_list1 ** 2)\n",
    "plt.figure()\n",
    "plt.errorbar(p_squared, np.abs(Δ), yerr = np.abs(σ_Δ), fmt = 'o')\n",
    "plt.ylabel('$(\\mathcal{Z} - \\mathcal{Z}_{gauge})(p^2)$')\n",
    "plt.xlabel('$-p^2$')\n",
    "plt.title('Difference in \\mathcal{Z} values')\n",
    "plt.show()"
   ]
  },
  {
   "cell_type": "markdown",
   "metadata": {},
   "source": [
    "There is a phase difference of about -1 between the original field and the gauge transformed field. Is there something I'm doing that's systematically creating that after the code is run?"
   ]
  },
  {
   "cell_type": "code",
   "execution_count": null,
   "metadata": {},
   "outputs": [],
   "source": []
  }
 ],
 "metadata": {
  "kernelspec": {
   "display_name": "Python 3",
   "language": "python",
   "name": "python3"
  },
  "language_info": {
   "codemirror_mode": {
    "name": "ipython",
    "version": 3
   },
   "file_extension": ".py",
   "mimetype": "text/x-python",
   "name": "python",
   "nbconvert_exporter": "python",
   "pygments_lexer": "ipython3",
   "version": "3.7.1"
  },
  "latex_envs": {
   "LaTeX_envs_menu_present": true,
   "autocomplete": true,
   "bibliofile": "biblio.bib",
   "cite_by": "apalike",
   "current_citInitial": 1,
   "eqLabelWithNumbers": true,
   "eqNumInitial": 1,
   "hotkeys": {
    "equation": "Ctrl-E",
    "itemize": "Ctrl-I"
   },
   "labels_anchors": false,
   "latex_user_defs": false,
   "report_style_numbering": false,
   "user_envs_cfg": false
  }
 },
 "nbformat": 4,
 "nbformat_minor": 2
}
