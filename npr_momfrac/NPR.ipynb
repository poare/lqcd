{
 "cells": [
  {
   "cell_type": "code",
   "execution_count": 1,
   "metadata": {},
   "outputs": [],
   "source": [
    "%load_ext autoreload\n",
    "%autoreload 2\n",
    "%matplotlib notebook\n",
    "\n",
    "import numpy as np\n",
    "import matplotlib.pyplot as plt\n",
    "from scipy.optimize import root\n",
    "import h5py\n",
    "import os\n",
    "import analysis"
   ]
  },
  {
   "cell_type": "markdown",
   "metadata": {},
   "source": [
    "## p2222 on configuration 200"
   ]
  },
  {
   "cell_type": "code",
   "execution_count": 2,
   "metadata": {},
   "outputs": [],
   "source": [
    "V = analysis.get_hypervolume()"
   ]
  },
  {
   "cell_type": "code",
   "execution_count": 3,
   "metadata": {},
   "outputs": [],
   "source": [
    "# file = '/Users/theoares/lqcd/npr_momfrac/output/p2222_cfg200/p2222_periodicbc_cfg200.h5'\n",
    "file = '/Users/theoares/lqcd/npr_momfrac/output/p2222_cfg200/p2222_cfg200.h5'\n",
    "# file = '/Users/theoares/lqcd/npr_momfrac/output/p2222_cfg200/job15890_cfg200.h5'\n",
    "f = h5py.File(file, 'r')\n",
    "O11 = f['O11/p2222/cfg200'][()] / V\n",
    "O22 = f['O22/p2222/cfg200'][()] / V\n",
    "O33 = f['O33/p2222/cfg200'][()] / V\n",
    "O44 = f['O44/p2222/cfg200'][()] / V\n",
    "S = f['prop/p2222/cfg200'][()] / V\n",
    "S = np.einsum('ijab->abij', S)\n",
    "O11 = np.einsum('ijab->abij', O11)\n",
    "O22 = np.einsum('ijab->abij', O22)\n",
    "O33 = np.einsum('ijab->abij', O33)\n",
    "O44 = np.einsum('ijab->abij', O44)\n",
    "# G = np.einsum('ijab->abij', f['threept/p2222/cfg200'][()])\n",
    "# Sprime = f['propprime/p2222/cfg200'][()]\n",
    "# Gprime = f['threeptprime/p2222/cfg200'][()]"
   ]
  },
  {
   "cell_type": "code",
   "execution_count": null,
   "metadata": {},
   "outputs": [],
   "source": [
    "trS = np.einsum('aaii', S)"
   ]
  },
  {
   "cell_type": "code",
   "execution_count": null,
   "metadata": {},
   "outputs": [],
   "source": [
    "# z = 1.215e-6 + (1j) * 6.226e-8\n",
    "# # z = 5.62e-3 + (1j) * 1.67e-1\n",
    "# eps = 1e-5\n",
    "# # np.where(np.abs(S - z) < eps)\n",
    "# S[np.abs(S - z) < eps]"
   ]
  },
  {
   "cell_type": "code",
   "execution_count": null,
   "metadata": {},
   "outputs": [],
   "source": [
    "S[0, 0, :, 1]"
   ]
  },
  {
   "cell_type": "code",
   "execution_count": 4,
   "metadata": {},
   "outputs": [
    {
     "data": {
      "text/plain": [
       "array([ 4.61129162e-02+0.00000000e+00j,  2.82997973e-05+1.29778568e-05j,\n",
       "       -9.70907184e-05+2.18535121e-05j,  1.55386947e-04-9.86540875e-05j])"
      ]
     },
     "execution_count": 4,
     "metadata": {},
     "output_type": "execute_result"
    }
   ],
   "source": [
    "O44[0, 0, :, 0]"
   ]
  },
  {
   "cell_type": "code",
   "execution_count": null,
   "metadata": {},
   "outputs": [],
   "source": [
    "def to_numbers(list):\n",
    "    return np.array([x[0] + (1j) * x[1] for x in list])"
   ]
  },
  {
   "cell_type": "code",
   "execution_count": null,
   "metadata": {},
   "outputs": [],
   "source": [
    "L_000_33 = to_numbers([[5.200565627217e-02, 4.625929269271e-18], [-1.201189210035e-02, -7.448045274136e-02],  [-5.537323293781e-02, 1.474611319049e-01], [-1.193649766131e+03, -7.174162948496e+02]])\n",
    "L_000_44 = to_numbers([[4.649166791302e-02, -2.312964634636e-18], [-2.054063402814e-02, 4.986272774051e-02],  [-5.239793126012e-02, -3.437144297630e-02], [-4.708573070626e+02, 2.719705791685e+03]])\n",
    "G_000 = L_000_33 - L_000_44\n",
    "\n",
    "L_001_33 = to_numbers([[-1.201189210035e-02, 7.448045274136e-02],  [3.086237871136e-01, -5.181040781584e-16],  [-4.276886963102e-01, 1.929388425184e+00],  [-1.692918853527e+04, -1.233273209047e+04]])\n",
    "L_001_44 = to_numbers([[-2.054063402814e-02, -4.986272774051e-02],  [-3.690282220026e-01, 2.960594732334e-16],  [2.491917757409e+00, 3.152482114813e-01],  [-6.763376040666e+03, -4.312835215077e+03]])\n",
    "G_001 = L_001_33 - L_001_44"
   ]
  },
  {
   "cell_type": "code",
   "execution_count": null,
   "metadata": {},
   "outputs": [],
   "source": [
    "print(G_000)"
   ]
  },
  {
   "cell_type": "code",
   "execution_count": null,
   "metadata": {},
   "outputs": [],
   "source": [
    "print(G[0, 0, 0, :])"
   ]
  },
  {
   "cell_type": "code",
   "execution_count": null,
   "metadata": {},
   "outputs": [],
   "source": [
    "trS = np.einsum('ijaa->ij', S)\n",
    "trSprime = np.einsum('ijaa->ij', Sprime)\n",
    "trG = np.einsum('ijaa->ij', G)\n",
    "trGprime = np.einsum('ijaa->ij', Gprime)\n",
    "\n",
    "print(trS)\n",
    "print(trSprime)"
   ]
  },
  {
   "cell_type": "markdown",
   "metadata": {},
   "source": [
    "## Other testing code"
   ]
  },
  {
   "cell_type": "code",
   "execution_count": null,
   "metadata": {},
   "outputs": [],
   "source": [
    "# # Run to determine the difference in observables after gauge transformation.\n",
    "# file = '/Users/theoares/lqcd/npr_momfrac/testing/output/cl3_16_48_b6p1_m0p2450_14503/cfg200.h5'\n",
    "# f = h5py.File(file, 'r')\n",
    "# propprime_p2222 = f['propprime/p2222/cfg200'][()]\n",
    "# prop_p2222 = f['prop/p2222/cfg200'][()]\n",
    "# delta = prop_p2222 - propprime_p2222\n",
    "# scale = np.abs(prop_p2222[0, 0, 0, 0])\n",
    "# print(np.max(delta / scale)) # first order entries are of size 10^4"
   ]
  },
  {
   "cell_type": "code",
   "execution_count": null,
   "metadata": {},
   "outputs": [],
   "source": [
    "# file = '/Users/theoares/lqcd/npr_momfrac/examples/analysis_EXAMPLE_output.h5'\n",
    "# f = h5py.File(file, 'r')\n",
    "# S = f['prop/p2222'][()]"
   ]
  },
  {
   "cell_type": "code",
   "execution_count": null,
   "metadata": {},
   "outputs": [],
   "source": [
    "# #confirm 2 point function is the same as Phiala's (it is)\n",
    "# file = '/Users/theoares/lqcd/npr_momfrac/examples/meas/cl3_16_48_b6p1_m0p2450/pion_beam_npr_matrix_200.h5'\n",
    "# f = h5py.File(file, 'r')\n",
    "# S = f['prop/p2222'][()]\n",
    "\n",
    "# file1 = '/Users/theoares/lqcd/npr_momfrac/output/cl3_16_48_b6p1_m0p2450_14779/cfg200.h5'\n",
    "# f1 = h5py.File(file1, 'r')\n",
    "# S1 = f1['prop/p2222/cfg200'][()]\n",
    "\n",
    "# print(S - S1)"
   ]
  },
  {
   "cell_type": "code",
   "execution_count": null,
   "metadata": {},
   "outputs": [],
   "source": [
    "# tr1 = np.einsum('aiaj->ij', props['p2222'][0])\n",
    "# tr2 = np.einsum('aiaj->ij', props1['p2222'][0])\n",
    "# tr1[np.abs(tr1) < 10] = 0\n",
    "# tr2[np.abs(tr2) < 10] = 0\n",
    "# print(tr1)\n",
    "# print(tr2)"
   ]
  },
  {
   "cell_type": "markdown",
   "metadata": {},
   "source": [
    "## Run code on qlua output"
   ]
  },
  {
   "cell_type": "code",
   "execution_count": null,
   "metadata": {},
   "outputs": [],
   "source": [
    "cfgbase = 'cl3_16_48_b6p1_m0p2450'\n",
    "job_num = 14779\n",
    "base = './output/' + cfgbase + '_' + str(job_num)\n",
    "\n",
    "# base = './output/p2222_cfg200'    #just run with one configuration for comparison\n",
    "\n",
    "props, threepts = analysis.readfile(base)\n",
    "\n",
    "V = analysis.get_hypervolume()"
   ]
  },
  {
   "cell_type": "code",
   "execution_count": null,
   "metadata": {},
   "outputs": [],
   "source": [
    "mom_list = analysis.get_mom_list()\n",
    "s = 0    # TODO seed this with something random\n",
    "props_boot = analysis.bootstrap(props, seed = s)\n",
    "threept_boot = analysis.bootstrap(threepts, seed = s)"
   ]
  },
  {
   "cell_type": "code",
   "execution_count": null,
   "metadata": {},
   "outputs": [],
   "source": [
    "props_inv = analysis.invert_prop(props_boot)\n",
    "Γ = analysis.amputate(props_inv, threept_boot)\n",
    "Zq = analysis.quark_renorm(props_inv)\n",
    "Γ_B, Γ_B_inv = analysis.born_term()\n",
    "# TODO what happens if I don't invert Γ_B?\n",
    "# Z = analysis.get_Z(Zq, Γ, Γ_B_inv)\n",
    "Z = analysis.get_Z(Zq, Γ, Γ_B)"
   ]
  },
  {
   "cell_type": "code",
   "execution_count": null,
   "metadata": {
    "scrolled": true
   },
   "outputs": [],
   "source": [
    "#compare with analysis_EXAMPLE.py for p2222 and cfg 200\n",
    "print('Two point')\n",
    "print(props_boot['p2222'][0, 0])\n",
    "print('Two point inverse')\n",
    "print(props_inv['p2222'][0, 0])\n",
    "print('Quark renormalization')\n",
    "print(Zq['p2222'])"
   ]
  },
  {
   "cell_type": "code",
   "execution_count": null,
   "metadata": {},
   "outputs": [],
   "source": [
    "μ, σ = analysis.get_statistics_Z(Z)\n",
    "print(μ)\n",
    "print(σ)"
   ]
  },
  {
   "cell_type": "code",
   "execution_count": null,
   "metadata": {},
   "outputs": [],
   "source": [
    "p_squared = np.array([np.abs(analysis.square(p)) for p in mom_list])\n",
    "μ_list = np.array([μ[analysis.plist_to_string(p)] for p in mom_list])\n",
    "σ_list = np.array([σ[analysis.plist_to_string(p)] for p in mom_list])\n",
    "plt.figure()\n",
    "plt.errorbar(p_squared, np.abs(μ_list), yerr = np.abs(σ_list), fmt = 'o')\n",
    "plt.ylabel('$\\mathcal{Z}(p^2)$')\n",
    "plt.xlabel('$-p^2$')\n",
    "plt.title('Original field')\n",
    "plt.show()"
   ]
  },
  {
   "cell_type": "markdown",
   "metadata": {},
   "source": [
    "## Run on gauge transformed output"
   ]
  },
  {
   "cell_type": "code",
   "execution_count": null,
   "metadata": {},
   "outputs": [],
   "source": [
    "props1, threepts1 = analysis.readfile(base, True)"
   ]
  },
  {
   "cell_type": "code",
   "execution_count": null,
   "metadata": {},
   "outputs": [],
   "source": [
    "props_boot1 = analysis.bootstrap(props1, seed = s)\n",
    "threept_boot1 = analysis.bootstrap(threepts1, seed = s)"
   ]
  },
  {
   "cell_type": "code",
   "execution_count": null,
   "metadata": {},
   "outputs": [],
   "source": [
    "props_inv1 = analysis.invert_prop(props_boot1)\n",
    "Γ1 = analysis.amputate(props_inv1, threept_boot1)\n",
    "Zq1 = analysis.quark_renorm(props_inv1)\n",
    "Z1 = analysis.get_Z(Zq1, Γ1, Γ_B_inv)"
   ]
  },
  {
   "cell_type": "code",
   "execution_count": null,
   "metadata": {},
   "outputs": [],
   "source": [
    "μ1, σ1 = analysis.get_statistics_Z(Z1)\n",
    "print(μ1)\n",
    "print(σ1)"
   ]
  },
  {
   "cell_type": "code",
   "execution_count": null,
   "metadata": {},
   "outputs": [],
   "source": [
    "μ_list1 = np.array([μ1[analysis.plist_to_string(p)] for p in mom_list])\n",
    "σ_list1 = np.array([σ1[analysis.plist_to_string(p)] for p in mom_list])\n",
    "plt.figure()\n",
    "plt.errorbar(p_squared, np.abs(μ_list1), yerr = np.abs(σ_list1), fmt = 'o')\n",
    "plt.ylabel('$\\mathcal{Z}_{gauge}(p^2)$')\n",
    "plt.xlabel('$-p^2$')\n",
    "plt.title('Gauge transformed field')\n",
    "plt.show()"
   ]
  },
  {
   "cell_type": "code",
   "execution_count": null,
   "metadata": {},
   "outputs": [],
   "source": [
    "Δ = np.abs(μ_list) - np.abs(μ_list1)\n",
    "σ_Δ = np.sqrt(σ_list ** 2 + σ_list1 ** 2)\n",
    "plt.figure()\n",
    "plt.errorbar(p_squared, np.abs(Δ), yerr = np.abs(σ_Δ), fmt = 'o')\n",
    "plt.ylabel('$(\\mathcal{Z} - \\mathcal{Z}_{gauge})(p^2)$')\n",
    "plt.xlabel('$-p^2$')\n",
    "plt.title('Difference in \\mathcal{Z} values')\n",
    "plt.show()"
   ]
  },
  {
   "cell_type": "markdown",
   "metadata": {},
   "source": [
    "There is a phase difference of about -1 between the original field and the gauge transformed field. Is there something I'm doing that's systematically creating that after the code is run?"
   ]
  },
  {
   "cell_type": "code",
   "execution_count": null,
   "metadata": {},
   "outputs": [],
   "source": []
  }
 ],
 "metadata": {
  "kernelspec": {
   "display_name": "Python 3",
   "language": "python",
   "name": "python3"
  },
  "language_info": {
   "codemirror_mode": {
    "name": "ipython",
    "version": 3
   },
   "file_extension": ".py",
   "mimetype": "text/x-python",
   "name": "python",
   "nbconvert_exporter": "python",
   "pygments_lexer": "ipython3",
   "version": "3.7.1"
  },
  "latex_envs": {
   "LaTeX_envs_menu_present": true,
   "autocomplete": true,
   "bibliofile": "biblio.bib",
   "cite_by": "apalike",
   "current_citInitial": 1,
   "eqLabelWithNumbers": true,
   "eqNumInitial": 1,
   "hotkeys": {
    "equation": "Ctrl-E",
    "itemize": "Ctrl-I"
   },
   "labels_anchors": false,
   "latex_user_defs": false,
   "report_style_numbering": false,
   "user_envs_cfg": false
  }
 },
 "nbformat": 4,
 "nbformat_minor": 2
}
