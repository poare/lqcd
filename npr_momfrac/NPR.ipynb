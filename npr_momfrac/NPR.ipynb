{
 "cells": [
  {
   "cell_type": "code",
   "execution_count": null,
   "metadata": {},
   "outputs": [],
   "source": [
    "%load_ext autoreload\n",
    "%autoreload 2\n",
    "%matplotlib notebook\n",
    "\n",
    "import numpy as np\n",
    "import matplotlib.pyplot as plt\n",
    "from scipy.optimize import root\n",
    "import h5py\n",
    "import os\n",
    "import analysis"
   ]
  },
  {
   "cell_type": "markdown",
   "metadata": {},
   "source": [
    "## Run code on qlua output"
   ]
  },
  {
   "cell_type": "code",
   "execution_count": null,
   "metadata": {},
   "outputs": [],
   "source": [
    "cfgbase = 'cl3_16_48_b6p1_m0p2450'\n",
    "\n",
    "# some nice looking momentum inversion data.\n",
    "# job_num = 16142\n",
    "# mom_list = []\n",
    "# for i in range(1, 8 + 1):\n",
    "#     for j in range(2, 10 + 1, 2):\n",
    "#         if j + 1 >= i and not (i == 8 and j == 10):\n",
    "#             mom_list.append([i, i, i, j])\n",
    "\n",
    "# job_num = 16165\n",
    "# mom_list = []\n",
    "# for i in range(1, 16 + 1):\n",
    "#     for j in range(i, 16 + 1):\n",
    "#         if j % 2 == 0:\n",
    "#             mom_list.append([i, i, i, j])\n",
    "\n",
    "job_num = 17680\n",
    "# job_num = 17809\n",
    "# When we do the momentum inversion, Z(p) is purely real (although large). We also \n",
    "mom_list = [[1, 1, 1, 1], [2, 2, 2, 2], [3, 3, 3, 3], [4, 4, 4, 4], [5, 5, 5, 5]]\n",
    "\n",
    "analysis.mom_list = mom_list\n",
    "analysis.mom_str_list = [analysis.plist_to_string(p) for p in mom_list]\n",
    "\n",
    "base = './output/' + cfgbase + '_' + str(job_num)\n",
    "# props, threepts = analysis.readfile(base)\n",
    "props, threepts = analysis.readfile(base, dpath = 'prop1/')\n",
    "\n",
    "V = analysis.get_hypervolume()"
   ]
  },
  {
   "cell_type": "code",
   "execution_count": null,
   "metadata": {},
   "outputs": [],
   "source": [
    "mom_list = analysis.get_mom_list()\n",
    "s = 0    # TODO seed this with something random\n",
    "props_boot = analysis.bootstrap(props, seed = s)\n",
    "threept_boot = analysis.bootstrap(threepts, seed = s)"
   ]
  },
  {
   "cell_type": "code",
   "execution_count": null,
   "metadata": {},
   "outputs": [],
   "source": [
    "props_inv = analysis.invert_prop(props_boot)\n",
    "Γ = analysis.amputate(props_inv, threept_boot)\n",
    "Zq = analysis.quark_renorm(props_inv)\n",
    "Γ_B, Γ_B_inv = analysis.born_term()"
   ]
  },
  {
   "cell_type": "code",
   "execution_count": null,
   "metadata": {},
   "outputs": [],
   "source": [
    "Z = analysis.get_Z(Zq, Γ, Γ_B_inv)\n",
    "# Z = analysis.get_Z(Zq, Γ, Γ_B)"
   ]
  },
  {
   "cell_type": "code",
   "execution_count": null,
   "metadata": {
    "scrolled": true
   },
   "outputs": [],
   "source": [
    "#compare with analysis_EXAMPLE.py for p2222 and cfg 200\n",
    "print('Two point')\n",
    "print(props_boot['p2222'][0, 0])\n",
    "print('Two point inverse')\n",
    "print(props_inv['p2222'][0, 0])\n",
    "print('Quark renormalization')\n",
    "print(Zq['p2222'])"
   ]
  },
  {
   "cell_type": "code",
   "execution_count": null,
   "metadata": {},
   "outputs": [],
   "source": [
    "μ, σ = analysis.get_statistics_Z(Z)\n",
    "print(μ)\n",
    "print(σ)"
   ]
  },
  {
   "cell_type": "code",
   "execution_count": null,
   "metadata": {
    "scrolled": false
   },
   "outputs": [],
   "source": [
    "p_squared = np.array([np.abs(analysis.square(p)) for p in mom_list])\n",
    "μ_list = np.array([μ[analysis.plist_to_string(p)] for p in mom_list])\n",
    "σ_list = np.array([σ[analysis.plist_to_string(p)] for p in mom_list])\n",
    "plt.figure()\n",
    "plt.errorbar(p_squared, np.real(μ_list), yerr = np.abs(σ_list), fmt = 'o')\n",
    "# for i in range(len(p_squared)):\n",
    "#     plt.text(p_squared[i], np.abs(μ_list[i]), analysis.mom_list[i])\n",
    "plt.ylabel('$\\mathcal{Z}(p^2)$')\n",
    "plt.xlabel('$p^2$')\n",
    "plt.title('Renormalization of quark operator')\n",
    "plt.show()"
   ]
  },
  {
   "cell_type": "code",
   "execution_count": null,
   "metadata": {},
   "outputs": [],
   "source": [
    "for p, psquared in zip(mom_list, p_squared):\n",
    "    print(p, psquared)"
   ]
  },
  {
   "cell_type": "code",
   "execution_count": null,
   "metadata": {},
   "outputs": [],
   "source": [
    "# plt.savefig('/Users/theoares/lqcd/npr_momfrac/output/cl3_16_48_b6p1_m0p2450_16142/renorm_constant_zoomed_error.pdf')"
   ]
  },
  {
   "cell_type": "code",
   "execution_count": null,
   "metadata": {},
   "outputs": [],
   "source": [
    "# cfg_list, err, means = analysis.error_analysis(Z, 4, 4)"
   ]
  },
  {
   "cell_type": "code",
   "execution_count": null,
   "metadata": {},
   "outputs": [],
   "source": [
    "# plt.figure()\n",
    "# plt.scatter(cfg_list, err)\n",
    "# plt.title('Error scaling at p = [2, 2, 2, 2]')\n",
    "# plt.xlabel('Number configurations')\n",
    "# plt.ylabel('Error')\n",
    "# plt.ylim((.0004, .002))\n",
    "# plt.show()"
   ]
  },
  {
   "cell_type": "code",
   "execution_count": null,
   "metadata": {},
   "outputs": [],
   "source": []
  }
 ],
 "metadata": {
  "kernelspec": {
   "display_name": "Python 3",
   "language": "python",
   "name": "python3"
  },
  "language_info": {
   "codemirror_mode": {
    "name": "ipython",
    "version": 3
   },
   "file_extension": ".py",
   "mimetype": "text/x-python",
   "name": "python",
   "nbconvert_exporter": "python",
   "pygments_lexer": "ipython3",
   "version": "3.7.1"
  },
  "latex_envs": {
   "LaTeX_envs_menu_present": true,
   "autocomplete": true,
   "bibliofile": "biblio.bib",
   "cite_by": "apalike",
   "current_citInitial": 1,
   "eqLabelWithNumbers": true,
   "eqNumInitial": 1,
   "hotkeys": {
    "equation": "Ctrl-E",
    "itemize": "Ctrl-I"
   },
   "labels_anchors": false,
   "latex_user_defs": false,
   "report_style_numbering": false,
   "user_envs_cfg": false
  }
 },
 "nbformat": 4,
 "nbformat_minor": 2
}
