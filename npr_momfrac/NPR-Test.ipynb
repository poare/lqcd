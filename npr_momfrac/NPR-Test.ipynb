{
 "cells": [
  {
   "cell_type": "code",
   "execution_count": 1,
   "metadata": {},
   "outputs": [],
   "source": [
    "%load_ext autoreload\n",
    "%autoreload 2\n",
    "%matplotlib notebook\n",
    "\n",
    "import numpy as np\n",
    "import matplotlib.pyplot as plt\n",
    "from scipy.optimize import root\n",
    "import h5py\n",
    "import os\n",
    "import analysis"
   ]
  },
  {
   "cell_type": "code",
   "execution_count": 2,
   "metadata": {},
   "outputs": [],
   "source": [
    "V = analysis.get_hypervolume()"
   ]
  },
  {
   "cell_type": "code",
   "execution_count": 3,
   "metadata": {},
   "outputs": [],
   "source": [
    "file = '/Users/theoares/lqcd/npr_momfrac/output/through_operator_test/job16029.h5'\n",
    "f = h5py.File(file, 'r')\n",
    "\n",
    "O11_op = f['O_operator11/p2222/cfg200'][()]\n",
    "O22_op = f['O_operator22/p2222/cfg200'][()]\n",
    "O33_op = f['O_operator33/p2222/cfg200'][()]\n",
    "O44_op = f['O_operator44/p2222/cfg200'][()]\n",
    "\n",
    "O11_op_pos = f['O_operator_pos11/p2222/cfg200'][()]\n",
    "O22_op_pos = f['O_operator_pos22/p2222/cfg200'][()]\n",
    "O33_op_pos = f['O_operator_pos33/p2222/cfg200'][()]\n",
    "O44_op_pos = f['O_operator_pos44/p2222/cfg200'][()]\n",
    "\n",
    "O11_op_seq = f['O_sequential11/p2222/cfg200'][()]\n",
    "O22_op_seq = f['O_sequential22/p2222/cfg200'][()]\n",
    "O33_op_seq = f['O_sequential33/p2222/cfg200'][()]\n",
    "O44_op_seq = f['O_sequential44/p2222/cfg200'][()]\n",
    "\n",
    "S_op = f['prop_operator/p2222/cfg200'][()]\n",
    "# S_op_neg = f['prop__operator_neg/p2222/cfg200'][()]\n",
    "\n",
    "# Ground truth\n",
    "O11 = f['O11/p2222/cfg200'][()]\n",
    "O22 = f['O22/p2222/cfg200'][()]\n",
    "O33 = f['O33/p2222/cfg200'][()]\n",
    "O44 = f['O44/p2222/cfg200'][()]\n",
    "S = f['prop/p2222/cfg200'][()]"
   ]
  },
  {
   "cell_type": "code",
   "execution_count": 4,
   "metadata": {},
   "outputs": [],
   "source": [
    "antiprop_zero = f['antiprop_zero/p2222/cfg200'][()]"
   ]
  },
  {
   "cell_type": "code",
   "execution_count": 5,
   "metadata": {},
   "outputs": [
    {
     "name": "stdout",
     "output_type": "stream",
     "text": [
      "[ 0.34649514+0.10208736j  0.06446667+0.15449682j -0.04223509-0.02703287j]\n"
     ]
    }
   ],
   "source": [
    "print(antiprop_zero[0, 0, 0, :])"
   ]
  },
  {
   "cell_type": "code",
   "execution_count": 6,
   "metadata": {},
   "outputs": [
    {
     "name": "stdout",
     "output_type": "stream",
     "text": [
      "[ 5.14168723e-01-2.02384406e-18j -2.20726902e-03-1.05775285e-03j\n",
      "  3.50145145e-04+2.55604688e-03j]\n",
      "[ 0.34649514+0.10208736j  0.06446667+0.15449682j -0.04223509-0.02703287j]\n"
     ]
    }
   ],
   "source": [
    "print(S[0, 0, 0, :] / V)\n",
    "print(S_op[0, 0, 0, :])"
   ]
  },
  {
   "cell_type": "code",
   "execution_count": 7,
   "metadata": {},
   "outputs": [
    {
     "name": "stdout",
     "output_type": "stream",
     "text": [
      "[56552.80788701  +0.j          -811.31463028-659.4555723j\n",
      "   324.72268691 +29.37441573j]\n",
      "[56552.80788701+3.45371301e-13j  -811.31463028-6.59455572e+02j\n",
      "   324.72268691+2.93744157e+01j]\n",
      "[0.36084993+0.07291417j 0.01211902-0.04580125j 0.02135175+0.03633983j]\n",
      "[0.23506442-0.10407474j 0.0480648 +0.10465874j 0.07273074+0.07798256j]\n"
     ]
    }
   ],
   "source": [
    "print(O11[0, 0, 0, :])\n",
    "print(O11_op_seq[0, 0, 0, :])  # these should be the same. Want to make it so that the bottom two are also the same\n",
    "\n",
    "print(O11_op[0, 0, 0, :])\n",
    "print(O11_op_pos[0, 0, 0, :])"
   ]
  },
  {
   "cell_type": "markdown",
   "metadata": {},
   "source": [
    "## p2222 on configuration 200"
   ]
  },
  {
   "cell_type": "code",
   "execution_count": 9,
   "metadata": {},
   "outputs": [],
   "source": [
    "# file = '/Users/theoares/lqcd/npr_momfrac/output/p2222_cfg200/p2222_periodicbc_cfg200.h5'\n",
    "file = '/Users/theoares/lqcd/npr_momfrac/output/p2222_cfg200/p2222_cfg200.h5'\n",
    "# file = '/Users/theoares/lqcd/npr_momfrac/output/p2222_cfg200/job15890_cfg200.h5'\n",
    "f = h5py.File(file, 'r')\n",
    "O11 = f['O11/p2222/cfg200'][()] / V\n",
    "O22 = f['O22/p2222/cfg200'][()] / V\n",
    "O33 = f['O33/p2222/cfg200'][()] / V\n",
    "O44 = f['O44/p2222/cfg200'][()] / V\n",
    "S = f['prop/p2222/cfg200'][()] / V\n",
    "S = np.einsum('ijab->abij', S)\n",
    "O11 = np.einsum('ijab->abij', O11)\n",
    "O22 = np.einsum('ijab->abij', O22)\n",
    "O33 = np.einsum('ijab->abij', O33)\n",
    "O44 = np.einsum('ijab->abij', O44)\n",
    "# G = np.einsum('ijab->abij', f['threept/p2222/cfg200'][()])\n",
    "# Sprime = f['propprime/p2222/cfg200'][()]\n",
    "# Gprime = f['threeptprime/p2222/cfg200'][()]"
   ]
  },
  {
   "cell_type": "code",
   "execution_count": 10,
   "metadata": {},
   "outputs": [
    {
     "data": {
      "text/plain": [
       "array([-4.14810198e-06+7.66974809e-05j,  2.63666908e-01-3.33166293e-19j,\n",
       "       -7.49379199e-06+1.80807364e-04j,  2.67244395e-04+5.72088837e-05j])"
      ]
     },
     "execution_count": 10,
     "metadata": {},
     "output_type": "execute_result"
    }
   ],
   "source": [
    "S[0, 0, :, 1]"
   ]
  },
  {
   "cell_type": "code",
   "execution_count": 11,
   "metadata": {},
   "outputs": [
    {
     "data": {
      "text/plain": [
       "array([ 4.61129162e-02+0.00000000e+00j,  2.82997973e-05+1.29778568e-05j,\n",
       "       -9.70907184e-05+2.18535121e-05j,  1.55386947e-04-9.86540875e-05j])"
      ]
     },
     "execution_count": 11,
     "metadata": {},
     "output_type": "execute_result"
    }
   ],
   "source": [
    "O44[0, 0, :, 0]"
   ]
  },
  {
   "cell_type": "markdown",
   "metadata": {},
   "source": [
    "## Other testing code"
   ]
  },
  {
   "cell_type": "code",
   "execution_count": 12,
   "metadata": {},
   "outputs": [],
   "source": [
    "# # Run to determine the difference in observables after gauge transformation.\n",
    "# file = '/Users/theoares/lqcd/npr_momfrac/testing/output/cl3_16_48_b6p1_m0p2450_14503/cfg200.h5'\n",
    "# f = h5py.File(file, 'r')\n",
    "# propprime_p2222 = f['propprime/p2222/cfg200'][()]\n",
    "# prop_p2222 = f['prop/p2222/cfg200'][()]\n",
    "# delta = prop_p2222 - propprime_p2222\n",
    "# scale = np.abs(prop_p2222[0, 0, 0, 0])\n",
    "# print(np.max(delta / scale)) # first order entries are of size 10^4"
   ]
  },
  {
   "cell_type": "code",
   "execution_count": 13,
   "metadata": {},
   "outputs": [],
   "source": [
    "# file = '/Users/theoares/lqcd/npr_momfrac/examples/analysis_EXAMPLE_output.h5'\n",
    "# f = h5py.File(file, 'r')\n",
    "# S = f['prop/p2222'][()]"
   ]
  },
  {
   "cell_type": "code",
   "execution_count": 14,
   "metadata": {},
   "outputs": [],
   "source": [
    "# #confirm 2 point function is the same as Phiala's (it is)\n",
    "# file = '/Users/theoares/lqcd/npr_momfrac/examples/meas/cl3_16_48_b6p1_m0p2450/pion_beam_npr_matrix_200.h5'\n",
    "# f = h5py.File(file, 'r')\n",
    "# S = f['prop/p2222'][()]\n",
    "\n",
    "# file1 = '/Users/theoares/lqcd/npr_momfrac/output/cl3_16_48_b6p1_m0p2450_14779/cfg200.h5'\n",
    "# f1 = h5py.File(file1, 'r')\n",
    "# S1 = f1['prop/p2222/cfg200'][()]\n",
    "\n",
    "# print(S - S1)"
   ]
  },
  {
   "cell_type": "code",
   "execution_count": 15,
   "metadata": {},
   "outputs": [],
   "source": [
    "# tr1 = np.einsum('aiaj->ij', props['p2222'][0])\n",
    "# tr2 = np.einsum('aiaj->ij', props1['p2222'][0])\n",
    "# tr1[np.abs(tr1) < 10] = 0\n",
    "# tr2[np.abs(tr2) < 10] = 0\n",
    "# print(tr1)\n",
    "# print(tr2)"
   ]
  },
  {
   "cell_type": "code",
   "execution_count": null,
   "metadata": {},
   "outputs": [],
   "source": []
  }
 ],
 "metadata": {
  "kernelspec": {
   "display_name": "Python 3",
   "language": "python",
   "name": "python3"
  },
  "language_info": {
   "codemirror_mode": {
    "name": "ipython",
    "version": 3
   },
   "file_extension": ".py",
   "mimetype": "text/x-python",
   "name": "python",
   "nbconvert_exporter": "python",
   "pygments_lexer": "ipython3",
   "version": "3.7.1"
  },
  "latex_envs": {
   "LaTeX_envs_menu_present": true,
   "autocomplete": true,
   "bibliofile": "biblio.bib",
   "cite_by": "apalike",
   "current_citInitial": 1,
   "eqLabelWithNumbers": true,
   "eqNumInitial": 1,
   "hotkeys": {
    "equation": "Ctrl-E",
    "itemize": "Ctrl-I"
   },
   "labels_anchors": false,
   "latex_user_defs": false,
   "report_style_numbering": false,
   "user_envs_cfg": false
  }
 },
 "nbformat": 4,
 "nbformat_minor": 2
}
