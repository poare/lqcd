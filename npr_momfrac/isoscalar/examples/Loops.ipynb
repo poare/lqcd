{
 "cells": [
  {
   "cell_type": "code",
   "execution_count": 1,
   "metadata": {},
   "outputs": [],
   "source": [
    "import os\n",
    "import h5py\n",
    "import numpy as np"
   ]
  },
  {
   "cell_type": "code",
   "execution_count": 2,
   "metadata": {},
   "outputs": [],
   "source": [
    "statename = \"prot\"\n",
    "intops = 2\n",
    "\n",
    "# infilename = \"/data/d04/pshanahan_nucleardisco/3pt_\"+statename+\".h5\"\n",
    "infilename = \"/Users/theoares/Dropbox (MIT)/research/npr_momfrac/meas/loops/3pt_\"+statename+\".h5\"\n",
    "infile = h5py.File(infilename,'r')\n",
    "\n",
    "Nt = 48"
   ]
  },
  {
   "cell_type": "code",
   "execution_count": 13,
   "metadata": {},
   "outputs": [
    {
     "name": "stdout",
     "output_type": "stream",
     "text": [
      "<KeysViewHDF5 ['p000-d-1-im', 'p000-d-1-re', 'p000-d-2-im', 'p000-d-2-re', 'p000-d-3-im', 'p000-d-3-re', 'p000-d-4-im', 'p000-d-4-re', 'p000-d0-im', 'p000-d0-re', 'p000-d1-im', 'p000-d1-re', 'p000-d2-im', 'p000-d2-re', 'p000-d3-im', 'p000-d3-re', 'p000-d4-im', 'p000-d4-re']>\n"
     ]
    }
   ],
   "source": [
    "cfg_num = 1000\n",
    "cfg = infile['loop/conf_' + str(cfg_num) + '.']\n",
    "print(cfg.keys())"
   ]
  },
  {
   "cell_type": "code",
   "execution_count": 24,
   "metadata": {},
   "outputs": [
    {
     "data": {
      "text/plain": [
       "(48,)"
      ]
     },
     "execution_count": 24,
     "metadata": {},
     "output_type": "execute_result"
    }
   ],
   "source": [
    "cfg['p000-d1-im/g_8'][()].shape"
   ]
  },
  {
   "cell_type": "code",
   "execution_count": 48,
   "metadata": {},
   "outputs": [
    {
     "data": {
      "text/plain": [
       "array([-2.90266087,  2.07084714, -2.31204849,  0.65982629,  0.12261985,\n",
       "        3.13441619, -2.02939332, -1.59992545,  1.6056717 ,  0.5008994 ,\n",
       "        1.41776629,  0.64171379,  0.74581152,  0.81219307, -0.16585757,\n",
       "        3.16353476,  0.968224  , -3.72229549, -1.32640159, -0.45222057,\n",
       "        2.56812707, -0.33823358, -1.5071527 ,  2.14150147,  2.77528525,\n",
       "       -5.5234194 ,  3.08381508,  0.4469839 ,  2.91601361,  0.03985914,\n",
       "       -3.75867785, -2.00691053, -0.63860095,  2.38630222, -2.26080451,\n",
       "       -1.57884323, -1.95443705, -1.72049429,  0.92481526, -0.52690578,\n",
       "        1.12338647, -0.09239472,  0.38240431,  0.73431663,  1.44180951,\n",
       "       -0.50270436, -3.73498079, -2.42221118])"
      ]
     },
     "execution_count": 48,
     "metadata": {},
     "output_type": "execute_result"
    }
   ],
   "source": [
    "infile['loop/conf_3000./p000-d1-re/g_8'][()]"
   ]
  },
  {
   "cell_type": "code",
   "execution_count": 42,
   "metadata": {},
   "outputs": [
    {
     "data": {
      "text/plain": [
       "array([[[ 1.0194678e-03,  1.4712062e-05],\n",
       "        [ 0.0000000e+00,  0.0000000e+00],\n",
       "        [ 0.0000000e+00,  0.0000000e+00],\n",
       "        ...,\n",
       "        [ 0.0000000e+00,  0.0000000e+00],\n",
       "        [ 0.0000000e+00,  0.0000000e+00],\n",
       "        [ 0.0000000e+00,  0.0000000e+00]],\n",
       "\n",
       "       [[ 3.9843289e-04,  2.7046217e-06],\n",
       "        [ 1.2046005e-04,  7.9260133e-07],\n",
       "        [ 0.0000000e+00,  0.0000000e+00],\n",
       "        ...,\n",
       "        [ 0.0000000e+00,  0.0000000e+00],\n",
       "        [ 0.0000000e+00,  0.0000000e+00],\n",
       "        [ 0.0000000e+00,  0.0000000e+00]],\n",
       "\n",
       "       [[ 1.3042417e-04,  7.8954622e-07],\n",
       "        [ 3.9140268e-05,  2.3655737e-07],\n",
       "        [-1.5772232e-04, -9.5691360e-07],\n",
       "        ...,\n",
       "        [ 0.0000000e+00,  0.0000000e+00],\n",
       "        [ 0.0000000e+00,  0.0000000e+00],\n",
       "        [ 0.0000000e+00,  0.0000000e+00]],\n",
       "\n",
       "       ...,\n",
       "\n",
       "       [[ 0.0000000e+00,  0.0000000e+00],\n",
       "        [ 0.0000000e+00,  0.0000000e+00],\n",
       "        [-0.0000000e+00, -0.0000000e+00],\n",
       "        ...,\n",
       "        [ 0.0000000e+00,  0.0000000e+00],\n",
       "        [ 0.0000000e+00,  0.0000000e+00],\n",
       "        [ 0.0000000e+00,  0.0000000e+00]],\n",
       "\n",
       "       [[ 0.0000000e+00,  0.0000000e+00],\n",
       "        [ 0.0000000e+00,  0.0000000e+00],\n",
       "        [-0.0000000e+00, -0.0000000e+00],\n",
       "        ...,\n",
       "        [ 0.0000000e+00,  0.0000000e+00],\n",
       "        [ 0.0000000e+00,  0.0000000e+00],\n",
       "        [ 0.0000000e+00,  0.0000000e+00]],\n",
       "\n",
       "       [[ 0.0000000e+00,  0.0000000e+00],\n",
       "        [ 0.0000000e+00,  0.0000000e+00],\n",
       "        [-0.0000000e+00, -0.0000000e+00],\n",
       "        ...,\n",
       "        [ 0.0000000e+00,  0.0000000e+00],\n",
       "        [ 0.0000000e+00,  0.0000000e+00],\n",
       "        [-0.0000000e+00, -0.0000000e+00]]], dtype=float32)"
      ]
     },
     "execution_count": 42,
     "metadata": {},
     "output_type": "execute_result"
    }
   ],
   "source": [
    "infile['prot/fwd/conf_3000./tsrc_15/p000-d1-re/g_8'][()]"
   ]
  },
  {
   "cell_type": "code",
   "execution_count": null,
   "metadata": {},
   "outputs": [],
   "source": []
  }
 ],
 "metadata": {
  "kernelspec": {
   "display_name": "Python 3",
   "language": "python",
   "name": "python3"
  },
  "language_info": {
   "codemirror_mode": {
    "name": "ipython",
    "version": 3
   },
   "file_extension": ".py",
   "mimetype": "text/x-python",
   "name": "python",
   "nbconvert_exporter": "python",
   "pygments_lexer": "ipython3",
   "version": "3.7.1"
  },
  "latex_envs": {
   "LaTeX_envs_menu_present": true,
   "autocomplete": true,
   "bibliofile": "biblio.bib",
   "cite_by": "apalike",
   "current_citInitial": 1,
   "eqLabelWithNumbers": true,
   "eqNumInitial": 1,
   "hotkeys": {
    "equation": "Ctrl-E",
    "itemize": "Ctrl-I"
   },
   "labels_anchors": false,
   "latex_user_defs": false,
   "report_style_numbering": false,
   "user_envs_cfg": false
  }
 },
 "nbformat": 4,
 "nbformat_minor": 2
}
