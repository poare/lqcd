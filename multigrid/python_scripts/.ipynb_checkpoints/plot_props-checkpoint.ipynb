{
 "cells": [
  {
   "cell_type": "code",
   "execution_count": null,
   "metadata": {},
   "outputs": [],
   "source": [
    "import os\n",
    "import sys\n",
    "import math\n",
    "from time import time\n",
    "import numpy as np\n",
    "import h5py \n",
    "import seaborn as sns\n",
    "import scipy.interpolate as interpolate\n",
    "\n",
    "PREC = 128\n",
    "# PREC = 256\n",
    "import gmpy2 as gmp\n",
    "gmp.get_context().precision = PREC\n",
    "\n",
    "from importlib import reload\n",
    "\n",
    "from utils import *\n",
    "\n",
    "sys.path.append('/Users/theoares/lqcd/utilities')\n",
    "import plottools as pt\n",
    "from formattools import *\n",
    "pt.set_font()\n",
    "default_style = styles['notebook']\n",
    "\n",
    "# from scipy.special import hyp2f1, laguerre\n",
    "\n",
    "sys.path.append('/Users/theoares/inverse_problems/inverse_problems')\n",
    "from inverse_problems import nevanlinna as nv\n",
    "from inverse_problems import carlson as carl\n",
    "# import carlson as carl"
   ]
  }
 ],
 "metadata": {
  "kernelspec": {
   "display_name": "Python 3",
   "language": "python",
   "name": "python3"
  },
  "language_info": {
   "name": "python",
   "version": "3.13.0"
  }
 },
 "nbformat": 4,
 "nbformat_minor": 2
}
